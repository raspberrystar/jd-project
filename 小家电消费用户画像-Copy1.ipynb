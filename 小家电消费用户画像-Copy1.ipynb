{
 "cells": [
  {
   "cell_type": "code",
   "execution_count": 240,
   "metadata": {
    "ExecuteTime": {
     "end_time": "2020-10-07T21:10:38.947701Z",
     "start_time": "2020-10-07T21:10:38.111669Z"
    }
   },
   "outputs": [],
   "source": [
    "import pandas as pd\n",
    "import matplotlib\n",
    "import matplotlib.pyplot as plt\n",
    "import seaborn as sns\n",
    "from datetime import datetime, date, time\n",
    "import re"
   ]
  },
  {
   "cell_type": "code",
   "execution_count": 2,
   "metadata": {
    "ExecuteTime": {
     "end_time": "2020-10-07T18:53:11.660039Z",
     "start_time": "2020-10-07T18:53:11.656051Z"
    }
   },
   "outputs": [],
   "source": [
    "# 解决matplotlib中文乱码\n",
    "\n",
    "matplotlib.rcParams['font.sans-serif'] = ['SimHei']\n",
    "matplotlib.rcParams['font.serif'] = ['SimHei']\n",
    "matplotlib.rcParams['axes.unicode_minus'] = False"
   ]
  },
  {
   "cell_type": "markdown",
   "metadata": {
    "ExecuteTime": {
     "end_time": "2020-10-05T21:00:56.515091Z",
     "start_time": "2020-10-05T21:00:56.507111Z"
    }
   },
   "source": [
    "## 前提\n",
    "有一天，你的运营同事找到你，说京东电商平台最近小家电类目的订单数量、产品浏览量、搜索数量等都有所下降， 现在部门计划对小家电类目进行一次季末促销活动，希望你能针对小家电的用户特征给出一些建议。"
   ]
  },
  {
   "cell_type": "markdown",
   "metadata": {},
   "source": [
    "# 数据合并\n",
    "2020年8月13日-8月19日\n",
    "小家电类目订单数据"
   ]
  },
  {
   "cell_type": "code",
   "execution_count": 3,
   "metadata": {
    "ExecuteTime": {
     "end_time": "2020-10-07T18:53:25.034252Z",
     "start_time": "2020-10-07T18:53:11.661034Z"
    }
   },
   "outputs": [],
   "source": [
    "order_df = pd.read_csv(\"xjd_order_d.csv\", sep='\\t', encoding=\"utf-8\", dtype=str)\n",
    "user_df = pd.read_csv(\"xjd_user_info.csv\", sep='\\t',encoding=\"utf-8\", dtype=str)\n",
    "user_cart_df = pd.read_csv(\"xjd_user_cart.csv\", sep='\\t', encoding=\"utf-8\", dtype=str)"
   ]
  },
  {
   "cell_type": "code",
   "execution_count": 4,
   "metadata": {
    "ExecuteTime": {
     "end_time": "2020-10-07T18:53:25.495015Z",
     "start_time": "2020-10-07T18:53:25.036243Z"
    }
   },
   "outputs": [
    {
     "name": "stdout",
     "output_type": "stream",
     "text": [
      "<class 'pandas.core.frame.DataFrame'>\n",
      "RangeIndex: 607712 entries, 0 to 607711\n",
      "Data columns (total 26 columns):\n",
      " #   Column                   Non-Null Count   Dtype \n",
      "---  ------                   --------------   ----- \n",
      " 0   user_log_acct            607712 non-null  object\n",
      " 1   parent_sale_ord_id       607712 non-null  object\n",
      " 2   sale_ord_id              607712 non-null  object\n",
      " 3   sale_ord_tm              607712 non-null  object\n",
      " 4   sale_ord_dt              607712 non-null  object\n",
      " 5   item_sku_id              607712 non-null  object\n",
      " 6   item_name                607712 non-null  object\n",
      " 7   brandname                607712 non-null  object\n",
      " 8   sale_qtty                607712 non-null  object\n",
      " 9   item_first_cate_name     607712 non-null  object\n",
      " 10  item_second_cate_name    607712 non-null  object\n",
      " 11  item_third_cate_name     607712 non-null  object\n",
      " 12  before_prefr_unit_price  607712 non-null  object\n",
      " 13  after_prefr_unit_price   607712 non-null  object\n",
      " 14  user_actual_pay_amount   607712 non-null  object\n",
      " 15  sale_ord_valid_flag      607712 non-null  object\n",
      " 16  cancel_flag              607712 non-null  object\n",
      " 17  check_account_tm         507505 non-null  object\n",
      " 18  total_offer_amount       607712 non-null  object\n",
      " 19  self_ord_flag            607712 non-null  object\n",
      " 20  user_site_city_id        430092 non-null  object\n",
      " 21  user_site_province_id    430224 non-null  object\n",
      " 22  user_lv_cd               607712 non-null  object\n",
      " 23  rev_addr_province_id     607712 non-null  object\n",
      " 24  rev_addr_city_id         607712 non-null  object\n",
      " 25  wait_check_account_flag  607712 non-null  object\n",
      "dtypes: object(26)\n",
      "memory usage: 120.5+ MB\n"
     ]
    }
   ],
   "source": [
    "# 查看数据缺失情况\n",
    "order_df.info()"
   ]
  },
  {
   "cell_type": "code",
   "execution_count": 5,
   "metadata": {
    "ExecuteTime": {
     "end_time": "2020-10-07T18:53:27.779079Z",
     "start_time": "2020-10-07T18:53:25.496018Z"
    }
   },
   "outputs": [],
   "source": [
    "# change data type\n",
    "\n",
    "order_df['sale_qtty'] = order_df['sale_qtty'].astype('int') # 商品数量\n",
    "order_df['sale_ord_valid_flag'] = order_df['sale_ord_valid_flag'].astype('int') # 订单有效标志\n",
    "order_df['cancel_flag'] = order_df['cancel_flag'].astype('int')  #订单取消标志\n",
    "order_df['self_ord_flag'] = order_df['self_ord_flag'].astype('int') # 自营标志\n",
    "\n",
    "order_df['before_prefr_unit_price'] = order_df['before_prefr_unit_price'].astype('float')\n",
    "order_df['after_prefr_unit_price'] = order_df['after_prefr_unit_price'].astype('float')\n",
    "order_df['user_actual_pay_amount'] = order_df['user_actual_pay_amount'].astype('float')\n",
    "order_df['total_offer_amount'] = order_df['total_offer_amount'].astype('float')\n",
    "\n",
    "order_df.loc[:,'check_account_tm '] = pd.to_datetime(order_df.loc[:,'check_account_tm'])\n",
    "order_df.loc[:,'sale_ord_tm'] = pd.to_datetime(order_df.loc[:,'sale_ord_tm'])\n",
    "order_df.loc[:,'sale_ord_dt'] = pd.to_datetime(order_df.loc[:,'sale_ord_dt'])"
   ]
  },
  {
   "cell_type": "code",
   "execution_count": 6,
   "metadata": {
    "ExecuteTime": {
     "end_time": "2020-10-07T18:53:28.104209Z",
     "start_time": "2020-10-07T18:53:27.780076Z"
    }
   },
   "outputs": [
    {
     "data": {
      "text/plain": [
       "user_site_city_id          177620\n",
       "user_site_province_id      177488\n",
       "check_account_tm           100207\n",
       "check_account_tm           100207\n",
       "item_third_cate_name            0\n",
       "parent_sale_ord_id              0\n",
       "sale_ord_id                     0\n",
       "sale_ord_tm                     0\n",
       "sale_ord_dt                     0\n",
       "item_sku_id                     0\n",
       "item_name                       0\n",
       "brandname                       0\n",
       "sale_qtty                       0\n",
       "item_first_cate_name            0\n",
       "item_second_cate_name           0\n",
       "after_prefr_unit_price          0\n",
       "before_prefr_unit_price         0\n",
       "wait_check_account_flag         0\n",
       "user_actual_pay_amount          0\n",
       "sale_ord_valid_flag             0\n",
       "cancel_flag                     0\n",
       "total_offer_amount              0\n",
       "self_ord_flag                   0\n",
       "user_lv_cd                      0\n",
       "rev_addr_province_id            0\n",
       "rev_addr_city_id                0\n",
       "user_log_acct                   0\n",
       "dtype: int64"
      ]
     },
     "execution_count": 6,
     "metadata": {},
     "output_type": "execute_result"
    }
   ],
   "source": [
    "# missing values\n",
    "order_df.isnull().sum().sort_values(ascending = False)"
   ]
  },
  {
   "cell_type": "code",
   "execution_count": 7,
   "metadata": {
    "ExecuteTime": {
     "end_time": "2020-10-07T18:53:28.129142Z",
     "start_time": "2020-10-07T18:53:28.106204Z"
    }
   },
   "outputs": [
    {
     "data": {
      "text/html": [
       "<div>\n",
       "<style scoped>\n",
       "    .dataframe tbody tr th:only-of-type {\n",
       "        vertical-align: middle;\n",
       "    }\n",
       "\n",
       "    .dataframe tbody tr th {\n",
       "        vertical-align: top;\n",
       "    }\n",
       "\n",
       "    .dataframe thead th {\n",
       "        text-align: right;\n",
       "    }\n",
       "</style>\n",
       "<table border=\"1\" class=\"dataframe\">\n",
       "  <thead>\n",
       "    <tr style=\"text-align: right;\">\n",
       "      <th></th>\n",
       "      <th>user_log_acct</th>\n",
       "      <th>parent_sale_ord_id</th>\n",
       "      <th>sale_ord_id</th>\n",
       "      <th>sale_ord_tm</th>\n",
       "      <th>sale_ord_dt</th>\n",
       "      <th>item_sku_id</th>\n",
       "      <th>item_name</th>\n",
       "      <th>brandname</th>\n",
       "      <th>sale_qtty</th>\n",
       "      <th>item_first_cate_name</th>\n",
       "      <th>...</th>\n",
       "      <th>check_account_tm</th>\n",
       "      <th>total_offer_amount</th>\n",
       "      <th>self_ord_flag</th>\n",
       "      <th>user_site_city_id</th>\n",
       "      <th>user_site_province_id</th>\n",
       "      <th>user_lv_cd</th>\n",
       "      <th>rev_addr_province_id</th>\n",
       "      <th>rev_addr_city_id</th>\n",
       "      <th>wait_check_account_flag</th>\n",
       "      <th>check_account_tm</th>\n",
       "    </tr>\n",
       "  </thead>\n",
       "  <tbody>\n",
       "    <tr>\n",
       "      <th>0</th>\n",
       "      <td>------1289</td>\n",
       "      <td>130704863113</td>\n",
       "      <td>124906164828</td>\n",
       "      <td>2020-08-18 00:02:10</td>\n",
       "      <td>2020-08-18</td>\n",
       "      <td>100009149228</td>\n",
       "      <td>飞利浦 (PHILIPS)蒸汽电熨斗家用 熨烫机 GC4902/28</td>\n",
       "      <td>飞利浦（PHILIPS）</td>\n",
       "      <td>2</td>\n",
       "      <td>家用电器</td>\n",
       "      <td>...</td>\n",
       "      <td>2020-08-18 00:02:25.0</td>\n",
       "      <td>639.4</td>\n",
       "      <td>1</td>\n",
       "      <td>0</td>\n",
       "      <td>0</td>\n",
       "      <td>50</td>\n",
       "      <td>1</td>\n",
       "      <td>2809</td>\n",
       "      <td>0</td>\n",
       "      <td>2020-08-18 00:02:25</td>\n",
       "    </tr>\n",
       "    <tr>\n",
       "      <th>1</th>\n",
       "      <td>------1289</td>\n",
       "      <td>130704863113</td>\n",
       "      <td>124903359952</td>\n",
       "      <td>2020-08-18 00:02:10</td>\n",
       "      <td>2020-08-18</td>\n",
       "      <td>4559760</td>\n",
       "      <td>德尔玛（Deerma） 加湿器 5L大容量 家用卧室静音  迷你香薰空气加湿 DEM-F60...</td>\n",
       "      <td>德尔玛（Deerma）</td>\n",
       "      <td>1</td>\n",
       "      <td>家用电器</td>\n",
       "      <td>...</td>\n",
       "      <td>2020-08-18 00:02:25.0</td>\n",
       "      <td>36.8</td>\n",
       "      <td>1</td>\n",
       "      <td>0</td>\n",
       "      <td>0</td>\n",
       "      <td>50</td>\n",
       "      <td>1</td>\n",
       "      <td>2809</td>\n",
       "      <td>0</td>\n",
       "      <td>2020-08-18 00:02:25</td>\n",
       "    </tr>\n",
       "    <tr>\n",
       "      <th>2</th>\n",
       "      <td>------1289</td>\n",
       "      <td>130704863113</td>\n",
       "      <td>130704863113</td>\n",
       "      <td>2020-08-18 00:02:10</td>\n",
       "      <td>2020-08-18</td>\n",
       "      <td>100009149228</td>\n",
       "      <td>飞利浦 (PHILIPS)蒸汽电熨斗家用 熨烫机 GC4902/28</td>\n",
       "      <td>飞利浦（PHILIPS）</td>\n",
       "      <td>2</td>\n",
       "      <td>家用电器</td>\n",
       "      <td>...</td>\n",
       "      <td>2020-08-18 00:02:23.0</td>\n",
       "      <td>0.0</td>\n",
       "      <td>1</td>\n",
       "      <td>0</td>\n",
       "      <td>0</td>\n",
       "      <td>50</td>\n",
       "      <td>1</td>\n",
       "      <td>2809</td>\n",
       "      <td>0</td>\n",
       "      <td>2020-08-18 00:02:23</td>\n",
       "    </tr>\n",
       "  </tbody>\n",
       "</table>\n",
       "<p>3 rows × 27 columns</p>\n",
       "</div>"
      ],
      "text/plain": [
       "  user_log_acct parent_sale_ord_id   sale_ord_id         sale_ord_tm  \\\n",
       "0    ------1289       130704863113  124906164828 2020-08-18 00:02:10   \n",
       "1    ------1289       130704863113  124903359952 2020-08-18 00:02:10   \n",
       "2    ------1289       130704863113  130704863113 2020-08-18 00:02:10   \n",
       "\n",
       "  sale_ord_dt   item_sku_id  \\\n",
       "0  2020-08-18  100009149228   \n",
       "1  2020-08-18       4559760   \n",
       "2  2020-08-18  100009149228   \n",
       "\n",
       "                                           item_name     brandname  sale_qtty  \\\n",
       "0                 飞利浦 (PHILIPS)蒸汽电熨斗家用 熨烫机 GC4902/28  飞利浦（PHILIPS）          2   \n",
       "1  德尔玛（Deerma） 加湿器 5L大容量 家用卧室静音  迷你香薰空气加湿 DEM-F60...   德尔玛（Deerma）          1   \n",
       "2                 飞利浦 (PHILIPS)蒸汽电熨斗家用 熨烫机 GC4902/28  飞利浦（PHILIPS）          2   \n",
       "\n",
       "  item_first_cate_name  ...       check_account_tm total_offer_amount  \\\n",
       "0                 家用电器  ...  2020-08-18 00:02:25.0              639.4   \n",
       "1                 家用电器  ...  2020-08-18 00:02:25.0               36.8   \n",
       "2                 家用电器  ...  2020-08-18 00:02:23.0                0.0   \n",
       "\n",
       "   self_ord_flag  user_site_city_id  user_site_province_id  user_lv_cd  \\\n",
       "0              1                  0                      0          50   \n",
       "1              1                  0                      0          50   \n",
       "2              1                  0                      0          50   \n",
       "\n",
       "   rev_addr_province_id rev_addr_city_id  wait_check_account_flag  \\\n",
       "0                     1             2809                        0   \n",
       "1                     1             2809                        0   \n",
       "2                     1             2809                        0   \n",
       "\n",
       "    check_account_tm   \n",
       "0 2020-08-18 00:02:25  \n",
       "1 2020-08-18 00:02:25  \n",
       "2 2020-08-18 00:02:23  \n",
       "\n",
       "[3 rows x 27 columns]"
      ]
     },
     "execution_count": 7,
     "metadata": {},
     "output_type": "execute_result"
    }
   ],
   "source": [
    "order_df.head(3)"
   ]
  },
  {
   "cell_type": "code",
   "execution_count": 8,
   "metadata": {
    "ExecuteTime": {
     "end_time": "2020-10-07T18:53:28.379509Z",
     "start_time": "2020-10-07T18:53:28.131137Z"
    }
   },
   "outputs": [
    {
     "name": "stdout",
     "output_type": "stream",
     "text": [
      "<class 'pandas.core.frame.DataFrame'>\n",
      "RangeIndex: 215090 entries, 0 to 215089\n",
      "Data columns (total 39 columns):\n",
      " #   Column                   Non-Null Count   Dtype \n",
      "---  ------                   --------------   ----- \n",
      " 0   user_log_acct            215090 non-null  object\n",
      " 1   ulp_base_sex             215090 non-null  object\n",
      " 2   ulp_base_age             215090 non-null  object\n",
      " 3   ulp_base_income          215090 non-null  object\n",
      " 4   ulp_base_education       215090 non-null  object\n",
      " 5   ulp_base_regprovince     215090 non-null  object\n",
      " 6   ulp_base_regcity         215090 non-null  object\n",
      " 7   ulp_user_reg_source_det  0 non-null       object\n",
      " 8   ulp_user_reg_days        215090 non-null  object\n",
      " 9   ulp_base_regtime         215090 non-null  object\n",
      " 10  ulp_base_ulevel          215090 non-null  object\n",
      " 11  ulp_jd_jx_value          215090 non-null  object\n",
      " 12  ulp_is_plus_member       215090 non-null  object\n",
      " 13  ulp_is_student_customer  215090 non-null  object\n",
      " 14  ulp_base_profession      215090 non-null  object\n",
      " 15  ulp_addr_province        215090 non-null  object\n",
      " 16  ulp_addr_city            215090 non-null  object\n",
      " 17  ulp_addr_county          215090 non-null  object\n",
      " 18  ulp_site_province_name   215090 non-null  object\n",
      " 19  ulp_site_city_name       215090 non-null  object\n",
      " 20  ulp_base_marriage        215090 non-null  object\n",
      " 21  ulp_base_child           215090 non-null  object\n",
      " 22  ulp_seni_childage        215090 non-null  object\n",
      " 23  ulp_seni_childsex        215090 non-null  object\n",
      " 24  ulp_seni_hascar          215090 non-null  object\n",
      " 25  ulp_tmsale_3m_pctatm     215090 non-null  object\n",
      " 26  ulp_old                  215090 non-null  object\n",
      " 27  ulp_plus_used            215090 non-null  object\n",
      " 28  cvl_glob_valuegrp        215090 non-null  object\n",
      " 29  cvl_glob_values          215090 non-null  object\n",
      " 30  cvl_glob_loyalty         215090 non-null  object\n",
      " 31  cvl_glob_platform        215090 non-null  object\n",
      " 32  cfv_sens_promotion       215090 non-null  object\n",
      " 33  cfv_sens_comment         215090 non-null  object\n",
      " 34  reg_user_type_cd         98111 non-null   object\n",
      " 35  member_reg_gender        214310 non-null  object\n",
      " 36  reg_birthday             70394 non-null   object\n",
      " 37  last_login_tm            201671 non-null  object\n",
      " 38  factory_user_flag        215090 non-null  object\n",
      "dtypes: object(39)\n",
      "memory usage: 64.0+ MB\n"
     ]
    }
   ],
   "source": [
    "user_df.info()"
   ]
  },
  {
   "cell_type": "code",
   "execution_count": 9,
   "metadata": {
    "ExecuteTime": {
     "end_time": "2020-10-07T18:53:28.399419Z",
     "start_time": "2020-10-07T18:53:28.380470Z"
    }
   },
   "outputs": [
    {
     "data": {
      "text/html": [
       "<div>\n",
       "<style scoped>\n",
       "    .dataframe tbody tr th:only-of-type {\n",
       "        vertical-align: middle;\n",
       "    }\n",
       "\n",
       "    .dataframe tbody tr th {\n",
       "        vertical-align: top;\n",
       "    }\n",
       "\n",
       "    .dataframe thead th {\n",
       "        text-align: right;\n",
       "    }\n",
       "</style>\n",
       "<table border=\"1\" class=\"dataframe\">\n",
       "  <thead>\n",
       "    <tr style=\"text-align: right;\">\n",
       "      <th></th>\n",
       "      <th>user_log_acct</th>\n",
       "      <th>ulp_base_sex</th>\n",
       "      <th>ulp_base_age</th>\n",
       "      <th>ulp_base_income</th>\n",
       "      <th>ulp_base_education</th>\n",
       "      <th>ulp_base_regprovince</th>\n",
       "      <th>ulp_base_regcity</th>\n",
       "      <th>ulp_user_reg_source_det</th>\n",
       "      <th>ulp_user_reg_days</th>\n",
       "      <th>ulp_base_regtime</th>\n",
       "      <th>...</th>\n",
       "      <th>cvl_glob_values</th>\n",
       "      <th>cvl_glob_loyalty</th>\n",
       "      <th>cvl_glob_platform</th>\n",
       "      <th>cfv_sens_promotion</th>\n",
       "      <th>cfv_sens_comment</th>\n",
       "      <th>reg_user_type_cd</th>\n",
       "      <th>member_reg_gender</th>\n",
       "      <th>reg_birthday</th>\n",
       "      <th>last_login_tm</th>\n",
       "      <th>factory_user_flag</th>\n",
       "    </tr>\n",
       "  </thead>\n",
       "  <tbody>\n",
       "    <tr>\n",
       "      <th>0</th>\n",
       "      <td>1030914909</td>\n",
       "      <td>0</td>\n",
       "      <td>3</td>\n",
       "      <td>-1</td>\n",
       "      <td>3</td>\n",
       "      <td>-1</td>\n",
       "      <td>闵行区</td>\n",
       "      <td>NaN</td>\n",
       "      <td>3164</td>\n",
       "      <td>2011-12</td>\n",
       "      <td>...</td>\n",
       "      <td>0.6480779</td>\n",
       "      <td>中度-忠诚型</td>\n",
       "      <td>-1.0</td>\n",
       "      <td>L1-3</td>\n",
       "      <td>L1-4</td>\n",
       "      <td>NaN</td>\n",
       "      <td>0</td>\n",
       "      <td>NaN</td>\n",
       "      <td>2019-06-08 22:18:32.0</td>\n",
       "      <td>1</td>\n",
       "    </tr>\n",
       "    <tr>\n",
       "      <th>1</th>\n",
       "      <td>103385299</td>\n",
       "      <td>1</td>\n",
       "      <td>3</td>\n",
       "      <td>-1</td>\n",
       "      <td>4</td>\n",
       "      <td>-1</td>\n",
       "      <td>温州市</td>\n",
       "      <td>NaN</td>\n",
       "      <td>3969</td>\n",
       "      <td>2009-10</td>\n",
       "      <td>...</td>\n",
       "      <td>4.023711</td>\n",
       "      <td>高度-忠诚型</td>\n",
       "      <td>-1.0</td>\n",
       "      <td>L1-4</td>\n",
       "      <td>L1-4</td>\n",
       "      <td>44</td>\n",
       "      <td>0</td>\n",
       "      <td>1991-9-9</td>\n",
       "      <td>2020-08-13 18:32:57.0</td>\n",
       "      <td>0</td>\n",
       "    </tr>\n",
       "    <tr>\n",
       "      <th>2</th>\n",
       "      <td>10638747-707577</td>\n",
       "      <td>1</td>\n",
       "      <td>3</td>\n",
       "      <td>-1</td>\n",
       "      <td>3</td>\n",
       "      <td>-1</td>\n",
       "      <td>朝阳区</td>\n",
       "      <td>NaN</td>\n",
       "      <td>2637</td>\n",
       "      <td>2013-05</td>\n",
       "      <td>...</td>\n",
       "      <td>1.6201134</td>\n",
       "      <td>高度-忠诚型</td>\n",
       "      <td>43.38952623913664</td>\n",
       "      <td>L1-2</td>\n",
       "      <td>L1-5</td>\n",
       "      <td>NaN</td>\n",
       "      <td>0</td>\n",
       "      <td>1992-4-3</td>\n",
       "      <td>2020-06-20 17:11:33.0</td>\n",
       "      <td>1</td>\n",
       "    </tr>\n",
       "    <tr>\n",
       "      <th>3</th>\n",
       "      <td>1087096-78471807</td>\n",
       "      <td>1</td>\n",
       "      <td>4</td>\n",
       "      <td>-1</td>\n",
       "      <td>4</td>\n",
       "      <td>-1</td>\n",
       "      <td>-1</td>\n",
       "      <td>NaN</td>\n",
       "      <td>3740</td>\n",
       "      <td>2010-05</td>\n",
       "      <td>...</td>\n",
       "      <td>15.702956</td>\n",
       "      <td>高度-忠诚型</td>\n",
       "      <td>-1.0</td>\n",
       "      <td>L1-3</td>\n",
       "      <td>L1-4</td>\n",
       "      <td>NaN</td>\n",
       "      <td>0</td>\n",
       "      <td>2014-1-1</td>\n",
       "      <td>2020-08-13 12:16:12.0</td>\n",
       "      <td>1</td>\n",
       "    </tr>\n",
       "    <tr>\n",
       "      <th>4</th>\n",
       "      <td>1090625252_m</td>\n",
       "      <td>1</td>\n",
       "      <td>6</td>\n",
       "      <td>-1</td>\n",
       "      <td>2</td>\n",
       "      <td>-1</td>\n",
       "      <td>-1</td>\n",
       "      <td>NaN</td>\n",
       "      <td>2379</td>\n",
       "      <td>2014-02</td>\n",
       "      <td>...</td>\n",
       "      <td>1.3287612</td>\n",
       "      <td>近期-普通型</td>\n",
       "      <td>-1.0</td>\n",
       "      <td>L1-4</td>\n",
       "      <td>L1-3</td>\n",
       "      <td>NaN</td>\n",
       "      <td>2</td>\n",
       "      <td>NaN</td>\n",
       "      <td>2019-09-28 10:29:32.0</td>\n",
       "      <td>1</td>\n",
       "    </tr>\n",
       "  </tbody>\n",
       "</table>\n",
       "<p>5 rows × 39 columns</p>\n",
       "</div>"
      ],
      "text/plain": [
       "      user_log_acct ulp_base_sex ulp_base_age ulp_base_income  \\\n",
       "0        1030914909            0            3              -1   \n",
       "1         103385299            1            3              -1   \n",
       "2   10638747-707577            1            3              -1   \n",
       "3  1087096-78471807            1            4              -1   \n",
       "4      1090625252_m            1            6              -1   \n",
       "\n",
       "  ulp_base_education ulp_base_regprovince ulp_base_regcity  \\\n",
       "0                  3                   -1              闵行区   \n",
       "1                  4                   -1              温州市   \n",
       "2                  3                   -1              朝阳区   \n",
       "3                  4                   -1               -1   \n",
       "4                  2                   -1               -1   \n",
       "\n",
       "  ulp_user_reg_source_det ulp_user_reg_days ulp_base_regtime  ...  \\\n",
       "0                     NaN              3164          2011-12  ...   \n",
       "1                     NaN              3969          2009-10  ...   \n",
       "2                     NaN              2637          2013-05  ...   \n",
       "3                     NaN              3740          2010-05  ...   \n",
       "4                     NaN              2379          2014-02  ...   \n",
       "\n",
       "  cvl_glob_values cvl_glob_loyalty  cvl_glob_platform cfv_sens_promotion  \\\n",
       "0       0.6480779           中度-忠诚型               -1.0               L1-3   \n",
       "1        4.023711           高度-忠诚型               -1.0               L1-4   \n",
       "2       1.6201134           高度-忠诚型  43.38952623913664               L1-2   \n",
       "3       15.702956           高度-忠诚型               -1.0               L1-3   \n",
       "4       1.3287612           近期-普通型               -1.0               L1-4   \n",
       "\n",
       "  cfv_sens_comment reg_user_type_cd member_reg_gender reg_birthday  \\\n",
       "0             L1-4              NaN                 0          NaN   \n",
       "1             L1-4               44                 0     1991-9-9   \n",
       "2             L1-5              NaN                 0     1992-4-3   \n",
       "3             L1-4              NaN                 0     2014-1-1   \n",
       "4             L1-3              NaN                 2          NaN   \n",
       "\n",
       "           last_login_tm factory_user_flag  \n",
       "0  2019-06-08 22:18:32.0                 1  \n",
       "1  2020-08-13 18:32:57.0                 0  \n",
       "2  2020-06-20 17:11:33.0                 1  \n",
       "3  2020-08-13 12:16:12.0                 1  \n",
       "4  2019-09-28 10:29:32.0                 1  \n",
       "\n",
       "[5 rows x 39 columns]"
      ]
     },
     "execution_count": 9,
     "metadata": {},
     "output_type": "execute_result"
    }
   ],
   "source": [
    "user_df.head()"
   ]
  },
  {
   "cell_type": "code",
   "execution_count": 10,
   "metadata": {
    "ExecuteTime": {
     "end_time": "2020-10-07T18:53:28.474219Z",
     "start_time": "2020-10-07T18:53:28.401414Z"
    }
   },
   "outputs": [
    {
     "data": {
      "text/plain": [
       "215090"
      ]
     },
     "execution_count": 10,
     "metadata": {},
     "output_type": "execute_result"
    }
   ],
   "source": [
    "user_df[\"user_log_acct\"].nunique()"
   ]
  },
  {
   "cell_type": "code",
   "execution_count": 11,
   "metadata": {
    "ExecuteTime": {
     "end_time": "2020-10-07T18:53:29.734868Z",
     "start_time": "2020-10-07T18:53:28.475216Z"
    }
   },
   "outputs": [
    {
     "data": {
      "text/html": [
       "<div>\n",
       "<style scoped>\n",
       "    .dataframe tbody tr th:only-of-type {\n",
       "        vertical-align: middle;\n",
       "    }\n",
       "\n",
       "    .dataframe tbody tr th {\n",
       "        vertical-align: top;\n",
       "    }\n",
       "\n",
       "    .dataframe thead th {\n",
       "        text-align: right;\n",
       "    }\n",
       "</style>\n",
       "<table border=\"1\" class=\"dataframe\">\n",
       "  <thead>\n",
       "    <tr style=\"text-align: right;\">\n",
       "      <th></th>\n",
       "      <th>user_log_acct</th>\n",
       "      <th>parent_sale_ord_id</th>\n",
       "      <th>sale_ord_id</th>\n",
       "      <th>sale_ord_tm</th>\n",
       "      <th>sale_ord_dt</th>\n",
       "      <th>item_sku_id</th>\n",
       "      <th>item_name</th>\n",
       "      <th>brandname</th>\n",
       "      <th>sale_qtty</th>\n",
       "      <th>item_first_cate_name</th>\n",
       "      <th>...</th>\n",
       "      <th>cvl_glob_values</th>\n",
       "      <th>cvl_glob_loyalty</th>\n",
       "      <th>cvl_glob_platform</th>\n",
       "      <th>cfv_sens_promotion</th>\n",
       "      <th>cfv_sens_comment</th>\n",
       "      <th>reg_user_type_cd</th>\n",
       "      <th>member_reg_gender</th>\n",
       "      <th>reg_birthday</th>\n",
       "      <th>last_login_tm</th>\n",
       "      <th>factory_user_flag</th>\n",
       "    </tr>\n",
       "  </thead>\n",
       "  <tbody>\n",
       "    <tr>\n",
       "      <th>0</th>\n",
       "      <td>------1289</td>\n",
       "      <td>130704863113</td>\n",
       "      <td>124906164828</td>\n",
       "      <td>2020-08-18 00:02:10</td>\n",
       "      <td>2020-08-18</td>\n",
       "      <td>100009149228</td>\n",
       "      <td>飞利浦 (PHILIPS)蒸汽电熨斗家用 熨烫机 GC4902/28</td>\n",
       "      <td>飞利浦（PHILIPS）</td>\n",
       "      <td>2</td>\n",
       "      <td>家用电器</td>\n",
       "      <td>...</td>\n",
       "      <td>2.0375423</td>\n",
       "      <td>高度-忠诚型</td>\n",
       "      <td>77.97380894394887</td>\n",
       "      <td>L1-4</td>\n",
       "      <td>L1-4</td>\n",
       "      <td>1</td>\n",
       "      <td>0</td>\n",
       "      <td>1997-2-10</td>\n",
       "      <td>2020-08-11 22:55:05.0</td>\n",
       "      <td>0</td>\n",
       "    </tr>\n",
       "    <tr>\n",
       "      <th>1</th>\n",
       "      <td>------1289</td>\n",
       "      <td>130704863113</td>\n",
       "      <td>124903359952</td>\n",
       "      <td>2020-08-18 00:02:10</td>\n",
       "      <td>2020-08-18</td>\n",
       "      <td>4559760</td>\n",
       "      <td>德尔玛（Deerma） 加湿器 5L大容量 家用卧室静音  迷你香薰空气加湿 DEM-F60...</td>\n",
       "      <td>德尔玛（Deerma）</td>\n",
       "      <td>1</td>\n",
       "      <td>家用电器</td>\n",
       "      <td>...</td>\n",
       "      <td>2.0375423</td>\n",
       "      <td>高度-忠诚型</td>\n",
       "      <td>77.97380894394887</td>\n",
       "      <td>L1-4</td>\n",
       "      <td>L1-4</td>\n",
       "      <td>1</td>\n",
       "      <td>0</td>\n",
       "      <td>1997-2-10</td>\n",
       "      <td>2020-08-11 22:55:05.0</td>\n",
       "      <td>0</td>\n",
       "    </tr>\n",
       "    <tr>\n",
       "      <th>2</th>\n",
       "      <td>------1289</td>\n",
       "      <td>130704863113</td>\n",
       "      <td>130704863113</td>\n",
       "      <td>2020-08-18 00:02:10</td>\n",
       "      <td>2020-08-18</td>\n",
       "      <td>100009149228</td>\n",
       "      <td>飞利浦 (PHILIPS)蒸汽电熨斗家用 熨烫机 GC4902/28</td>\n",
       "      <td>飞利浦（PHILIPS）</td>\n",
       "      <td>2</td>\n",
       "      <td>家用电器</td>\n",
       "      <td>...</td>\n",
       "      <td>2.0375423</td>\n",
       "      <td>高度-忠诚型</td>\n",
       "      <td>77.97380894394887</td>\n",
       "      <td>L1-4</td>\n",
       "      <td>L1-4</td>\n",
       "      <td>1</td>\n",
       "      <td>0</td>\n",
       "      <td>1997-2-10</td>\n",
       "      <td>2020-08-11 22:55:05.0</td>\n",
       "      <td>0</td>\n",
       "    </tr>\n",
       "    <tr>\n",
       "      <th>3</th>\n",
       "      <td>------1289</td>\n",
       "      <td>130699964163</td>\n",
       "      <td>130699964163</td>\n",
       "      <td>2020-08-18 00:00:16</td>\n",
       "      <td>2020-08-18</td>\n",
       "      <td>100011967276</td>\n",
       "      <td>爱丽思(IRIS OHYAMA)日本 吸尘器 无线家用充电手持轻便智能吸尘机IC-SDC2C（粉）</td>\n",
       "      <td>IRIS OHYAMA</td>\n",
       "      <td>3</td>\n",
       "      <td>家用电器</td>\n",
       "      <td>...</td>\n",
       "      <td>2.0375423</td>\n",
       "      <td>高度-忠诚型</td>\n",
       "      <td>77.97380894394887</td>\n",
       "      <td>L1-4</td>\n",
       "      <td>L1-4</td>\n",
       "      <td>1</td>\n",
       "      <td>0</td>\n",
       "      <td>1997-2-10</td>\n",
       "      <td>2020-08-11 22:55:05.0</td>\n",
       "      <td>0</td>\n",
       "    </tr>\n",
       "    <tr>\n",
       "      <th>4</th>\n",
       "      <td>------1289</td>\n",
       "      <td>130704863113</td>\n",
       "      <td>124903359952</td>\n",
       "      <td>2020-08-18 00:02:10</td>\n",
       "      <td>2020-08-18</td>\n",
       "      <td>100006533674</td>\n",
       "      <td>德尔玛（Deerma）加湿器净水盒 水箱专用 通用 银离子净水盒</td>\n",
       "      <td>德尔玛（Deerma）</td>\n",
       "      <td>1</td>\n",
       "      <td>家用电器</td>\n",
       "      <td>...</td>\n",
       "      <td>2.0375423</td>\n",
       "      <td>高度-忠诚型</td>\n",
       "      <td>77.97380894394887</td>\n",
       "      <td>L1-4</td>\n",
       "      <td>L1-4</td>\n",
       "      <td>1</td>\n",
       "      <td>0</td>\n",
       "      <td>1997-2-10</td>\n",
       "      <td>2020-08-11 22:55:05.0</td>\n",
       "      <td>0</td>\n",
       "    </tr>\n",
       "  </tbody>\n",
       "</table>\n",
       "<p>5 rows × 65 columns</p>\n",
       "</div>"
      ],
      "text/plain": [
       "  user_log_acct parent_sale_ord_id   sale_ord_id         sale_ord_tm  \\\n",
       "0    ------1289       130704863113  124906164828 2020-08-18 00:02:10   \n",
       "1    ------1289       130704863113  124903359952 2020-08-18 00:02:10   \n",
       "2    ------1289       130704863113  130704863113 2020-08-18 00:02:10   \n",
       "3    ------1289       130699964163  130699964163 2020-08-18 00:00:16   \n",
       "4    ------1289       130704863113  124903359952 2020-08-18 00:02:10   \n",
       "\n",
       "  sale_ord_dt   item_sku_id  \\\n",
       "0  2020-08-18  100009149228   \n",
       "1  2020-08-18       4559760   \n",
       "2  2020-08-18  100009149228   \n",
       "3  2020-08-18  100011967276   \n",
       "4  2020-08-18  100006533674   \n",
       "\n",
       "                                           item_name     brandname  sale_qtty  \\\n",
       "0                 飞利浦 (PHILIPS)蒸汽电熨斗家用 熨烫机 GC4902/28  飞利浦（PHILIPS）          2   \n",
       "1  德尔玛（Deerma） 加湿器 5L大容量 家用卧室静音  迷你香薰空气加湿 DEM-F60...   德尔玛（Deerma）          1   \n",
       "2                 飞利浦 (PHILIPS)蒸汽电熨斗家用 熨烫机 GC4902/28  飞利浦（PHILIPS）          2   \n",
       "3  爱丽思(IRIS OHYAMA)日本 吸尘器 无线家用充电手持轻便智能吸尘机IC-SDC2C（粉）   IRIS OHYAMA          3   \n",
       "4                   德尔玛（Deerma）加湿器净水盒 水箱专用 通用 银离子净水盒   德尔玛（Deerma）          1   \n",
       "\n",
       "  item_first_cate_name  ... cvl_glob_values cvl_glob_loyalty  \\\n",
       "0                 家用电器  ...       2.0375423           高度-忠诚型   \n",
       "1                 家用电器  ...       2.0375423           高度-忠诚型   \n",
       "2                 家用电器  ...       2.0375423           高度-忠诚型   \n",
       "3                 家用电器  ...       2.0375423           高度-忠诚型   \n",
       "4                 家用电器  ...       2.0375423           高度-忠诚型   \n",
       "\n",
       "   cvl_glob_platform  cfv_sens_promotion  cfv_sens_comment  reg_user_type_cd  \\\n",
       "0  77.97380894394887                L1-4              L1-4                 1   \n",
       "1  77.97380894394887                L1-4              L1-4                 1   \n",
       "2  77.97380894394887                L1-4              L1-4                 1   \n",
       "3  77.97380894394887                L1-4              L1-4                 1   \n",
       "4  77.97380894394887                L1-4              L1-4                 1   \n",
       "\n",
       "   member_reg_gender reg_birthday          last_login_tm  factory_user_flag  \n",
       "0                  0    1997-2-10  2020-08-11 22:55:05.0                  0  \n",
       "1                  0    1997-2-10  2020-08-11 22:55:05.0                  0  \n",
       "2                  0    1997-2-10  2020-08-11 22:55:05.0                  0  \n",
       "3                  0    1997-2-10  2020-08-11 22:55:05.0                  0  \n",
       "4                  0    1997-2-10  2020-08-11 22:55:05.0                  0  \n",
       "\n",
       "[5 rows x 65 columns]"
      ]
     },
     "execution_count": 11,
     "metadata": {},
     "output_type": "execute_result"
    }
   ],
   "source": [
    "# 合并order和user表，获取有订单的用户\n",
    "\n",
    "order_user_df = pd.merge(order_df, user_df, on = 'user_log_acct')\n",
    "order_user_df.head()"
   ]
  },
  {
   "cell_type": "code",
   "execution_count": 12,
   "metadata": {
    "ExecuteTime": {
     "end_time": "2020-10-07T18:53:29.741826Z",
     "start_time": "2020-10-07T18:53:29.735843Z"
    }
   },
   "outputs": [
    {
     "data": {
      "text/plain": [
       "(607712, 65)"
      ]
     },
     "execution_count": 12,
     "metadata": {},
     "output_type": "execute_result"
    }
   ],
   "source": [
    "order_user_df.shape"
   ]
  },
  {
   "cell_type": "code",
   "execution_count": 13,
   "metadata": {
    "ExecuteTime": {
     "end_time": "2020-10-07T18:53:30.435077Z",
     "start_time": "2020-10-07T18:53:29.743821Z"
    }
   },
   "outputs": [],
   "source": [
    "# 对下过订单的用户，以用户ID进行去重，保留重复数据的第一个\n",
    "user_info_df = order_user_df.drop_duplicates(subset = [\"user_log_acct\"],keep = \"first\")"
   ]
  },
  {
   "cell_type": "code",
   "execution_count": 14,
   "metadata": {
    "ExecuteTime": {
     "end_time": "2020-10-07T18:53:30.687296Z",
     "start_time": "2020-10-07T18:53:30.435969Z"
    }
   },
   "outputs": [
    {
     "data": {
      "text/html": [
       "<div>\n",
       "<style scoped>\n",
       "    .dataframe tbody tr th:only-of-type {\n",
       "        vertical-align: middle;\n",
       "    }\n",
       "\n",
       "    .dataframe tbody tr th {\n",
       "        vertical-align: top;\n",
       "    }\n",
       "\n",
       "    .dataframe thead th {\n",
       "        text-align: right;\n",
       "    }\n",
       "</style>\n",
       "<table border=\"1\" class=\"dataframe\">\n",
       "  <thead>\n",
       "    <tr style=\"text-align: right;\">\n",
       "      <th></th>\n",
       "      <th>user_log_acct</th>\n",
       "      <th>parent_sale_ord_id</th>\n",
       "      <th>sale_ord_id</th>\n",
       "      <th>sale_ord_tm</th>\n",
       "      <th>sale_ord_dt</th>\n",
       "      <th>item_sku_id</th>\n",
       "      <th>item_name</th>\n",
       "      <th>brandname</th>\n",
       "      <th>sale_qtty</th>\n",
       "      <th>item_first_cate_name</th>\n",
       "      <th>...</th>\n",
       "      <th>cvl_glob_values</th>\n",
       "      <th>cvl_glob_loyalty</th>\n",
       "      <th>cvl_glob_platform</th>\n",
       "      <th>cfv_sens_promotion</th>\n",
       "      <th>cfv_sens_comment</th>\n",
       "      <th>reg_user_type_cd</th>\n",
       "      <th>member_reg_gender</th>\n",
       "      <th>reg_birthday</th>\n",
       "      <th>last_login_tm</th>\n",
       "      <th>factory_user_flag</th>\n",
       "    </tr>\n",
       "  </thead>\n",
       "  <tbody>\n",
       "    <tr>\n",
       "      <th>0</th>\n",
       "      <td>------1289</td>\n",
       "      <td>130704863113</td>\n",
       "      <td>124906164828</td>\n",
       "      <td>2020-08-18 00:02:10</td>\n",
       "      <td>2020-08-18</td>\n",
       "      <td>100009149228</td>\n",
       "      <td>飞利浦 (PHILIPS)蒸汽电熨斗家用 熨烫机 GC4902/28</td>\n",
       "      <td>飞利浦（PHILIPS）</td>\n",
       "      <td>2</td>\n",
       "      <td>家用电器</td>\n",
       "      <td>...</td>\n",
       "      <td>2.0375423</td>\n",
       "      <td>高度-忠诚型</td>\n",
       "      <td>77.97380894394887</td>\n",
       "      <td>L1-4</td>\n",
       "      <td>L1-4</td>\n",
       "      <td>1</td>\n",
       "      <td>0</td>\n",
       "      <td>1997-2-10</td>\n",
       "      <td>2020-08-11 22:55:05.0</td>\n",
       "      <td>0</td>\n",
       "    </tr>\n",
       "    <tr>\n",
       "      <th>7</th>\n",
       "      <td>---刺猬</td>\n",
       "      <td>130744622338</td>\n",
       "      <td>130744622338</td>\n",
       "      <td>2020-08-18 18:11:35</td>\n",
       "      <td>2020-08-18</td>\n",
       "      <td>100001679413</td>\n",
       "      <td>安吉尔（Angel）茶吧机立式家用办公室饮水机多功能自动上水柜式茶吧机下置水桶式CB2705...</td>\n",
       "      <td>安吉尔（Angel）</td>\n",
       "      <td>1</td>\n",
       "      <td>家用电器</td>\n",
       "      <td>...</td>\n",
       "      <td>1.8591628</td>\n",
       "      <td>高度-忠诚型</td>\n",
       "      <td>79.13798834497094</td>\n",
       "      <td>L1-2</td>\n",
       "      <td>L1-5</td>\n",
       "      <td>NaN</td>\n",
       "      <td>2</td>\n",
       "      <td>NaN</td>\n",
       "      <td>2019-12-11 18:29:44.0</td>\n",
       "      <td>1</td>\n",
       "    </tr>\n",
       "    <tr>\n",
       "      <th>10</th>\n",
       "      <td>--寂</td>\n",
       "      <td>124775599894</td>\n",
       "      <td>124775599894</td>\n",
       "      <td>2020-08-15 12:49:06</td>\n",
       "      <td>2020-08-15</td>\n",
       "      <td>2392546</td>\n",
       "      <td>赛亿（Shinee）小风扇 台扇/台夹扇 壁扇 迷你静音学生宿舍床头办公室桌面换气电风扇FJ...</td>\n",
       "      <td>赛亿（Shinee）</td>\n",
       "      <td>1</td>\n",
       "      <td>家用电器</td>\n",
       "      <td>...</td>\n",
       "      <td>3.1875074</td>\n",
       "      <td>高度-忠诚型</td>\n",
       "      <td>-1.0</td>\n",
       "      <td>L1-4</td>\n",
       "      <td>L1-5</td>\n",
       "      <td>NaN</td>\n",
       "      <td>2</td>\n",
       "      <td>NaN</td>\n",
       "      <td>2020-02-25 15:01:41.0</td>\n",
       "      <td>1</td>\n",
       "    </tr>\n",
       "    <tr>\n",
       "      <th>13</th>\n",
       "      <td>-love明-</td>\n",
       "      <td>130503457517</td>\n",
       "      <td>130501451054</td>\n",
       "      <td>2020-08-15 19:47:49</td>\n",
       "      <td>2020-08-15</td>\n",
       "      <td>3085665</td>\n",
       "      <td>松下（Panasonic）吸尘器MC-WF350手持式真空吸尘器家用超大吸力手提式系列吸尘器...</td>\n",
       "      <td>松下（Panasonic）</td>\n",
       "      <td>1</td>\n",
       "      <td>家用电器</td>\n",
       "      <td>...</td>\n",
       "      <td>9.721487</td>\n",
       "      <td>高度-忠诚型</td>\n",
       "      <td>69.12535255785926</td>\n",
       "      <td>L1-4</td>\n",
       "      <td>L1-5</td>\n",
       "      <td>NaN</td>\n",
       "      <td>0</td>\n",
       "      <td>1988-1-17</td>\n",
       "      <td>2020-08-08 20:34:47.0</td>\n",
       "      <td>1</td>\n",
       "    </tr>\n",
       "    <tr>\n",
       "      <th>16</th>\n",
       "      <td>-zhongzhong</td>\n",
       "      <td>124778603709</td>\n",
       "      <td>130550058117</td>\n",
       "      <td>2020-08-15 12:53:08</td>\n",
       "      <td>2020-08-15</td>\n",
       "      <td>100012373764</td>\n",
       "      <td>格力 （GREE）新品家用智能遥控定时电风扇/塔式落地扇/直流变频电扇/立式塔扇/无叶风扇F...</td>\n",
       "      <td>格力（GREE）</td>\n",
       "      <td>1</td>\n",
       "      <td>家用电器</td>\n",
       "      <td>...</td>\n",
       "      <td>18.505648</td>\n",
       "      <td>高度-忠诚型</td>\n",
       "      <td>63.646321011381815</td>\n",
       "      <td>L1-3</td>\n",
       "      <td>L1-5</td>\n",
       "      <td>NaN</td>\n",
       "      <td>0</td>\n",
       "      <td>1986-10-22</td>\n",
       "      <td>2020-08-12 14:24:47.0</td>\n",
       "      <td>1</td>\n",
       "    </tr>\n",
       "    <tr>\n",
       "      <th>...</th>\n",
       "      <td>...</td>\n",
       "      <td>...</td>\n",
       "      <td>...</td>\n",
       "      <td>...</td>\n",
       "      <td>...</td>\n",
       "      <td>...</td>\n",
       "      <td>...</td>\n",
       "      <td>...</td>\n",
       "      <td>...</td>\n",
       "      <td>...</td>\n",
       "      <td>...</td>\n",
       "      <td>...</td>\n",
       "      <td>...</td>\n",
       "      <td>...</td>\n",
       "      <td>...</td>\n",
       "      <td>...</td>\n",
       "      <td>...</td>\n",
       "      <td>...</td>\n",
       "      <td>...</td>\n",
       "      <td>...</td>\n",
       "      <td>...</td>\n",
       "    </tr>\n",
       "    <tr>\n",
       "      <th>607704</th>\n",
       "      <td>龙龙豆豆1988</td>\n",
       "      <td>124905744754</td>\n",
       "      <td>124905744754</td>\n",
       "      <td>2020-08-18 01:43:56</td>\n",
       "      <td>2020-08-18</td>\n",
       "      <td>5149337</td>\n",
       "      <td>碧然德（BRITA）家用净水壶 滤水壶滤芯 MAXTRA+LE 去水垢专家滤芯 6枚装</td>\n",
       "      <td>碧然德</td>\n",
       "      <td>3</td>\n",
       "      <td>家用电器</td>\n",
       "      <td>...</td>\n",
       "      <td>6.1628323</td>\n",
       "      <td>高度-忠诚型</td>\n",
       "      <td>85.79622152813988</td>\n",
       "      <td>L1-4</td>\n",
       "      <td>L1-5</td>\n",
       "      <td>NaN</td>\n",
       "      <td>1</td>\n",
       "      <td>1988-12-13</td>\n",
       "      <td>2020-08-06 10:15:03.0</td>\n",
       "      <td>1</td>\n",
       "    </tr>\n",
       "    <tr>\n",
       "      <th>607706</th>\n",
       "      <td>龚凤波</td>\n",
       "      <td>124863599292</td>\n",
       "      <td>124863599292</td>\n",
       "      <td>2020-08-17 08:13:19</td>\n",
       "      <td>2020-08-17</td>\n",
       "      <td>100005221904</td>\n",
       "      <td>康佳（KONKA）大型家用商用空调扇 制冷风扇 冷风机 冷风扇 车间食堂餐厅网吧大排档移动工...</td>\n",
       "      <td>康佳（KONKA）</td>\n",
       "      <td>1</td>\n",
       "      <td>家用电器</td>\n",
       "      <td>...</td>\n",
       "      <td>3.9117951</td>\n",
       "      <td>高度-忠诚型</td>\n",
       "      <td>-1.0</td>\n",
       "      <td>L1-2</td>\n",
       "      <td>L1-3</td>\n",
       "      <td>1</td>\n",
       "      <td>2</td>\n",
       "      <td>NaN</td>\n",
       "      <td>2017-04-28 14:18:32.0</td>\n",
       "      <td>0</td>\n",
       "    </tr>\n",
       "    <tr>\n",
       "      <th>607707</th>\n",
       "      <td>龚天睿</td>\n",
       "      <td>124772876191</td>\n",
       "      <td>124772404564</td>\n",
       "      <td>2020-08-15 11:03:24</td>\n",
       "      <td>2020-08-15</td>\n",
       "      <td>5149351</td>\n",
       "      <td>碧然德（BRITA）家用净水壶 滤水壶滤芯 MAXTRA+LE 去水垢专家滤芯 3枚装</td>\n",
       "      <td>碧然德</td>\n",
       "      <td>1</td>\n",
       "      <td>家用电器</td>\n",
       "      <td>...</td>\n",
       "      <td>2.4423106</td>\n",
       "      <td>高度-忠诚型</td>\n",
       "      <td>74.56211872975473</td>\n",
       "      <td>L1-4</td>\n",
       "      <td>L1-5</td>\n",
       "      <td>NaN</td>\n",
       "      <td>0</td>\n",
       "      <td>2011-1-1</td>\n",
       "      <td>2019-12-04 22:35:59.0</td>\n",
       "      <td>1</td>\n",
       "    </tr>\n",
       "    <tr>\n",
       "      <th>607710</th>\n",
       "      <td>龚思嘉</td>\n",
       "      <td>124875168188</td>\n",
       "      <td>124875168188</td>\n",
       "      <td>2020-08-17 12:35:34</td>\n",
       "      <td>2020-08-17</td>\n",
       "      <td>4460778</td>\n",
       "      <td>沁园（TRULIVA）家用净水器 即滤型超滤机 长寿命滤芯 无废水 矿物质净水机 QJ-UF...</td>\n",
       "      <td>沁园（TRULIVA）</td>\n",
       "      <td>1</td>\n",
       "      <td>家用电器</td>\n",
       "      <td>...</td>\n",
       "      <td>7.002889</td>\n",
       "      <td>高度-忠诚型</td>\n",
       "      <td>15.897319691476284</td>\n",
       "      <td>L1-4</td>\n",
       "      <td>L1-5</td>\n",
       "      <td>NaN</td>\n",
       "      <td>0</td>\n",
       "      <td>0001-1-1</td>\n",
       "      <td>2019-11-02 09:57:09.0</td>\n",
       "      <td>1</td>\n",
       "    </tr>\n",
       "    <tr>\n",
       "      <th>607711</th>\n",
       "      <td>龚磊gonglei31550</td>\n",
       "      <td>130817561991</td>\n",
       "      <td>130817561991</td>\n",
       "      <td>2020-08-19 18:14:21</td>\n",
       "      <td>2020-08-19</td>\n",
       "      <td>61063726440</td>\n",
       "      <td>杉贝电话机助响器 座机铃声放大器 固定手机响铃器声音扩音器超大特大</td>\n",
       "      <td>杉贝</td>\n",
       "      <td>1</td>\n",
       "      <td>家用电器</td>\n",
       "      <td>...</td>\n",
       "      <td>1.5375528</td>\n",
       "      <td>高度-忠诚型</td>\n",
       "      <td>-1.0</td>\n",
       "      <td>L1-4</td>\n",
       "      <td>L1-3</td>\n",
       "      <td>NaN</td>\n",
       "      <td>0</td>\n",
       "      <td>1989-12-30</td>\n",
       "      <td>2020-03-28 18:08:50.0</td>\n",
       "      <td>1</td>\n",
       "    </tr>\n",
       "  </tbody>\n",
       "</table>\n",
       "<p>215090 rows × 65 columns</p>\n",
       "</div>"
      ],
      "text/plain": [
       "         user_log_acct parent_sale_ord_id   sale_ord_id         sale_ord_tm  \\\n",
       "0           ------1289       130704863113  124906164828 2020-08-18 00:02:10   \n",
       "7                ---刺猬       130744622338  130744622338 2020-08-18 18:11:35   \n",
       "10                 --寂       124775599894  124775599894 2020-08-15 12:49:06   \n",
       "13             -love明-       130503457517  130501451054 2020-08-15 19:47:49   \n",
       "16         -zhongzhong       124778603709  130550058117 2020-08-15 12:53:08   \n",
       "...                ...                ...           ...                 ...   \n",
       "607704        龙龙豆豆1988       124905744754  124905744754 2020-08-18 01:43:56   \n",
       "607706             龚凤波       124863599292  124863599292 2020-08-17 08:13:19   \n",
       "607707             龚天睿       124772876191  124772404564 2020-08-15 11:03:24   \n",
       "607710             龚思嘉       124875168188  124875168188 2020-08-17 12:35:34   \n",
       "607711  龚磊gonglei31550       130817561991  130817561991 2020-08-19 18:14:21   \n",
       "\n",
       "       sale_ord_dt   item_sku_id  \\\n",
       "0       2020-08-18  100009149228   \n",
       "7       2020-08-18  100001679413   \n",
       "10      2020-08-15       2392546   \n",
       "13      2020-08-15       3085665   \n",
       "16      2020-08-15  100012373764   \n",
       "...            ...           ...   \n",
       "607704  2020-08-18       5149337   \n",
       "607706  2020-08-17  100005221904   \n",
       "607707  2020-08-15       5149351   \n",
       "607710  2020-08-17       4460778   \n",
       "607711  2020-08-19   61063726440   \n",
       "\n",
       "                                                item_name      brandname  \\\n",
       "0                      飞利浦 (PHILIPS)蒸汽电熨斗家用 熨烫机 GC4902/28   飞利浦（PHILIPS）   \n",
       "7       安吉尔（Angel）茶吧机立式家用办公室饮水机多功能自动上水柜式茶吧机下置水桶式CB2705...     安吉尔（Angel）   \n",
       "10      赛亿（Shinee）小风扇 台扇/台夹扇 壁扇 迷你静音学生宿舍床头办公室桌面换气电风扇FJ...     赛亿（Shinee）   \n",
       "13      松下（Panasonic）吸尘器MC-WF350手持式真空吸尘器家用超大吸力手提式系列吸尘器...  松下（Panasonic）   \n",
       "16      格力 （GREE）新品家用智能遥控定时电风扇/塔式落地扇/直流变频电扇/立式塔扇/无叶风扇F...       格力（GREE）   \n",
       "...                                                   ...            ...   \n",
       "607704        碧然德（BRITA）家用净水壶 滤水壶滤芯 MAXTRA+LE 去水垢专家滤芯 6枚装            碧然德   \n",
       "607706  康佳（KONKA）大型家用商用空调扇 制冷风扇 冷风机 冷风扇 车间食堂餐厅网吧大排档移动工...      康佳（KONKA）   \n",
       "607707        碧然德（BRITA）家用净水壶 滤水壶滤芯 MAXTRA+LE 去水垢专家滤芯 3枚装            碧然德   \n",
       "607710  沁园（TRULIVA）家用净水器 即滤型超滤机 长寿命滤芯 无废水 矿物质净水机 QJ-UF...    沁园（TRULIVA）   \n",
       "607711                  杉贝电话机助响器 座机铃声放大器 固定手机响铃器声音扩音器超大特大             杉贝   \n",
       "\n",
       "        sale_qtty item_first_cate_name  ... cvl_glob_values cvl_glob_loyalty  \\\n",
       "0               2                 家用电器  ...       2.0375423           高度-忠诚型   \n",
       "7               1                 家用电器  ...       1.8591628           高度-忠诚型   \n",
       "10              1                 家用电器  ...       3.1875074           高度-忠诚型   \n",
       "13              1                 家用电器  ...        9.721487           高度-忠诚型   \n",
       "16              1                 家用电器  ...       18.505648           高度-忠诚型   \n",
       "...           ...                  ...  ...             ...              ...   \n",
       "607704          3                 家用电器  ...       6.1628323           高度-忠诚型   \n",
       "607706          1                 家用电器  ...       3.9117951           高度-忠诚型   \n",
       "607707          1                 家用电器  ...       2.4423106           高度-忠诚型   \n",
       "607710          1                 家用电器  ...        7.002889           高度-忠诚型   \n",
       "607711          1                 家用电器  ...       1.5375528           高度-忠诚型   \n",
       "\n",
       "         cvl_glob_platform  cfv_sens_promotion  cfv_sens_comment  \\\n",
       "0        77.97380894394887                L1-4              L1-4   \n",
       "7        79.13798834497094                L1-2              L1-5   \n",
       "10                    -1.0                L1-4              L1-5   \n",
       "13       69.12535255785926                L1-4              L1-5   \n",
       "16      63.646321011381815                L1-3              L1-5   \n",
       "...                    ...                 ...               ...   \n",
       "607704   85.79622152813988                L1-4              L1-5   \n",
       "607706                -1.0                L1-2              L1-3   \n",
       "607707   74.56211872975473                L1-4              L1-5   \n",
       "607710  15.897319691476284                L1-4              L1-5   \n",
       "607711                -1.0                L1-4              L1-3   \n",
       "\n",
       "        reg_user_type_cd  member_reg_gender reg_birthday  \\\n",
       "0                      1                  0    1997-2-10   \n",
       "7                    NaN                  2          NaN   \n",
       "10                   NaN                  2          NaN   \n",
       "13                   NaN                  0    1988-1-17   \n",
       "16                   NaN                  0   1986-10-22   \n",
       "...                  ...                ...          ...   \n",
       "607704               NaN                  1   1988-12-13   \n",
       "607706                 1                  2          NaN   \n",
       "607707               NaN                  0     2011-1-1   \n",
       "607710               NaN                  0     0001-1-1   \n",
       "607711               NaN                  0   1989-12-30   \n",
       "\n",
       "                last_login_tm  factory_user_flag  \n",
       "0       2020-08-11 22:55:05.0                  0  \n",
       "7       2019-12-11 18:29:44.0                  1  \n",
       "10      2020-02-25 15:01:41.0                  1  \n",
       "13      2020-08-08 20:34:47.0                  1  \n",
       "16      2020-08-12 14:24:47.0                  1  \n",
       "...                       ...                ...  \n",
       "607704  2020-08-06 10:15:03.0                  1  \n",
       "607706  2017-04-28 14:18:32.0                  0  \n",
       "607707  2019-12-04 22:35:59.0                  1  \n",
       "607710  2019-11-02 09:57:09.0                  1  \n",
       "607711  2020-03-28 18:08:50.0                  1  \n",
       "\n",
       "[215090 rows x 65 columns]"
      ]
     },
     "execution_count": 14,
     "metadata": {},
     "output_type": "execute_result"
    }
   ],
   "source": [
    "user_info_df"
   ]
  },
  {
   "cell_type": "markdown",
   "metadata": {},
   "source": [
    "# 用户基本属性"
   ]
  },
  {
   "cell_type": "markdown",
   "metadata": {
    "ExecuteTime": {
     "end_time": "2020-10-05T16:13:44.241041Z",
     "start_time": "2020-10-05T16:13:44.239037Z"
    }
   },
   "source": [
    "## 性别分布\n",
    "\n",
    "在全部订单中，只要下过单的用户（无论订单是否有效），都计算在内"
   ]
  },
  {
   "cell_type": "code",
   "execution_count": 79,
   "metadata": {
    "ExecuteTime": {
     "end_time": "2020-10-07T19:21:05.349651Z",
     "start_time": "2020-10-07T19:21:05.326712Z"
    }
   },
   "outputs": [
    {
     "data": {
      "text/html": [
       "<div>\n",
       "<style scoped>\n",
       "    .dataframe tbody tr th:only-of-type {\n",
       "        vertical-align: middle;\n",
       "    }\n",
       "\n",
       "    .dataframe tbody tr th {\n",
       "        vertical-align: top;\n",
       "    }\n",
       "\n",
       "    .dataframe thead th {\n",
       "        text-align: right;\n",
       "    }\n",
       "</style>\n",
       "<table border=\"1\" class=\"dataframe\">\n",
       "  <thead>\n",
       "    <tr style=\"text-align: right;\">\n",
       "      <th></th>\n",
       "      <th>ulp_base_sex</th>\n",
       "      <th>ulp_base_sex_count</th>\n",
       "    </tr>\n",
       "  </thead>\n",
       "  <tbody>\n",
       "    <tr>\n",
       "      <th>0</th>\n",
       "      <td>-1</td>\n",
       "      <td>2164</td>\n",
       "    </tr>\n",
       "    <tr>\n",
       "      <th>1</th>\n",
       "      <td>0</td>\n",
       "      <td>95974</td>\n",
       "    </tr>\n",
       "    <tr>\n",
       "      <th>2</th>\n",
       "      <td>1</td>\n",
       "      <td>116952</td>\n",
       "    </tr>\n",
       "  </tbody>\n",
       "</table>\n",
       "</div>"
      ],
      "text/plain": [
       "  ulp_base_sex  ulp_base_sex_count\n",
       "0           -1                2164\n",
       "1            0               95974\n",
       "2            1              116952"
      ]
     },
     "execution_count": 79,
     "metadata": {},
     "output_type": "execute_result"
    }
   ],
   "source": [
    "user_sex_df = user_info_df.groupby([\"ulp_base_sex\"],as_index=False)[\"user_log_acct\"].agg({'ulp_base_sex_count':'count'})\n",
    "user_sex_df"
   ]
  },
  {
   "cell_type": "code",
   "execution_count": 80,
   "metadata": {
    "ExecuteTime": {
     "end_time": "2020-10-07T19:21:39.098185Z",
     "start_time": "2020-10-07T19:21:39.094197Z"
    }
   },
   "outputs": [],
   "source": [
    "female_user = user_sex_df['ulp_base_sex_count'][1] # 女性用户\n",
    "male_user = user_sex_df['ulp_base_sex_count'][2] # 男性用户"
   ]
  },
  {
   "cell_type": "code",
   "execution_count": 81,
   "metadata": {
    "ExecuteTime": {
     "end_time": "2020-10-07T19:21:41.643374Z",
     "start_time": "2020-10-07T19:21:41.595502Z"
    }
   },
   "outputs": [
    {
     "data": {
      "text/plain": [
       "Text(0.5, 1.0, '小家电消费用户的性别分布')"
      ]
     },
     "execution_count": 81,
     "metadata": {},
     "output_type": "execute_result"
    },
    {
     "data": {
      "image/png": "[encoded data removed]",
      "text/plain": [
       "<Figure size 432x288 with 1 Axes>"
      ]
     },
     "metadata": {},
     "output_type": "display_data"
    }
   ],
   "source": [
    "labels = [\"男\",\"女\"]\n",
    "colors = [\"b\",\"r\"]\n",
    "plt.pie([male_user,female_user], autopct = \"%1.1f%%\", labels = labels, \n",
    "       startangle = 90, colors = colors, textprops = {\"fontsize\":14})\n",
    "plt.title(\"小家电消费用户的性别分布\")"
   ]
  },
  {
   "cell_type": "markdown",
   "metadata": {},
   "source": [
    "## 用户年龄分布"
   ]
  },
  {
   "cell_type": "code",
   "execution_count": 84,
   "metadata": {
    "ExecuteTime": {
     "end_time": "2020-10-07T19:22:53.178331Z",
     "start_time": "2020-10-07T19:22:53.152400Z"
    }
   },
   "outputs": [
    {
     "data": {
      "text/html": [
       "<div>\n",
       "<style scoped>\n",
       "    .dataframe tbody tr th:only-of-type {\n",
       "        vertical-align: middle;\n",
       "    }\n",
       "\n",
       "    .dataframe tbody tr th {\n",
       "        vertical-align: top;\n",
       "    }\n",
       "\n",
       "    .dataframe thead th {\n",
       "        text-align: right;\n",
       "    }\n",
       "</style>\n",
       "<table border=\"1\" class=\"dataframe\">\n",
       "  <thead>\n",
       "    <tr style=\"text-align: right;\">\n",
       "      <th></th>\n",
       "      <th>ulp_base_age</th>\n",
       "      <th>user_age_count</th>\n",
       "    </tr>\n",
       "  </thead>\n",
       "  <tbody>\n",
       "    <tr>\n",
       "      <th>1</th>\n",
       "      <td>1</td>\n",
       "      <td>21</td>\n",
       "    </tr>\n",
       "    <tr>\n",
       "      <th>2</th>\n",
       "      <td>2</td>\n",
       "      <td>27947</td>\n",
       "    </tr>\n",
       "    <tr>\n",
       "      <th>3</th>\n",
       "      <td>3</td>\n",
       "      <td>105501</td>\n",
       "    </tr>\n",
       "    <tr>\n",
       "      <th>4</th>\n",
       "      <td>4</td>\n",
       "      <td>56682</td>\n",
       "    </tr>\n",
       "    <tr>\n",
       "      <th>5</th>\n",
       "      <td>5</td>\n",
       "      <td>12177</td>\n",
       "    </tr>\n",
       "    <tr>\n",
       "      <th>6</th>\n",
       "      <td>6</td>\n",
       "      <td>11074</td>\n",
       "    </tr>\n",
       "  </tbody>\n",
       "</table>\n",
       "</div>"
      ],
      "text/plain": [
       "   ulp_base_age  user_age_count\n",
       "1             1              21\n",
       "2             2           27947\n",
       "3             3          105501\n",
       "4             4           56682\n",
       "5             5           12177\n",
       "6             6           11074"
      ]
     },
     "execution_count": 84,
     "metadata": {},
     "output_type": "execute_result"
    }
   ],
   "source": [
    "# age每一个数字代表一个年龄区间\n",
    "user_age_df = user_info_df.groupby([\"ulp_base_age\"],as_index=False)[\"user_log_acct\"].agg({'user_age_count':'count'})\n",
    "user_age_df['ulp_base_age'] = user_age_df['ulp_base_age'].astype('int')\n",
    "user_age_df = user_age_df[user_age_df.ulp_base_age>-1]\n",
    "user_age_df"
   ]
  },
  {
   "cell_type": "code",
   "execution_count": 85,
   "metadata": {
    "ExecuteTime": {
     "end_time": "2020-10-07T19:22:56.796092Z",
     "start_time": "2020-10-07T19:22:56.792105Z"
    }
   },
   "outputs": [],
   "source": [
    "x = ['18岁以下', '18~25岁',  '25~35岁', '35~45岁', '45~55岁', '55岁以上']\n",
    "y = user_age_df['user_age_count']"
   ]
  },
  {
   "cell_type": "code",
   "execution_count": 86,
   "metadata": {
    "ExecuteTime": {
     "end_time": "2020-10-07T19:22:59.411102Z",
     "start_time": "2020-10-07T19:22:59.243543Z"
    }
   },
   "outputs": [
    {
     "data": {
      "text/plain": [
       "<BarContainer object of 6 artists>"
      ]
     },
     "execution_count": 86,
     "metadata": {},
     "output_type": "execute_result"
    },
    {
     "data": {
      "image/png": "[encoded data removed]",
      "text/plain": [
       "<Figure size 1600x640 with 1 Axes>"
      ]
     },
     "metadata": {},
     "output_type": "display_data"
    }
   ],
   "source": [
    "plt.figure(figsize=(20,8),dpi=80)\n",
    "plt.style.use('ggplot')\n",
    "\n",
    "plt.title(\"小家电消费用户的年龄分布\", size=24) # 图标题\n",
    "\n",
    "plt.xticks(size=16) # x轴字体大小调整\n",
    "plt.yticks(size=16) # y轴字体大小调整\n",
    "\n",
    "plt.bar(x, y, width=0.3, color='#6699CC')"
   ]
  },
  {
   "cell_type": "markdown",
   "metadata": {},
   "source": [
    "### 性别x年龄分布"
   ]
  },
  {
   "cell_type": "code",
   "execution_count": 22,
   "metadata": {
    "ExecuteTime": {
     "end_time": "2020-10-07T18:53:31.094208Z",
     "start_time": "2020-10-07T18:53:31.053317Z"
    }
   },
   "outputs": [
    {
     "data": {
      "text/html": [
       "<div>\n",
       "<style scoped>\n",
       "    .dataframe tbody tr th:only-of-type {\n",
       "        vertical-align: middle;\n",
       "    }\n",
       "\n",
       "    .dataframe tbody tr th {\n",
       "        vertical-align: top;\n",
       "    }\n",
       "\n",
       "    .dataframe thead th {\n",
       "        text-align: right;\n",
       "    }\n",
       "</style>\n",
       "<table border=\"1\" class=\"dataframe\">\n",
       "  <thead>\n",
       "    <tr style=\"text-align: right;\">\n",
       "      <th></th>\n",
       "      <th>ulp_base_age</th>\n",
       "      <th>ulp_base_sex</th>\n",
       "      <th>user_gender_age_count</th>\n",
       "    </tr>\n",
       "  </thead>\n",
       "  <tbody>\n",
       "    <tr>\n",
       "      <th>0</th>\n",
       "      <td>-1</td>\n",
       "      <td>-1</td>\n",
       "      <td>1225</td>\n",
       "    </tr>\n",
       "    <tr>\n",
       "      <th>1</th>\n",
       "      <td>-1</td>\n",
       "      <td>0</td>\n",
       "      <td>219</td>\n",
       "    </tr>\n",
       "    <tr>\n",
       "      <th>2</th>\n",
       "      <td>-1</td>\n",
       "      <td>1</td>\n",
       "      <td>244</td>\n",
       "    </tr>\n",
       "    <tr>\n",
       "      <th>3</th>\n",
       "      <td>1</td>\n",
       "      <td>0</td>\n",
       "      <td>8</td>\n",
       "    </tr>\n",
       "    <tr>\n",
       "      <th>4</th>\n",
       "      <td>1</td>\n",
       "      <td>1</td>\n",
       "      <td>13</td>\n",
       "    </tr>\n",
       "    <tr>\n",
       "      <th>5</th>\n",
       "      <td>2</td>\n",
       "      <td>-1</td>\n",
       "      <td>201</td>\n",
       "    </tr>\n",
       "    <tr>\n",
       "      <th>6</th>\n",
       "      <td>2</td>\n",
       "      <td>0</td>\n",
       "      <td>11590</td>\n",
       "    </tr>\n",
       "    <tr>\n",
       "      <th>7</th>\n",
       "      <td>2</td>\n",
       "      <td>1</td>\n",
       "      <td>16156</td>\n",
       "    </tr>\n",
       "    <tr>\n",
       "      <th>8</th>\n",
       "      <td>3</td>\n",
       "      <td>-1</td>\n",
       "      <td>299</td>\n",
       "    </tr>\n",
       "    <tr>\n",
       "      <th>9</th>\n",
       "      <td>3</td>\n",
       "      <td>0</td>\n",
       "      <td>49258</td>\n",
       "    </tr>\n",
       "    <tr>\n",
       "      <th>10</th>\n",
       "      <td>3</td>\n",
       "      <td>1</td>\n",
       "      <td>55944</td>\n",
       "    </tr>\n",
       "    <tr>\n",
       "      <th>11</th>\n",
       "      <td>4</td>\n",
       "      <td>-1</td>\n",
       "      <td>187</td>\n",
       "    </tr>\n",
       "    <tr>\n",
       "      <th>12</th>\n",
       "      <td>4</td>\n",
       "      <td>0</td>\n",
       "      <td>24294</td>\n",
       "    </tr>\n",
       "    <tr>\n",
       "      <th>13</th>\n",
       "      <td>4</td>\n",
       "      <td>1</td>\n",
       "      <td>32201</td>\n",
       "    </tr>\n",
       "    <tr>\n",
       "      <th>14</th>\n",
       "      <td>5</td>\n",
       "      <td>-1</td>\n",
       "      <td>119</td>\n",
       "    </tr>\n",
       "    <tr>\n",
       "      <th>15</th>\n",
       "      <td>5</td>\n",
       "      <td>0</td>\n",
       "      <td>5413</td>\n",
       "    </tr>\n",
       "    <tr>\n",
       "      <th>16</th>\n",
       "      <td>5</td>\n",
       "      <td>1</td>\n",
       "      <td>6645</td>\n",
       "    </tr>\n",
       "    <tr>\n",
       "      <th>17</th>\n",
       "      <td>6</td>\n",
       "      <td>-1</td>\n",
       "      <td>133</td>\n",
       "    </tr>\n",
       "    <tr>\n",
       "      <th>18</th>\n",
       "      <td>6</td>\n",
       "      <td>0</td>\n",
       "      <td>5192</td>\n",
       "    </tr>\n",
       "    <tr>\n",
       "      <th>19</th>\n",
       "      <td>6</td>\n",
       "      <td>1</td>\n",
       "      <td>5749</td>\n",
       "    </tr>\n",
       "  </tbody>\n",
       "</table>\n",
       "</div>"
      ],
      "text/plain": [
       "    ulp_base_age ulp_base_sex  user_gender_age_count\n",
       "0             -1           -1                   1225\n",
       "1             -1            0                    219\n",
       "2             -1            1                    244\n",
       "3              1            0                      8\n",
       "4              1            1                     13\n",
       "5              2           -1                    201\n",
       "6              2            0                  11590\n",
       "7              2            1                  16156\n",
       "8              3           -1                    299\n",
       "9              3            0                  49258\n",
       "10             3            1                  55944\n",
       "11             4           -1                    187\n",
       "12             4            0                  24294\n",
       "13             4            1                  32201\n",
       "14             5           -1                    119\n",
       "15             5            0                   5413\n",
       "16             5            1                   6645\n",
       "17             6           -1                    133\n",
       "18             6            0                   5192\n",
       "19             6            1                   5749"
      ]
     },
     "execution_count": 22,
     "metadata": {},
     "output_type": "execute_result"
    }
   ],
   "source": [
    "age_gender_df = user_info_df.groupby([\"ulp_base_age\",\"ulp_base_sex\"],as_index=False)[\"user_log_acct\"].agg({'user_gender_age_count':'count'})\n",
    "age_gender_df[\"ulp_base_age\"] = age_gender_df[\"ulp_base_age\"].astype(int)\n",
    "age_gender_df"
   ]
  },
  {
   "cell_type": "code",
   "execution_count": 23,
   "metadata": {
    "ExecuteTime": {
     "end_time": "2020-10-07T18:53:31.102186Z",
     "start_time": "2020-10-07T18:53:31.097200Z"
    }
   },
   "outputs": [],
   "source": [
    "# 去掉为年龄组为-1的部分\n",
    "i = age_gender_df[age_gender_df.ulp_base_age == -1].index\n",
    "age_gender_df.drop(i, axis = 0, inplace = True)"
   ]
  },
  {
   "cell_type": "code",
   "execution_count": 24,
   "metadata": {
    "ExecuteTime": {
     "end_time": "2020-10-07T18:53:31.110165Z",
     "start_time": "2020-10-07T18:53:31.104181Z"
    }
   },
   "outputs": [],
   "source": [
    "# 获取统计数据（按性别）\n",
    "female = age_gender_df[age_gender_df.ulp_base_sex == \"0\"][[\"ulp_base_age\",\"user_gender_age_count\"]]\n",
    "male =  age_gender_df[age_gender_df.ulp_base_sex == \"1\"][[\"ulp_base_age\",\"user_gender_age_count\"]]"
   ]
  },
  {
   "cell_type": "code",
   "execution_count": 25,
   "metadata": {
    "ExecuteTime": {
     "end_time": "2020-10-07T18:53:31.320601Z",
     "start_time": "2020-10-07T18:53:31.111162Z"
    }
   },
   "outputs": [
    {
     "data": {
      "text/plain": [
       "<matplotlib.legend.Legend at 0x1eb4eb35708>"
      ]
     },
     "execution_count": 25,
     "metadata": {},
     "output_type": "execute_result"
    },
    {
     "data": {
      "image/png": "[encoded data removed]",
      "text/plain": [
       "<Figure size 1600x640 with 1 Axes>"
      ]
     },
     "metadata": {},
     "output_type": "display_data"
    }
   ],
   "source": [
    "fig = plt.figure(figsize=(20, 8), dpi=80)\n",
    "ax = fig.add_subplot(111)\n",
    "\n",
    "ax.bar(female[\"ulp_base_age\"]-0.4,female[\"user_gender_age_count\"], width=0.4,align='center')\n",
    "ax.bar(male[\"ulp_base_age\"], male[\"user_gender_age_count\"], width=0.4,align='center')\n",
    "ax.set_xticklabels(x, size = 16)\n",
    "ax.set_yticklabels([0,10000,20000,30000,40000,50000],size = 16)\n",
    "ax.set_title(\"小家电消费用户的年龄分布\", size=24)\n",
    "ax.legend(('女性', '男性'),prop={'size': 16})"
   ]
  },
  {
   "cell_type": "markdown",
   "metadata": {},
   "source": [
    "## 用户地域分布"
   ]
  },
  {
   "cell_type": "code",
   "execution_count": 26,
   "metadata": {
    "ExecuteTime": {
     "end_time": "2020-10-07T18:53:31.350522Z",
     "start_time": "2020-10-07T18:53:31.321599Z"
    }
   },
   "outputs": [
    {
     "data": {
      "text/html": [
       "<div>\n",
       "<style scoped>\n",
       "    .dataframe tbody tr th:only-of-type {\n",
       "        vertical-align: middle;\n",
       "    }\n",
       "\n",
       "    .dataframe tbody tr th {\n",
       "        vertical-align: top;\n",
       "    }\n",
       "\n",
       "    .dataframe thead th {\n",
       "        text-align: right;\n",
       "    }\n",
       "</style>\n",
       "<table border=\"1\" class=\"dataframe\">\n",
       "  <thead>\n",
       "    <tr style=\"text-align: right;\">\n",
       "      <th></th>\n",
       "      <th>province_name</th>\n",
       "      <th>region_count</th>\n",
       "    </tr>\n",
       "  </thead>\n",
       "  <tbody>\n",
       "    <tr>\n",
       "      <th>12</th>\n",
       "      <td>广东</td>\n",
       "      <td>35247</td>\n",
       "    </tr>\n",
       "    <tr>\n",
       "      <th>15</th>\n",
       "      <td>江苏</td>\n",
       "      <td>19370</td>\n",
       "    </tr>\n",
       "    <tr>\n",
       "      <th>4</th>\n",
       "      <td>北京</td>\n",
       "      <td>19214</td>\n",
       "    </tr>\n",
       "    <tr>\n",
       "      <th>1</th>\n",
       "      <td>上海</td>\n",
       "      <td>14627</td>\n",
       "    </tr>\n",
       "    <tr>\n",
       "      <th>10</th>\n",
       "      <td>山东</td>\n",
       "      <td>14391</td>\n",
       "    </tr>\n",
       "    <tr>\n",
       "      <th>6</th>\n",
       "      <td>四川</td>\n",
       "      <td>11003</td>\n",
       "    </tr>\n",
       "    <tr>\n",
       "      <th>21</th>\n",
       "      <td>湖北</td>\n",
       "      <td>9504</td>\n",
       "    </tr>\n",
       "    <tr>\n",
       "      <th>19</th>\n",
       "      <td>浙江</td>\n",
       "      <td>9455</td>\n",
       "    </tr>\n",
       "    <tr>\n",
       "      <th>17</th>\n",
       "      <td>河北</td>\n",
       "      <td>8147</td>\n",
       "    </tr>\n",
       "    <tr>\n",
       "      <th>27</th>\n",
       "      <td>辽宁</td>\n",
       "      <td>7023</td>\n",
       "    </tr>\n",
       "    <tr>\n",
       "      <th>18</th>\n",
       "      <td>河南</td>\n",
       "      <td>6989</td>\n",
       "    </tr>\n",
       "    <tr>\n",
       "      <th>24</th>\n",
       "      <td>福建</td>\n",
       "      <td>6293</td>\n",
       "    </tr>\n",
       "    <tr>\n",
       "      <th>22</th>\n",
       "      <td>湖南</td>\n",
       "      <td>6090</td>\n",
       "    </tr>\n",
       "    <tr>\n",
       "      <th>9</th>\n",
       "      <td>安徽</td>\n",
       "      <td>5873</td>\n",
       "    </tr>\n",
       "    <tr>\n",
       "      <th>29</th>\n",
       "      <td>陕西</td>\n",
       "      <td>5614</td>\n",
       "    </tr>\n",
       "    <tr>\n",
       "      <th>28</th>\n",
       "      <td>重庆</td>\n",
       "      <td>4943</td>\n",
       "    </tr>\n",
       "    <tr>\n",
       "      <th>13</th>\n",
       "      <td>广西</td>\n",
       "      <td>4624</td>\n",
       "    </tr>\n",
       "    <tr>\n",
       "      <th>7</th>\n",
       "      <td>天津</td>\n",
       "      <td>4585</td>\n",
       "    </tr>\n",
       "    <tr>\n",
       "      <th>0</th>\n",
       "      <td>-1</td>\n",
       "      <td>3081</td>\n",
       "    </tr>\n",
       "    <tr>\n",
       "      <th>16</th>\n",
       "      <td>江西</td>\n",
       "      <td>3025</td>\n",
       "    </tr>\n",
       "    <tr>\n",
       "      <th>11</th>\n",
       "      <td>山西</td>\n",
       "      <td>2581</td>\n",
       "    </tr>\n",
       "    <tr>\n",
       "      <th>31</th>\n",
       "      <td>黑龙江</td>\n",
       "      <td>2089</td>\n",
       "    </tr>\n",
       "    <tr>\n",
       "      <th>26</th>\n",
       "      <td>贵州</td>\n",
       "      <td>2003</td>\n",
       "    </tr>\n",
       "    <tr>\n",
       "      <th>5</th>\n",
       "      <td>吉林</td>\n",
       "      <td>1966</td>\n",
       "    </tr>\n",
       "    <tr>\n",
       "      <th>2</th>\n",
       "      <td>云南</td>\n",
       "      <td>1659</td>\n",
       "    </tr>\n",
       "    <tr>\n",
       "      <th>3</th>\n",
       "      <td>内蒙古</td>\n",
       "      <td>1524</td>\n",
       "    </tr>\n",
       "    <tr>\n",
       "      <th>20</th>\n",
       "      <td>海南</td>\n",
       "      <td>1223</td>\n",
       "    </tr>\n",
       "    <tr>\n",
       "      <th>23</th>\n",
       "      <td>甘肃</td>\n",
       "      <td>1090</td>\n",
       "    </tr>\n",
       "    <tr>\n",
       "      <th>14</th>\n",
       "      <td>新疆</td>\n",
       "      <td>834</td>\n",
       "    </tr>\n",
       "    <tr>\n",
       "      <th>8</th>\n",
       "      <td>宁夏</td>\n",
       "      <td>477</td>\n",
       "    </tr>\n",
       "    <tr>\n",
       "      <th>30</th>\n",
       "      <td>青海</td>\n",
       "      <td>324</td>\n",
       "    </tr>\n",
       "    <tr>\n",
       "      <th>25</th>\n",
       "      <td>西藏</td>\n",
       "      <td>222</td>\n",
       "    </tr>\n",
       "  </tbody>\n",
       "</table>\n",
       "</div>"
      ],
      "text/plain": [
       "   province_name  region_count\n",
       "12            广东         35247\n",
       "15            江苏         19370\n",
       "4             北京         19214\n",
       "1             上海         14627\n",
       "10            山东         14391\n",
       "6             四川         11003\n",
       "21            湖北          9504\n",
       "19            浙江          9455\n",
       "17            河北          8147\n",
       "27            辽宁          7023\n",
       "18            河南          6989\n",
       "24            福建          6293\n",
       "22            湖南          6090\n",
       "9             安徽          5873\n",
       "29            陕西          5614\n",
       "28            重庆          4943\n",
       "13            广西          4624\n",
       "7             天津          4585\n",
       "0             -1          3081\n",
       "16            江西          3025\n",
       "11            山西          2581\n",
       "31           黑龙江          2089\n",
       "26            贵州          2003\n",
       "5             吉林          1966\n",
       "2             云南          1659\n",
       "3            内蒙古          1524\n",
       "20            海南          1223\n",
       "23            甘肃          1090\n",
       "14            新疆           834\n",
       "8             宁夏           477\n",
       "30            青海           324\n",
       "25            西藏           222"
      ]
     },
     "execution_count": 26,
     "metadata": {},
     "output_type": "execute_result"
    }
   ],
   "source": [
    "user_region_df = user_info_df.groupby('ulp_addr_province', as_index=False)['user_log_acct'].agg({'region_count':'count'})\n",
    "user_region_df.columns = ['province_name','region_count']\n",
    "user_region_df = user_region_df.sort_values(by='region_count', ascending=False)\n",
    "user_region_df"
   ]
  },
  {
   "cell_type": "code",
   "execution_count": 27,
   "metadata": {
    "ExecuteTime": {
     "end_time": "2020-10-07T18:53:31.356507Z",
     "start_time": "2020-10-07T18:53:31.351519Z"
    }
   },
   "outputs": [],
   "source": [
    "i = user_region_df[user_region_df.province_name == \"-1\"].index\n",
    "user_region_df.drop(i,axis = 0, inplace = True)"
   ]
  },
  {
   "cell_type": "code",
   "execution_count": 28,
   "metadata": {
    "ExecuteTime": {
     "end_time": "2020-10-07T18:53:31.364484Z",
     "start_time": "2020-10-07T18:53:31.358500Z"
    }
   },
   "outputs": [
    {
     "data": {
      "text/plain": [
       "31"
      ]
     },
     "execution_count": 28,
     "metadata": {},
     "output_type": "execute_result"
    }
   ],
   "source": [
    "user_region_df[\"province_name\"].nunique()"
   ]
  },
  {
   "cell_type": "code",
   "execution_count": 29,
   "metadata": {
    "ExecuteTime": {
     "end_time": "2020-10-07T18:53:31.433300Z",
     "start_time": "2020-10-07T18:53:31.366479Z"
    }
   },
   "outputs": [],
   "source": [
    "# 用to_csv(...encoding = \"utf-8\")导致了乱码\n",
    "# 在tableau进行了可视化\n",
    "user_region_df.to_excel(\"user_region_df.xlsx\", encoding = \"utf-8\")"
   ]
  },
  {
   "cell_type": "code",
   "execution_count": 30,
   "metadata": {
    "ExecuteTime": {
     "end_time": "2020-10-07T18:53:31.438287Z",
     "start_time": "2020-10-07T18:53:31.434297Z"
    }
   },
   "outputs": [],
   "source": [
    "x = user_region_df['province_name'][::-1]  # 切片方法，让列表反向。两个冒号分隔为{起始位置：终止位置：步长}\n",
    "y = user_region_df['region_count'][::-1]  # 其中步长为正，从左往右取，步长为负，从右往左取"
   ]
  },
  {
   "cell_type": "code",
   "execution_count": 31,
   "metadata": {
    "ExecuteTime": {
     "end_time": "2020-10-07T18:53:31.801316Z",
     "start_time": "2020-10-07T18:53:31.439285Z"
    }
   },
   "outputs": [
    {
     "data": {
      "image/png": "[encoded data removed]",
      "text/plain": [
       "<Figure size 1600x1200 with 1 Axes>"
      ]
     },
     "metadata": {},
     "output_type": "display_data"
    }
   ],
   "source": [
    "plt.figure(figsize=(20,15), dpi=80)\n",
    "\n",
    "plt.title(\"小家电消费用户的地域分布\", size=24) # 图标题\n",
    "\n",
    "plt.xticks(size=16) # x轴字体大小调整\n",
    "plt.yticks(size=16) # y轴字体大小调整\n",
    "\n",
    "plt.barh(x, y, height=0.5, color='#6699CC')\n",
    "\n",
    "plt.show()"
   ]
  },
  {
   "cell_type": "markdown",
   "metadata": {},
   "source": [
    "## 小家电消费用户的城市分布"
   ]
  },
  {
   "cell_type": "code",
   "execution_count": 32,
   "metadata": {
    "ExecuteTime": {
     "end_time": "2020-10-07T18:53:31.834227Z",
     "start_time": "2020-10-07T18:53:31.802312Z"
    }
   },
   "outputs": [
    {
     "data": {
      "text/html": [
       "<div>\n",
       "<style scoped>\n",
       "    .dataframe tbody tr th:only-of-type {\n",
       "        vertical-align: middle;\n",
       "    }\n",
       "\n",
       "    .dataframe tbody tr th {\n",
       "        vertical-align: top;\n",
       "    }\n",
       "\n",
       "    .dataframe thead th {\n",
       "        text-align: right;\n",
       "    }\n",
       "</style>\n",
       "<table border=\"1\" class=\"dataframe\">\n",
       "  <thead>\n",
       "    <tr style=\"text-align: right;\">\n",
       "      <th></th>\n",
       "      <th>ulp_addr_city</th>\n",
       "      <th>city_count</th>\n",
       "    </tr>\n",
       "  </thead>\n",
       "  <tbody>\n",
       "    <tr>\n",
       "      <th>50</th>\n",
       "      <td>北京市</td>\n",
       "      <td>19214</td>\n",
       "    </tr>\n",
       "    <tr>\n",
       "      <th>6</th>\n",
       "      <td>上海市</td>\n",
       "      <td>14627</td>\n",
       "    </tr>\n",
       "    <tr>\n",
       "      <th>128</th>\n",
       "      <td>广州市</td>\n",
       "      <td>9674</td>\n",
       "    </tr>\n",
       "    <tr>\n",
       "      <th>217</th>\n",
       "      <td>深圳市</td>\n",
       "      <td>8839</td>\n",
       "    </tr>\n",
       "    <tr>\n",
       "      <th>146</th>\n",
       "      <td>成都市</td>\n",
       "      <td>6788</td>\n",
       "    </tr>\n",
       "    <tr>\n",
       "      <th>...</th>\n",
       "      <td>...</td>\n",
       "      <td>...</td>\n",
       "    </tr>\n",
       "    <tr>\n",
       "      <th>305</th>\n",
       "      <td>那曲地区</td>\n",
       "      <td>5</td>\n",
       "    </tr>\n",
       "    <tr>\n",
       "      <th>353</th>\n",
       "      <td>黄南藏族自治州</td>\n",
       "      <td>4</td>\n",
       "    </tr>\n",
       "    <tr>\n",
       "      <th>247</th>\n",
       "      <td>白沙黎族自治县</td>\n",
       "      <td>4</td>\n",
       "    </tr>\n",
       "    <tr>\n",
       "      <th>257</th>\n",
       "      <td>神农架林区</td>\n",
       "      <td>4</td>\n",
       "    </tr>\n",
       "    <tr>\n",
       "      <th>86</th>\n",
       "      <td>图木舒克市</td>\n",
       "      <td>3</td>\n",
       "    </tr>\n",
       "  </tbody>\n",
       "</table>\n",
       "<p>362 rows × 2 columns</p>\n",
       "</div>"
      ],
      "text/plain": [
       "    ulp_addr_city  city_count\n",
       "50            北京市       19214\n",
       "6             上海市       14627\n",
       "128           广州市        9674\n",
       "217           深圳市        8839\n",
       "146           成都市        6788\n",
       "..            ...         ...\n",
       "305          那曲地区           5\n",
       "353       黄南藏族自治州           4\n",
       "247       白沙黎族自治县           4\n",
       "257         神农架林区           4\n",
       "86          图木舒克市           3\n",
       "\n",
       "[362 rows x 2 columns]"
      ]
     },
     "execution_count": 32,
     "metadata": {},
     "output_type": "execute_result"
    }
   ],
   "source": [
    "user_city_df = user_info_df.groupby('ulp_addr_city', as_index=False)['user_log_acct'].agg({'city_count':'count'}).sort_values(by='city_count', ascending=False)\n",
    "user_city_df"
   ]
  },
  {
   "cell_type": "code",
   "execution_count": 33,
   "metadata": {
    "ExecuteTime": {
     "end_time": "2020-10-07T18:53:31.844200Z",
     "start_time": "2020-10-07T18:53:31.835225Z"
    }
   },
   "outputs": [
    {
     "data": {
      "text/html": [
       "<div>\n",
       "<style scoped>\n",
       "    .dataframe tbody tr th:only-of-type {\n",
       "        vertical-align: middle;\n",
       "    }\n",
       "\n",
       "    .dataframe tbody tr th {\n",
       "        vertical-align: top;\n",
       "    }\n",
       "\n",
       "    .dataframe thead th {\n",
       "        text-align: right;\n",
       "    }\n",
       "</style>\n",
       "<table border=\"1\" class=\"dataframe\">\n",
       "  <thead>\n",
       "    <tr style=\"text-align: right;\">\n",
       "      <th></th>\n",
       "      <th>ulp_addr_city</th>\n",
       "      <th>city_count</th>\n",
       "    </tr>\n",
       "  </thead>\n",
       "  <tbody>\n",
       "    <tr>\n",
       "      <th>50</th>\n",
       "      <td>北京市</td>\n",
       "      <td>19214</td>\n",
       "    </tr>\n",
       "    <tr>\n",
       "      <th>6</th>\n",
       "      <td>上海市</td>\n",
       "      <td>14627</td>\n",
       "    </tr>\n",
       "    <tr>\n",
       "      <th>128</th>\n",
       "      <td>广州市</td>\n",
       "      <td>9674</td>\n",
       "    </tr>\n",
       "    <tr>\n",
       "      <th>217</th>\n",
       "      <td>深圳市</td>\n",
       "      <td>8839</td>\n",
       "    </tr>\n",
       "    <tr>\n",
       "      <th>146</th>\n",
       "      <td>成都市</td>\n",
       "      <td>6788</td>\n",
       "    </tr>\n",
       "    <tr>\n",
       "      <th>269</th>\n",
       "      <td>苏州市</td>\n",
       "      <td>5754</td>\n",
       "    </tr>\n",
       "    <tr>\n",
       "      <th>188</th>\n",
       "      <td>武汉市</td>\n",
       "      <td>5538</td>\n",
       "    </tr>\n",
       "    <tr>\n",
       "      <th>313</th>\n",
       "      <td>重庆市</td>\n",
       "      <td>4943</td>\n",
       "    </tr>\n",
       "    <tr>\n",
       "      <th>94</th>\n",
       "      <td>天津市</td>\n",
       "      <td>4585</td>\n",
       "    </tr>\n",
       "    <tr>\n",
       "      <th>343</th>\n",
       "      <td>青岛市</td>\n",
       "      <td>3786</td>\n",
       "    </tr>\n",
       "  </tbody>\n",
       "</table>\n",
       "</div>"
      ],
      "text/plain": [
       "    ulp_addr_city  city_count\n",
       "50            北京市       19214\n",
       "6             上海市       14627\n",
       "128           广州市        9674\n",
       "217           深圳市        8839\n",
       "146           成都市        6788\n",
       "269           苏州市        5754\n",
       "188           武汉市        5538\n",
       "313           重庆市        4943\n",
       "94            天津市        4585\n",
       "343           青岛市        3786"
      ]
     },
     "execution_count": 33,
     "metadata": {},
     "output_type": "execute_result"
    }
   ],
   "source": [
    "# 头部城市\n",
    "user_city_df = user_city_df[:10]\n",
    "user_city_df"
   ]
  },
  {
   "cell_type": "code",
   "execution_count": 34,
   "metadata": {
    "ExecuteTime": {
     "end_time": "2020-10-07T18:53:31.849187Z",
     "start_time": "2020-10-07T18:53:31.845198Z"
    }
   },
   "outputs": [],
   "source": [
    "x = user_city_df['ulp_addr_city'][::-1]\n",
    "y = user_city_df['city_count'][::-1]"
   ]
  },
  {
   "cell_type": "code",
   "execution_count": 35,
   "metadata": {
    "ExecuteTime": {
     "end_time": "2020-10-07T18:53:32.043666Z",
     "start_time": "2020-10-07T18:53:31.851182Z"
    }
   },
   "outputs": [
    {
     "data": {
      "image/png": "[encoded data removed]",
      "text/plain": [
       "<Figure size 1600x640 with 1 Axes>"
      ]
     },
     "metadata": {},
     "output_type": "display_data"
    }
   ],
   "source": [
    "plt.figure(figsize=(20,8),dpi=80)\n",
    "\n",
    "plt.title(\"小家电消费用户的城市分布\", size=24) # 图标题\n",
    "\n",
    "plt.xticks(size=16) # x轴字体大小调整\n",
    "plt.yticks(size=16) # y轴字体大小调整\n",
    "\n",
    "plt.barh(x, y, align='center', height=0.6, color='#6699CC') # height是水平条形图宽度\n",
    "\n",
    "plt.show()"
   ]
  },
  {
   "cell_type": "markdown",
   "metadata": {},
   "source": [
    "## 用户的婚育状况"
   ]
  },
  {
   "cell_type": "code",
   "execution_count": 36,
   "metadata": {
    "ExecuteTime": {
     "end_time": "2020-10-07T18:53:32.068601Z",
     "start_time": "2020-10-07T18:53:32.044664Z"
    }
   },
   "outputs": [
    {
     "data": {
      "text/html": [
       "<div>\n",
       "<style scoped>\n",
       "    .dataframe tbody tr th:only-of-type {\n",
       "        vertical-align: middle;\n",
       "    }\n",
       "\n",
       "    .dataframe tbody tr th {\n",
       "        vertical-align: top;\n",
       "    }\n",
       "\n",
       "    .dataframe thead th {\n",
       "        text-align: right;\n",
       "    }\n",
       "</style>\n",
       "<table border=\"1\" class=\"dataframe\">\n",
       "  <thead>\n",
       "    <tr style=\"text-align: right;\">\n",
       "      <th></th>\n",
       "      <th>ulp_base_marriage</th>\n",
       "      <th>marriage</th>\n",
       "    </tr>\n",
       "  </thead>\n",
       "  <tbody>\n",
       "    <tr>\n",
       "      <th>2</th>\n",
       "      <td>1</td>\n",
       "      <td>143755</td>\n",
       "    </tr>\n",
       "    <tr>\n",
       "      <th>1</th>\n",
       "      <td>0</td>\n",
       "      <td>65802</td>\n",
       "    </tr>\n",
       "    <tr>\n",
       "      <th>0</th>\n",
       "      <td>-1</td>\n",
       "      <td>5533</td>\n",
       "    </tr>\n",
       "  </tbody>\n",
       "</table>\n",
       "</div>"
      ],
      "text/plain": [
       "  ulp_base_marriage  marriage\n",
       "2                 1    143755\n",
       "1                 0     65802\n",
       "0                -1      5533"
      ]
     },
     "execution_count": 36,
     "metadata": {},
     "output_type": "execute_result"
    }
   ],
   "source": [
    "user_marriage_df = user_info_df.groupby('ulp_base_marriage', as_index=False)['user_log_acct']\\\n",
    "    .agg({'marriage': 'count'})\\\n",
    "    .sort_values(by='marriage', ascending=False)\n",
    "user_marriage_df"
   ]
  },
  {
   "cell_type": "code",
   "execution_count": 37,
   "metadata": {
    "ExecuteTime": {
     "end_time": "2020-10-07T18:53:32.074585Z",
     "start_time": "2020-10-07T18:53:32.070596Z"
    }
   },
   "outputs": [],
   "source": [
    "married_user = user_marriage_df['marriage'].iloc[0] # 取第0行\n",
    "unmarried_user = user_marriage_df['marriage'].iloc[1] # 取第1行"
   ]
  },
  {
   "cell_type": "code",
   "execution_count": 38,
   "metadata": {
    "ExecuteTime": {
     "end_time": "2020-10-07T18:53:32.129437Z",
     "start_time": "2020-10-07T18:53:32.076580Z"
    }
   },
   "outputs": [
    {
     "data": {
      "text/plain": [
       "Text(0.5, 1.0, '小家电消费用户的婚姻情况')"
      ]
     },
     "execution_count": 38,
     "metadata": {},
     "output_type": "execute_result"
    },
    {
     "data": {
      "image/png": "[encoded data removed]",
      "text/plain": [
       "<Figure size 432x288 with 1 Axes>"
      ]
     },
     "metadata": {},
     "output_type": "display_data"
    }
   ],
   "source": [
    "labels = ['已婚', '未婚']\n",
    "Y = [married_user, unmarried_user]\n",
    "fig = plt.figure()\n",
    "plt.pie(Y, labels=labels, autopct='%1.1f%%', startangle=90) # startangle是图旋转角度\n",
    "plt.title(\"小家电消费用户的婚姻情况\")"
   ]
  },
  {
   "cell_type": "markdown",
   "metadata": {},
   "source": [
    "## 小家电消费用户的有孩可能性"
   ]
  },
  {
   "cell_type": "code",
   "execution_count": 39,
   "metadata": {
    "ExecuteTime": {
     "end_time": "2020-10-07T18:53:32.159358Z",
     "start_time": "2020-10-07T18:53:32.130434Z"
    }
   },
   "outputs": [
    {
     "data": {
      "text/html": [
       "<div>\n",
       "<style scoped>\n",
       "    .dataframe tbody tr th:only-of-type {\n",
       "        vertical-align: middle;\n",
       "    }\n",
       "\n",
       "    .dataframe tbody tr th {\n",
       "        vertical-align: top;\n",
       "    }\n",
       "\n",
       "    .dataframe thead th {\n",
       "        text-align: right;\n",
       "    }\n",
       "</style>\n",
       "<table border=\"1\" class=\"dataframe\">\n",
       "  <thead>\n",
       "    <tr style=\"text-align: right;\">\n",
       "      <th></th>\n",
       "      <th>ulp_base_child</th>\n",
       "      <th>child</th>\n",
       "    </tr>\n",
       "  </thead>\n",
       "  <tbody>\n",
       "    <tr>\n",
       "      <th>0</th>\n",
       "      <td>-1</td>\n",
       "      <td>63774</td>\n",
       "    </tr>\n",
       "    <tr>\n",
       "      <th>3</th>\n",
       "      <td>较高</td>\n",
       "      <td>58209</td>\n",
       "    </tr>\n",
       "    <tr>\n",
       "      <th>4</th>\n",
       "      <td>高</td>\n",
       "      <td>38502</td>\n",
       "    </tr>\n",
       "    <tr>\n",
       "      <th>2</th>\n",
       "      <td>较低</td>\n",
       "      <td>29468</td>\n",
       "    </tr>\n",
       "    <tr>\n",
       "      <th>1</th>\n",
       "      <td>低</td>\n",
       "      <td>25137</td>\n",
       "    </tr>\n",
       "  </tbody>\n",
       "</table>\n",
       "</div>"
      ],
      "text/plain": [
       "  ulp_base_child  child\n",
       "0             -1  63774\n",
       "3             较高  58209\n",
       "4              高  38502\n",
       "2             较低  29468\n",
       "1              低  25137"
      ]
     },
     "execution_count": 39,
     "metadata": {},
     "output_type": "execute_result"
    }
   ],
   "source": [
    "user_child_df = user_info_df.groupby('ulp_base_child', as_index=False)['user_log_acct']\\\n",
    "                .agg({'child':'count'})\\\n",
    "                .sort_values(by='child', ascending=False)\n",
    "user_child_df"
   ]
  },
  {
   "cell_type": "code",
   "execution_count": 40,
   "metadata": {
    "ExecuteTime": {
     "end_time": "2020-10-07T18:53:32.169331Z",
     "start_time": "2020-10-07T18:53:32.161353Z"
    }
   },
   "outputs": [
    {
     "data": {
      "text/html": [
       "<div>\n",
       "<style scoped>\n",
       "    .dataframe tbody tr th:only-of-type {\n",
       "        vertical-align: middle;\n",
       "    }\n",
       "\n",
       "    .dataframe tbody tr th {\n",
       "        vertical-align: top;\n",
       "    }\n",
       "\n",
       "    .dataframe thead th {\n",
       "        text-align: right;\n",
       "    }\n",
       "</style>\n",
       "<table border=\"1\" class=\"dataframe\">\n",
       "  <thead>\n",
       "    <tr style=\"text-align: right;\">\n",
       "      <th></th>\n",
       "      <th>ulp_base_child</th>\n",
       "      <th>child</th>\n",
       "    </tr>\n",
       "  </thead>\n",
       "  <tbody>\n",
       "    <tr>\n",
       "      <th>3</th>\n",
       "      <td>较高</td>\n",
       "      <td>58209</td>\n",
       "    </tr>\n",
       "    <tr>\n",
       "      <th>4</th>\n",
       "      <td>高</td>\n",
       "      <td>38502</td>\n",
       "    </tr>\n",
       "    <tr>\n",
       "      <th>2</th>\n",
       "      <td>较低</td>\n",
       "      <td>29468</td>\n",
       "    </tr>\n",
       "    <tr>\n",
       "      <th>1</th>\n",
       "      <td>低</td>\n",
       "      <td>25137</td>\n",
       "    </tr>\n",
       "  </tbody>\n",
       "</table>\n",
       "</div>"
      ],
      "text/plain": [
       "  ulp_base_child  child\n",
       "3             较高  58209\n",
       "4              高  38502\n",
       "2             较低  29468\n",
       "1              低  25137"
      ]
     },
     "execution_count": 40,
     "metadata": {},
     "output_type": "execute_result"
    }
   ],
   "source": [
    "user_child_df = user_child_df[user_child_df['ulp_base_child'] != '-1']\n",
    "user_child_df"
   ]
  },
  {
   "cell_type": "code",
   "execution_count": 41,
   "metadata": {
    "ExecuteTime": {
     "end_time": "2020-10-07T18:53:32.175315Z",
     "start_time": "2020-10-07T18:53:32.170328Z"
    }
   },
   "outputs": [],
   "source": [
    "very_high = user_child_df['child'].iloc[1] # 高，取第1行\n",
    "high = user_child_df['child'].iloc[0] # 较高，取第0行\n",
    "low = user_child_df['child'].iloc[2] # 较低，取第2行\n",
    "very_low = user_child_df['child'].iloc[3] # 低，取第3行"
   ]
  },
  {
   "cell_type": "code",
   "execution_count": 42,
   "metadata": {
    "ExecuteTime": {
     "end_time": "2020-10-07T18:53:32.233160Z",
     "start_time": "2020-10-07T18:53:32.176312Z"
    }
   },
   "outputs": [
    {
     "data": {
      "text/plain": [
       "Text(0.5, 1.0, '小家电消费用户的有孩可能性')"
      ]
     },
     "execution_count": 42,
     "metadata": {},
     "output_type": "execute_result"
    },
    {
     "data": {
      "image/png": "[encoded data removed]",
      "text/plain": [
       "<Figure size 432x288 with 1 Axes>"
      ]
     },
     "metadata": {},
     "output_type": "display_data"
    }
   ],
   "source": [
    "labels = ['高', '较高', '较低', '低']\n",
    "Y = [very_high, high, low, very_low]\n",
    "fig = plt.figure()\n",
    "plt.pie(Y, labels=labels, autopct='%1.1f%%', startangle=90) # startangle是图旋转角度\n",
    "plt.title(\"小家电消费用户的有孩可能性\")"
   ]
  },
  {
   "cell_type": "markdown",
   "metadata": {
    "ExecuteTime": {
     "end_time": "2020-10-05T21:14:16.267976Z",
     "start_time": "2020-10-05T21:14:16.264985Z"
    }
   },
   "source": [
    "### 孩子性别\n",
    "\n",
    "该部分信息无法获取"
   ]
  },
  {
   "cell_type": "code",
   "execution_count": 43,
   "metadata": {
    "ExecuteTime": {
     "end_time": "2020-10-07T18:53:32.245128Z",
     "start_time": "2020-10-07T18:53:32.234157Z"
    }
   },
   "outputs": [
    {
     "data": {
      "text/plain": [
       "1"
      ]
     },
     "execution_count": 43,
     "metadata": {},
     "output_type": "execute_result"
    }
   ],
   "source": [
    "user_info_df[\"ulp_seni_childsex\"].nunique()"
   ]
  },
  {
   "cell_type": "markdown",
   "metadata": {},
   "source": [
    "### 孩子年龄"
   ]
  },
  {
   "cell_type": "code",
   "execution_count": 94,
   "metadata": {
    "ExecuteTime": {
     "end_time": "2020-10-07T19:35:40.189461Z",
     "start_time": "2020-10-07T19:35:40.156549Z"
    }
   },
   "outputs": [
    {
     "data": {
      "text/html": [
       "<div>\n",
       "<style scoped>\n",
       "    .dataframe tbody tr th:only-of-type {\n",
       "        vertical-align: middle;\n",
       "    }\n",
       "\n",
       "    .dataframe tbody tr th {\n",
       "        vertical-align: top;\n",
       "    }\n",
       "\n",
       "    .dataframe thead th {\n",
       "        text-align: right;\n",
       "    }\n",
       "</style>\n",
       "<table border=\"1\" class=\"dataframe\">\n",
       "  <thead>\n",
       "    <tr style=\"text-align: right;\">\n",
       "      <th></th>\n",
       "      <th>ulp_seni_childage</th>\n",
       "      <th>childage_count</th>\n",
       "    </tr>\n",
       "  </thead>\n",
       "  <tbody>\n",
       "    <tr>\n",
       "      <th>104</th>\n",
       "      <td>2021-06</td>\n",
       "      <td>2</td>\n",
       "    </tr>\n",
       "    <tr>\n",
       "      <th>103</th>\n",
       "      <td>2021-05</td>\n",
       "      <td>2</td>\n",
       "    </tr>\n",
       "    <tr>\n",
       "      <th>102</th>\n",
       "      <td>2021-04</td>\n",
       "      <td>15</td>\n",
       "    </tr>\n",
       "    <tr>\n",
       "      <th>101</th>\n",
       "      <td>2021-03</td>\n",
       "      <td>312</td>\n",
       "    </tr>\n",
       "    <tr>\n",
       "      <th>100</th>\n",
       "      <td>2021-02</td>\n",
       "      <td>555</td>\n",
       "    </tr>\n",
       "    <tr>\n",
       "      <th>...</th>\n",
       "      <td>...</td>\n",
       "      <td>...</td>\n",
       "    </tr>\n",
       "    <tr>\n",
       "      <th>5</th>\n",
       "      <td>2013-03</td>\n",
       "      <td>70</td>\n",
       "    </tr>\n",
       "    <tr>\n",
       "      <th>4</th>\n",
       "      <td>2013-02</td>\n",
       "      <td>80</td>\n",
       "    </tr>\n",
       "    <tr>\n",
       "      <th>3</th>\n",
       "      <td>2013-01</td>\n",
       "      <td>86</td>\n",
       "    </tr>\n",
       "    <tr>\n",
       "      <th>2</th>\n",
       "      <td>2012-12</td>\n",
       "      <td>72</td>\n",
       "    </tr>\n",
       "    <tr>\n",
       "      <th>1</th>\n",
       "      <td>2012-11</td>\n",
       "      <td>36</td>\n",
       "    </tr>\n",
       "  </tbody>\n",
       "</table>\n",
       "<p>104 rows × 2 columns</p>\n",
       "</div>"
      ],
      "text/plain": [
       "    ulp_seni_childage  childage_count\n",
       "104           2021-06               2\n",
       "103           2021-05               2\n",
       "102           2021-04              15\n",
       "101           2021-03             312\n",
       "100           2021-02             555\n",
       "..                ...             ...\n",
       "5             2013-03              70\n",
       "4             2013-02              80\n",
       "3             2013-01              86\n",
       "2             2012-12              72\n",
       "1             2012-11              36\n",
       "\n",
       "[104 rows x 2 columns]"
      ]
     },
     "execution_count": 94,
     "metadata": {},
     "output_type": "execute_result"
    }
   ],
   "source": [
    "child_month_df = user_info_df.groupby(\"ulp_seni_childage\", as_index = False)[\"user_log_acct\"].agg({\"childage_count\":\"count\"})\n",
    "child_month_df = child_month_df[child_month_df[\"ulp_seni_childage\"]>=\"0\"]\n",
    "child_month_df = child_month_df.sort_values(by = \"ulp_seni_childage\", ascending = False)\n",
    "child_month_df"
   ]
  },
  {
   "cell_type": "code",
   "execution_count": 95,
   "metadata": {
    "ExecuteTime": {
     "end_time": "2020-10-07T19:35:45.247499Z",
     "start_time": "2020-10-07T19:35:45.237516Z"
    }
   },
   "outputs": [
    {
     "name": "stderr",
     "output_type": "stream",
     "text": [
      "D:\\anaconda3\\lib\\site-packages\\pandas\\core\\indexing.py:670: SettingWithCopyWarning: \n",
      "A value is trying to be set on a copy of a slice from a DataFrame\n",
      "\n",
      "See the caveats in the documentation: https://pandas.pydata.org/pandas-docs/stable/user_guide/indexing.html#returning-a-view-versus-a-copy\n",
      "  self._setitem_with_indexer(indexer, value)\n"
     ]
    },
    {
     "data": {
      "text/plain": [
       "(96, 2)"
      ]
     },
     "execution_count": 95,
     "metadata": {},
     "output_type": "execute_result"
    }
   ],
   "source": [
    "# 将2020年10月开始的日期视作无效日期\n",
    "child_month_df = child_month_df[child_month_df.ulp_seni_childage<\"2020-10\"]\n",
    "child_month_df.loc[\"ulp_seni_childage\"] = child_month_df[\"ulp_seni_childage\"].astype(str)\n",
    "child_month_df.shape"
   ]
  },
  {
   "cell_type": "code",
   "execution_count": 46,
   "metadata": {
    "ExecuteTime": {
     "end_time": "2020-10-07T18:53:32.301976Z",
     "start_time": "2020-10-07T18:53:32.289011Z"
    }
   },
   "outputs": [
    {
     "name": "stderr",
     "output_type": "stream",
     "text": [
      "D:\\anaconda3\\lib\\site-packages\\ipykernel_launcher.py:3: SettingWithCopyWarning: \n",
      "A value is trying to be set on a copy of a slice from a DataFrame.\n",
      "Try using .loc[row_indexer,col_indexer] = value instead\n",
      "\n",
      "See the caveats in the documentation: https://pandas.pydata.org/pandas-docs/stable/user_guide/indexing.html#returning-a-view-versus-a-copy\n",
      "  This is separate from the ipykernel package so we can avoid doing imports until\n",
      "D:\\anaconda3\\lib\\site-packages\\ipykernel_launcher.py:4: SettingWithCopyWarning: \n",
      "A value is trying to be set on a copy of a slice from a DataFrame.\n",
      "Try using .loc[row_indexer,col_indexer] = value instead\n",
      "\n",
      "See the caveats in the documentation: https://pandas.pydata.org/pandas-docs/stable/user_guide/indexing.html#returning-a-view-versus-a-copy\n",
      "  after removing the cwd from sys.path.\n"
     ]
    },
    {
     "data": {
      "text/html": [
       "<div>\n",
       "<style scoped>\n",
       "    .dataframe tbody tr th:only-of-type {\n",
       "        vertical-align: middle;\n",
       "    }\n",
       "\n",
       "    .dataframe tbody tr th {\n",
       "        vertical-align: top;\n",
       "    }\n",
       "\n",
       "    .dataframe thead th {\n",
       "        text-align: right;\n",
       "    }\n",
       "</style>\n",
       "<table border=\"1\" class=\"dataframe\">\n",
       "  <thead>\n",
       "    <tr style=\"text-align: right;\">\n",
       "      <th></th>\n",
       "      <th>ulp_seni_childage</th>\n",
       "      <th>child_count</th>\n",
       "      <th>year</th>\n",
       "      <th>month</th>\n",
       "    </tr>\n",
       "  </thead>\n",
       "  <tbody>\n",
       "    <tr>\n",
       "      <th>95</th>\n",
       "      <td>2020-09</td>\n",
       "      <td>1145.0</td>\n",
       "      <td>2020</td>\n",
       "      <td>09</td>\n",
       "    </tr>\n",
       "    <tr>\n",
       "      <th>94</th>\n",
       "      <td>2020-08</td>\n",
       "      <td>1552.0</td>\n",
       "      <td>2020</td>\n",
       "      <td>08</td>\n",
       "    </tr>\n",
       "    <tr>\n",
       "      <th>93</th>\n",
       "      <td>2020-07</td>\n",
       "      <td>2176.0</td>\n",
       "      <td>2020</td>\n",
       "      <td>07</td>\n",
       "    </tr>\n",
       "    <tr>\n",
       "      <th>92</th>\n",
       "      <td>2020-06</td>\n",
       "      <td>3039.0</td>\n",
       "      <td>2020</td>\n",
       "      <td>06</td>\n",
       "    </tr>\n",
       "    <tr>\n",
       "      <th>91</th>\n",
       "      <td>2020-05</td>\n",
       "      <td>3052.0</td>\n",
       "      <td>2020</td>\n",
       "      <td>05</td>\n",
       "    </tr>\n",
       "  </tbody>\n",
       "</table>\n",
       "</div>"
      ],
      "text/plain": [
       "   ulp_seni_childage  child_count  year month\n",
       "95           2020-09       1145.0  2020    09\n",
       "94           2020-08       1552.0  2020    08\n",
       "93           2020-07       2176.0  2020    07\n",
       "92           2020-06       3039.0  2020    06\n",
       "91           2020-05       3052.0  2020    05"
      ]
     },
     "execution_count": 46,
     "metadata": {},
     "output_type": "execute_result"
    }
   ],
   "source": [
    "# 通过正则表达取出时间（年，月）\n",
    "\n",
    "child_month_df[\"year\"] = child_month_df[\"ulp_seni_childage\"].str.extract(r'([0-9+]{4})-[0-9]{2}',expand = True)\n",
    "child_month_df[\"month\"] = child_month_df[\"ulp_seni_childage\"].str.extract(r'[0-9+]{4}-([0-9]{2})',expand = False)\n",
    "child_month_df.head()"
   ]
  },
  {
   "cell_type": "code",
   "execution_count": 47,
   "metadata": {
    "ExecuteTime": {
     "end_time": "2020-10-07T18:53:32.308957Z",
     "start_time": "2020-10-07T18:53:32.302973Z"
    }
   },
   "outputs": [
    {
     "data": {
      "text/plain": [
       "ulp_seni_childage    1\n",
       "child_count          1\n",
       "year                 1\n",
       "month                1\n",
       "dtype: int64"
      ]
     },
     "execution_count": 47,
     "metadata": {},
     "output_type": "execute_result"
    }
   ],
   "source": [
    "child_month_df.isnull().sum()"
   ]
  },
  {
   "cell_type": "code",
   "execution_count": 48,
   "metadata": {
    "ExecuteTime": {
     "end_time": "2020-10-07T18:53:32.317933Z",
     "start_time": "2020-10-07T18:53:32.309954Z"
    }
   },
   "outputs": [
    {
     "data": {
      "text/plain": [
       "ulp_seni_childage    0\n",
       "child_count          0\n",
       "year                 0\n",
       "month                0\n",
       "dtype: int64"
      ]
     },
     "execution_count": 48,
     "metadata": {},
     "output_type": "execute_result"
    }
   ],
   "source": [
    "# 去掉NA\n",
    "child_month_df = child_month_df[~child_month_df.year.isnull()]\n",
    "child_month_df.isnull().sum()"
   ]
  },
  {
   "cell_type": "code",
   "execution_count": 49,
   "metadata": {
    "ExecuteTime": {
     "end_time": "2020-10-07T18:53:32.336882Z",
     "start_time": "2020-10-07T18:53:32.319928Z"
    }
   },
   "outputs": [
    {
     "data": {
      "text/html": [
       "<div>\n",
       "<style scoped>\n",
       "    .dataframe tbody tr th:only-of-type {\n",
       "        vertical-align: middle;\n",
       "    }\n",
       "\n",
       "    .dataframe tbody tr th {\n",
       "        vertical-align: top;\n",
       "    }\n",
       "\n",
       "    .dataframe thead th {\n",
       "        text-align: right;\n",
       "    }\n",
       "</style>\n",
       "<table border=\"1\" class=\"dataframe\">\n",
       "  <thead>\n",
       "    <tr style=\"text-align: right;\">\n",
       "      <th></th>\n",
       "      <th>ulp_seni_childage</th>\n",
       "      <th>child_count</th>\n",
       "      <th>year</th>\n",
       "      <th>month</th>\n",
       "      <th>age</th>\n",
       "    </tr>\n",
       "  </thead>\n",
       "  <tbody>\n",
       "    <tr>\n",
       "      <th>95</th>\n",
       "      <td>2020-09</td>\n",
       "      <td>1145.0</td>\n",
       "      <td>2020</td>\n",
       "      <td>09</td>\n",
       "      <td>0.74</td>\n",
       "    </tr>\n",
       "    <tr>\n",
       "      <th>94</th>\n",
       "      <td>2020-08</td>\n",
       "      <td>1552.0</td>\n",
       "      <td>2020</td>\n",
       "      <td>08</td>\n",
       "      <td>0.66</td>\n",
       "    </tr>\n",
       "    <tr>\n",
       "      <th>93</th>\n",
       "      <td>2020-07</td>\n",
       "      <td>2176.0</td>\n",
       "      <td>2020</td>\n",
       "      <td>07</td>\n",
       "      <td>0.58</td>\n",
       "    </tr>\n",
       "    <tr>\n",
       "      <th>92</th>\n",
       "      <td>2020-06</td>\n",
       "      <td>3039.0</td>\n",
       "      <td>2020</td>\n",
       "      <td>06</td>\n",
       "      <td>0.49</td>\n",
       "    </tr>\n",
       "    <tr>\n",
       "      <th>91</th>\n",
       "      <td>2020-05</td>\n",
       "      <td>3052.0</td>\n",
       "      <td>2020</td>\n",
       "      <td>05</td>\n",
       "      <td>0.41</td>\n",
       "    </tr>\n",
       "    <tr>\n",
       "      <th>...</th>\n",
       "      <td>...</td>\n",
       "      <td>...</td>\n",
       "      <td>...</td>\n",
       "      <td>...</td>\n",
       "      <td>...</td>\n",
       "    </tr>\n",
       "    <tr>\n",
       "      <th>5</th>\n",
       "      <td>2013-03</td>\n",
       "      <td>70.0</td>\n",
       "      <td>2013</td>\n",
       "      <td>03</td>\n",
       "      <td>7.25</td>\n",
       "    </tr>\n",
       "    <tr>\n",
       "      <th>4</th>\n",
       "      <td>2013-02</td>\n",
       "      <td>80.0</td>\n",
       "      <td>2013</td>\n",
       "      <td>02</td>\n",
       "      <td>7.16</td>\n",
       "    </tr>\n",
       "    <tr>\n",
       "      <th>3</th>\n",
       "      <td>2013-01</td>\n",
       "      <td>86.0</td>\n",
       "      <td>2013</td>\n",
       "      <td>01</td>\n",
       "      <td>7.08</td>\n",
       "    </tr>\n",
       "    <tr>\n",
       "      <th>2</th>\n",
       "      <td>2012-12</td>\n",
       "      <td>72.0</td>\n",
       "      <td>2012</td>\n",
       "      <td>12</td>\n",
       "      <td>8.99</td>\n",
       "    </tr>\n",
       "    <tr>\n",
       "      <th>1</th>\n",
       "      <td>2012-11</td>\n",
       "      <td>36.0</td>\n",
       "      <td>2012</td>\n",
       "      <td>11</td>\n",
       "      <td>8.90</td>\n",
       "    </tr>\n",
       "  </tbody>\n",
       "</table>\n",
       "<p>95 rows × 5 columns</p>\n",
       "</div>"
      ],
      "text/plain": [
       "   ulp_seni_childage  child_count  year month   age\n",
       "95           2020-09       1145.0  2020    09  0.74\n",
       "94           2020-08       1552.0  2020    08  0.66\n",
       "93           2020-07       2176.0  2020    07  0.58\n",
       "92           2020-06       3039.0  2020    06  0.49\n",
       "91           2020-05       3052.0  2020    05  0.41\n",
       "..               ...          ...   ...   ...   ...\n",
       "5            2013-03         70.0  2013    03  7.25\n",
       "4            2013-02         80.0  2013    02  7.16\n",
       "3            2013-01         86.0  2013    01  7.08\n",
       "2            2012-12         72.0  2012    12  8.99\n",
       "1            2012-11         36.0  2012    11  8.90\n",
       "\n",
       "[95 rows x 5 columns]"
      ]
     },
     "execution_count": 49,
     "metadata": {},
     "output_type": "execute_result"
    }
   ],
   "source": [
    "# 计算年龄\n",
    "child_month_df[\"age\"] = 2020-child_month_df[\"year\"].astype(int)+child_month_df[\"month\"].astype(int)*30/365\n",
    "child_month_df[\"age\"] = round(child_month_df[\"age\"],2)\n",
    "child_month_df"
   ]
  },
  {
   "cell_type": "code",
   "execution_count": 50,
   "metadata": {
    "ExecuteTime": {
     "end_time": "2020-10-07T18:53:32.352839Z",
     "start_time": "2020-10-07T18:53:32.337879Z"
    }
   },
   "outputs": [
    {
     "data": {
      "text/html": [
       "<div>\n",
       "<style scoped>\n",
       "    .dataframe tbody tr th:only-of-type {\n",
       "        vertical-align: middle;\n",
       "    }\n",
       "\n",
       "    .dataframe tbody tr th {\n",
       "        vertical-align: top;\n",
       "    }\n",
       "\n",
       "    .dataframe thead th {\n",
       "        text-align: right;\n",
       "    }\n",
       "</style>\n",
       "<table border=\"1\" class=\"dataframe\">\n",
       "  <thead>\n",
       "    <tr style=\"text-align: right;\">\n",
       "      <th></th>\n",
       "      <th>age_range</th>\n",
       "      <th>child_count</th>\n",
       "    </tr>\n",
       "  </thead>\n",
       "  <tbody>\n",
       "    <tr>\n",
       "      <th>0</th>\n",
       "      <td>3岁及以下</td>\n",
       "      <td>76551.0</td>\n",
       "    </tr>\n",
       "    <tr>\n",
       "      <th>1</th>\n",
       "      <td>3-6（含）岁</td>\n",
       "      <td>22999.0</td>\n",
       "    </tr>\n",
       "    <tr>\n",
       "      <th>2</th>\n",
       "      <td>6-9（含）岁</td>\n",
       "      <td>3540.0</td>\n",
       "    </tr>\n",
       "    <tr>\n",
       "      <th>3</th>\n",
       "      <td>9岁以上</td>\n",
       "      <td>0.0</td>\n",
       "    </tr>\n",
       "  </tbody>\n",
       "</table>\n",
       "</div>"
      ],
      "text/plain": [
       "  age_range  child_count\n",
       "0     3岁及以下      76551.0\n",
       "1   3-6（含）岁      22999.0\n",
       "2   6-9（含）岁       3540.0\n",
       "3      9岁以上          0.0"
      ]
     },
     "execution_count": 50,
     "metadata": {},
     "output_type": "execute_result"
    }
   ],
   "source": [
    "# 分箱\n",
    "bins = [0,3,6,9,15]\n",
    "labels = [\"3岁及以下\",\"3-6（含）岁\", \"6-9（含）岁\",\"9岁以上\"]\n",
    "child_month_df[\"age_range\"] = pd.cut(child_month_df[\"age\"],bins = bins,labels = labels)\n",
    "\n",
    "# groupby\n",
    "child_age_range_df = child_month_df.groupby(\"age_range\",as_index = False)[\"child_count\"].sum()\n",
    "child_age_range_df"
   ]
  },
  {
   "cell_type": "code",
   "execution_count": 51,
   "metadata": {
    "ExecuteTime": {
     "end_time": "2020-10-07T18:53:32.469527Z",
     "start_time": "2020-10-07T18:53:32.353836Z"
    }
   },
   "outputs": [
    {
     "data": {
      "text/plain": [
       "Text(0.5, 1.0, '小家电消费用户的孩子年龄分布')"
      ]
     },
     "execution_count": 51,
     "metadata": {},
     "output_type": "execute_result"
    },
    {
     "data": {
      "image/png": "[encoded data removed]",
      "text/plain": [
       "<Figure size 576x360 with 1 Axes>"
      ]
     },
     "metadata": {},
     "output_type": "display_data"
    }
   ],
   "source": [
    "# visualization\n",
    "fig = plt.figure(figsize = (8,5))\n",
    "plt.bar(child_age_range_df[\"age_range\"], child_age_range_df[\"child_count\"],color = \"g\")\n",
    "plt.xticks(size = 12)\n",
    "plt.title(\"小家电消费用户的孩子年龄分布\")"
   ]
  },
  {
   "cell_type": "code",
   "execution_count": 52,
   "metadata": {
    "ExecuteTime": {
     "end_time": "2020-10-07T18:53:32.476508Z",
     "start_time": "2020-10-07T18:53:32.470524Z"
    }
   },
   "outputs": [
    {
     "data": {
      "text/plain": [
       "0"
      ]
     },
     "execution_count": 52,
     "metadata": {},
     "output_type": "execute_result"
    }
   ],
   "source": [
    "child_month_df.year.isnull().sum()"
   ]
  },
  {
   "cell_type": "code",
   "execution_count": 53,
   "metadata": {
    "ExecuteTime": {
     "end_time": "2020-10-07T18:53:32.482492Z",
     "start_time": "2020-10-07T18:53:32.478503Z"
    }
   },
   "outputs": [],
   "source": [
    "child_month_df[\"year\"] = child_month_df[\"year\"].astype(int)"
   ]
  },
  {
   "cell_type": "code",
   "execution_count": 54,
   "metadata": {
    "ExecuteTime": {
     "end_time": "2020-10-07T18:53:32.493464Z",
     "start_time": "2020-10-07T18:53:32.483490Z"
    }
   },
   "outputs": [
    {
     "data": {
      "text/html": [
       "<div>\n",
       "<style scoped>\n",
       "    .dataframe tbody tr th:only-of-type {\n",
       "        vertical-align: middle;\n",
       "    }\n",
       "\n",
       "    .dataframe tbody tr th {\n",
       "        vertical-align: top;\n",
       "    }\n",
       "\n",
       "    .dataframe thead th {\n",
       "        text-align: right;\n",
       "    }\n",
       "</style>\n",
       "<table border=\"1\" class=\"dataframe\">\n",
       "  <thead>\n",
       "    <tr style=\"text-align: right;\">\n",
       "      <th></th>\n",
       "      <th>ulp_seni_childage</th>\n",
       "      <th>child_count</th>\n",
       "      <th>year</th>\n",
       "      <th>month</th>\n",
       "      <th>age</th>\n",
       "      <th>age_range</th>\n",
       "    </tr>\n",
       "  </thead>\n",
       "  <tbody>\n",
       "    <tr>\n",
       "      <th>95</th>\n",
       "      <td>2020-09</td>\n",
       "      <td>1145.0</td>\n",
       "      <td>2020</td>\n",
       "      <td>09</td>\n",
       "      <td>0.74</td>\n",
       "      <td>3岁及以下</td>\n",
       "    </tr>\n",
       "    <tr>\n",
       "      <th>94</th>\n",
       "      <td>2020-08</td>\n",
       "      <td>1552.0</td>\n",
       "      <td>2020</td>\n",
       "      <td>08</td>\n",
       "      <td>0.66</td>\n",
       "      <td>3岁及以下</td>\n",
       "    </tr>\n",
       "    <tr>\n",
       "      <th>93</th>\n",
       "      <td>2020-07</td>\n",
       "      <td>2176.0</td>\n",
       "      <td>2020</td>\n",
       "      <td>07</td>\n",
       "      <td>0.58</td>\n",
       "      <td>3岁及以下</td>\n",
       "    </tr>\n",
       "    <tr>\n",
       "      <th>92</th>\n",
       "      <td>2020-06</td>\n",
       "      <td>3039.0</td>\n",
       "      <td>2020</td>\n",
       "      <td>06</td>\n",
       "      <td>0.49</td>\n",
       "      <td>3岁及以下</td>\n",
       "    </tr>\n",
       "    <tr>\n",
       "      <th>91</th>\n",
       "      <td>2020-05</td>\n",
       "      <td>3052.0</td>\n",
       "      <td>2020</td>\n",
       "      <td>05</td>\n",
       "      <td>0.41</td>\n",
       "      <td>3岁及以下</td>\n",
       "    </tr>\n",
       "  </tbody>\n",
       "</table>\n",
       "</div>"
      ],
      "text/plain": [
       "   ulp_seni_childage  child_count  year month   age age_range\n",
       "95           2020-09       1145.0  2020    09  0.74     3岁及以下\n",
       "94           2020-08       1552.0  2020    08  0.66     3岁及以下\n",
       "93           2020-07       2176.0  2020    07  0.58     3岁及以下\n",
       "92           2020-06       3039.0  2020    06  0.49     3岁及以下\n",
       "91           2020-05       3052.0  2020    05  0.41     3岁及以下"
      ]
     },
     "execution_count": 54,
     "metadata": {},
     "output_type": "execute_result"
    }
   ],
   "source": [
    "child_month_df.head()"
   ]
  },
  {
   "cell_type": "code",
   "execution_count": 55,
   "metadata": {
    "ExecuteTime": {
     "end_time": "2020-10-07T18:53:32.498452Z",
     "start_time": "2020-10-07T18:53:32.495459Z"
    }
   },
   "outputs": [],
   "source": [
    "# 将data转化为date格式\n",
    "#child_month_df.loc[\"ulp_seni_childage\"] = pd.to_datetime(child_month_df[\"ulp_seni_childage\"])\n",
    "#child_month_df.head()"
   ]
  },
  {
   "cell_type": "code",
   "execution_count": 56,
   "metadata": {
    "ExecuteTime": {
     "end_time": "2020-10-07T18:53:32.503437Z",
     "start_time": "2020-10-07T18:53:32.500445Z"
    }
   },
   "outputs": [],
   "source": [
    "# 本月\n",
    "#this_month = datetime.strptime(\"2020-10-01\",\"%Y-%m-%d\")\n",
    "#child_month_df[\"age\"] = this_month - child_month_df[\"ulp_seni_childage\"]\n",
    "#child_month_df.head()"
   ]
  },
  {
   "cell_type": "code",
   "execution_count": 57,
   "metadata": {
    "ExecuteTime": {
     "end_time": "2020-10-07T18:53:32.510418Z",
     "start_time": "2020-10-07T18:53:32.504434Z"
    }
   },
   "outputs": [
    {
     "data": {
      "text/plain": [
       "ulp_seni_childage      object\n",
       "child_count           float64\n",
       "year                    int32\n",
       "month                  object\n",
       "age                   float64\n",
       "age_range            category\n",
       "dtype: object"
      ]
     },
     "execution_count": 57,
     "metadata": {},
     "output_type": "execute_result"
    }
   ],
   "source": [
    "child_month_df.dtypes"
   ]
  },
  {
   "cell_type": "markdown",
   "metadata": {},
   "source": [
    "## 用户的教育水平"
   ]
  },
  {
   "cell_type": "code",
   "execution_count": 58,
   "metadata": {
    "ExecuteTime": {
     "end_time": "2020-10-07T18:53:32.536349Z",
     "start_time": "2020-10-07T18:53:32.511415Z"
    }
   },
   "outputs": [
    {
     "data": {
      "text/html": [
       "<div>\n",
       "<style scoped>\n",
       "    .dataframe tbody tr th:only-of-type {\n",
       "        vertical-align: middle;\n",
       "    }\n",
       "\n",
       "    .dataframe tbody tr th {\n",
       "        vertical-align: top;\n",
       "    }\n",
       "\n",
       "    .dataframe thead th {\n",
       "        text-align: right;\n",
       "    }\n",
       "</style>\n",
       "<table border=\"1\" class=\"dataframe\">\n",
       "  <thead>\n",
       "    <tr style=\"text-align: right;\">\n",
       "      <th></th>\n",
       "      <th>ulp_base_education</th>\n",
       "      <th>edu</th>\n",
       "    </tr>\n",
       "  </thead>\n",
       "  <tbody>\n",
       "    <tr>\n",
       "      <th>0</th>\n",
       "      <td>-1</td>\n",
       "      <td>13872</td>\n",
       "    </tr>\n",
       "    <tr>\n",
       "      <th>1</th>\n",
       "      <td>1</td>\n",
       "      <td>3555</td>\n",
       "    </tr>\n",
       "    <tr>\n",
       "      <th>2</th>\n",
       "      <td>2</td>\n",
       "      <td>36788</td>\n",
       "    </tr>\n",
       "    <tr>\n",
       "      <th>3</th>\n",
       "      <td>3</td>\n",
       "      <td>131534</td>\n",
       "    </tr>\n",
       "    <tr>\n",
       "      <th>4</th>\n",
       "      <td>4</td>\n",
       "      <td>29341</td>\n",
       "    </tr>\n",
       "  </tbody>\n",
       "</table>\n",
       "</div>"
      ],
      "text/plain": [
       "  ulp_base_education     edu\n",
       "0                 -1   13872\n",
       "1                  1    3555\n",
       "2                  2   36788\n",
       "3                  3  131534\n",
       "4                  4   29341"
      ]
     },
     "execution_count": 58,
     "metadata": {},
     "output_type": "execute_result"
    }
   ],
   "source": [
    "user_edu_df = user_info_df.groupby('ulp_base_education', as_index=False)['user_log_acct']\\\n",
    "                .agg({'edu':'count'})\\\n",
    "                .sort_values(by='ulp_base_education', ascending=True)\n",
    "user_edu_df"
   ]
  },
  {
   "cell_type": "code",
   "execution_count": 59,
   "metadata": {
    "ExecuteTime": {
     "end_time": "2020-10-07T18:53:32.545324Z",
     "start_time": "2020-10-07T18:53:32.537346Z"
    }
   },
   "outputs": [
    {
     "data": {
      "text/html": [
       "<div>\n",
       "<style scoped>\n",
       "    .dataframe tbody tr th:only-of-type {\n",
       "        vertical-align: middle;\n",
       "    }\n",
       "\n",
       "    .dataframe tbody tr th {\n",
       "        vertical-align: top;\n",
       "    }\n",
       "\n",
       "    .dataframe thead th {\n",
       "        text-align: right;\n",
       "    }\n",
       "</style>\n",
       "<table border=\"1\" class=\"dataframe\">\n",
       "  <thead>\n",
       "    <tr style=\"text-align: right;\">\n",
       "      <th></th>\n",
       "      <th>ulp_base_education</th>\n",
       "      <th>edu</th>\n",
       "    </tr>\n",
       "  </thead>\n",
       "  <tbody>\n",
       "    <tr>\n",
       "      <th>1</th>\n",
       "      <td>1</td>\n",
       "      <td>3555</td>\n",
       "    </tr>\n",
       "    <tr>\n",
       "      <th>2</th>\n",
       "      <td>2</td>\n",
       "      <td>36788</td>\n",
       "    </tr>\n",
       "    <tr>\n",
       "      <th>3</th>\n",
       "      <td>3</td>\n",
       "      <td>131534</td>\n",
       "    </tr>\n",
       "    <tr>\n",
       "      <th>4</th>\n",
       "      <td>4</td>\n",
       "      <td>29341</td>\n",
       "    </tr>\n",
       "  </tbody>\n",
       "</table>\n",
       "</div>"
      ],
      "text/plain": [
       "  ulp_base_education     edu\n",
       "1                  1    3555\n",
       "2                  2   36788\n",
       "3                  3  131534\n",
       "4                  4   29341"
      ]
     },
     "execution_count": 59,
     "metadata": {},
     "output_type": "execute_result"
    }
   ],
   "source": [
    "user_edu_df = user_edu_df[user_edu_df['ulp_base_education'] != '-1']\n",
    "user_edu_df"
   ]
  },
  {
   "cell_type": "code",
   "execution_count": 60,
   "metadata": {
    "ExecuteTime": {
     "end_time": "2020-10-07T18:53:32.713874Z",
     "start_time": "2020-10-07T18:53:32.546322Z"
    }
   },
   "outputs": [
    {
     "data": {
      "text/plain": [
       "<BarContainer object of 4 artists>"
      ]
     },
     "execution_count": 60,
     "metadata": {},
     "output_type": "execute_result"
    },
    {
     "data": {
      "image/png": "[encoded data removed]",
      "text/plain": [
       "<Figure size 1600x640 with 1 Axes>"
      ]
     },
     "metadata": {},
     "output_type": "display_data"
    }
   ],
   "source": [
    "x = ['初中及以下', '高中（中专）', '大学（专科及本科）', '研究生（硕士及以上']\n",
    "y = user_edu_df['edu']\n",
    "\n",
    "plt.figure(figsize=(20,8),dpi=80)\n",
    "plt.style.use('ggplot')\n",
    "plt.title(\"小家电消费用户的学历分布\", size=24)\n",
    "\n",
    "plt.xticks(size=16) # x轴字体大小调整\n",
    "plt.yticks(size=16) # y轴字体大小调整\n",
    "\n",
    "plt.bar(x, y, width=0.3, color='#6699CC')"
   ]
  },
  {
   "cell_type": "markdown",
   "metadata": {},
   "source": [
    "## 小家电消费用户的职业分布"
   ]
  },
  {
   "cell_type": "code",
   "execution_count": 61,
   "metadata": {
    "ExecuteTime": {
     "end_time": "2020-10-07T18:53:32.739805Z",
     "start_time": "2020-10-07T18:53:32.714872Z"
    }
   },
   "outputs": [
    {
     "data": {
      "text/html": [
       "<div>\n",
       "<style scoped>\n",
       "    .dataframe tbody tr th:only-of-type {\n",
       "        vertical-align: middle;\n",
       "    }\n",
       "\n",
       "    .dataframe tbody tr th {\n",
       "        vertical-align: top;\n",
       "    }\n",
       "\n",
       "    .dataframe thead th {\n",
       "        text-align: right;\n",
       "    }\n",
       "</style>\n",
       "<table border=\"1\" class=\"dataframe\">\n",
       "  <thead>\n",
       "    <tr style=\"text-align: right;\">\n",
       "      <th></th>\n",
       "      <th>ulp_base_profession</th>\n",
       "      <th>profession</th>\n",
       "    </tr>\n",
       "  </thead>\n",
       "  <tbody>\n",
       "    <tr>\n",
       "      <th>0</th>\n",
       "      <td>-1</td>\n",
       "      <td>61755</td>\n",
       "    </tr>\n",
       "    <tr>\n",
       "      <th>1</th>\n",
       "      <td>a</td>\n",
       "      <td>3492</td>\n",
       "    </tr>\n",
       "    <tr>\n",
       "      <th>2</th>\n",
       "      <td>b</td>\n",
       "      <td>4268</td>\n",
       "    </tr>\n",
       "    <tr>\n",
       "      <th>3</th>\n",
       "      <td>c</td>\n",
       "      <td>10195</td>\n",
       "    </tr>\n",
       "    <tr>\n",
       "      <th>4</th>\n",
       "      <td>d</td>\n",
       "      <td>37080</td>\n",
       "    </tr>\n",
       "    <tr>\n",
       "      <th>5</th>\n",
       "      <td>e</td>\n",
       "      <td>14675</td>\n",
       "    </tr>\n",
       "    <tr>\n",
       "      <th>6</th>\n",
       "      <td>f</td>\n",
       "      <td>33167</td>\n",
       "    </tr>\n",
       "    <tr>\n",
       "      <th>7</th>\n",
       "      <td>g</td>\n",
       "      <td>40932</td>\n",
       "    </tr>\n",
       "    <tr>\n",
       "      <th>8</th>\n",
       "      <td>h</td>\n",
       "      <td>9526</td>\n",
       "    </tr>\n",
       "  </tbody>\n",
       "</table>\n",
       "</div>"
      ],
      "text/plain": [
       "  ulp_base_profession  profession\n",
       "0                  -1       61755\n",
       "1                   a        3492\n",
       "2                   b        4268\n",
       "3                   c       10195\n",
       "4                   d       37080\n",
       "5                   e       14675\n",
       "6                   f       33167\n",
       "7                   g       40932\n",
       "8                   h        9526"
      ]
     },
     "execution_count": 61,
     "metadata": {},
     "output_type": "execute_result"
    }
   ],
   "source": [
    "user_profession_df = user_info_df.groupby('ulp_base_profession', as_index=False)['user_log_acct']\\\n",
    "                    .agg({'profession':'count'})\\\n",
    "                    .sort_values(by='ulp_base_profession', ascending=True)\n",
    "user_profession_df"
   ]
  },
  {
   "cell_type": "code",
   "execution_count": 62,
   "metadata": {
    "ExecuteTime": {
     "end_time": "2020-10-07T18:53:32.749777Z",
     "start_time": "2020-10-07T18:53:32.740802Z"
    }
   },
   "outputs": [
    {
     "data": {
      "text/html": [
       "<div>\n",
       "<style scoped>\n",
       "    .dataframe tbody tr th:only-of-type {\n",
       "        vertical-align: middle;\n",
       "    }\n",
       "\n",
       "    .dataframe tbody tr th {\n",
       "        vertical-align: top;\n",
       "    }\n",
       "\n",
       "    .dataframe thead th {\n",
       "        text-align: right;\n",
       "    }\n",
       "</style>\n",
       "<table border=\"1\" class=\"dataframe\">\n",
       "  <thead>\n",
       "    <tr style=\"text-align: right;\">\n",
       "      <th></th>\n",
       "      <th>ulp_base_profession</th>\n",
       "      <th>profession</th>\n",
       "    </tr>\n",
       "  </thead>\n",
       "  <tbody>\n",
       "    <tr>\n",
       "      <th>1</th>\n",
       "      <td>a</td>\n",
       "      <td>3492</td>\n",
       "    </tr>\n",
       "    <tr>\n",
       "      <th>2</th>\n",
       "      <td>b</td>\n",
       "      <td>4268</td>\n",
       "    </tr>\n",
       "    <tr>\n",
       "      <th>3</th>\n",
       "      <td>c</td>\n",
       "      <td>10195</td>\n",
       "    </tr>\n",
       "    <tr>\n",
       "      <th>4</th>\n",
       "      <td>d</td>\n",
       "      <td>37080</td>\n",
       "    </tr>\n",
       "    <tr>\n",
       "      <th>5</th>\n",
       "      <td>e</td>\n",
       "      <td>14675</td>\n",
       "    </tr>\n",
       "    <tr>\n",
       "      <th>6</th>\n",
       "      <td>f</td>\n",
       "      <td>33167</td>\n",
       "    </tr>\n",
       "    <tr>\n",
       "      <th>7</th>\n",
       "      <td>g</td>\n",
       "      <td>40932</td>\n",
       "    </tr>\n",
       "    <tr>\n",
       "      <th>8</th>\n",
       "      <td>h</td>\n",
       "      <td>9526</td>\n",
       "    </tr>\n",
       "  </tbody>\n",
       "</table>\n",
       "</div>"
      ],
      "text/plain": [
       "  ulp_base_profession  profession\n",
       "1                   a        3492\n",
       "2                   b        4268\n",
       "3                   c       10195\n",
       "4                   d       37080\n",
       "5                   e       14675\n",
       "6                   f       33167\n",
       "7                   g       40932\n",
       "8                   h        9526"
      ]
     },
     "execution_count": 62,
     "metadata": {},
     "output_type": "execute_result"
    }
   ],
   "source": [
    "user_profession_df = user_profession_df[user_profession_df['ulp_base_profession'] != '-1']\n",
    "user_profession_df"
   ]
  },
  {
   "cell_type": "code",
   "execution_count": 63,
   "metadata": {
    "ExecuteTime": {
     "end_time": "2020-10-07T18:53:32.932289Z",
     "start_time": "2020-10-07T18:53:32.750774Z"
    }
   },
   "outputs": [
    {
     "data": {
      "text/plain": [
       "<BarContainer object of 8 artists>"
      ]
     },
     "execution_count": 63,
     "metadata": {},
     "output_type": "execute_result"
    },
    {
     "data": {
      "image/png": "[encoded data removed]",
      "text/plain": [
       "<Figure size 1600x640 with 1 Axes>"
      ]
     },
     "metadata": {},
     "output_type": "display_data"
    }
   ],
   "source": [
    "x = ['金融从业者', '医务人员', '公务员/事业单位', '白领/一般职员', '工人/服务业人员', '教师', '互联网从业人员', '学生']\n",
    "y = user_profession_df['profession']\n",
    "\n",
    "plt.figure(figsize=(20,8),dpi=80)\n",
    "plt.style.use('ggplot')\n",
    "plt.ylim(ymax=50000) # y轴坐标最大值设为50000\n",
    "plt.title(\"小家电消费用户的职业分布\", size=24)\n",
    "\n",
    "plt.xticks(size=16) # x轴字体大小调整\n",
    "plt.yticks(size=16) # y轴字体大小调整\n",
    "\n",
    "plt.bar(x, y, width=0.5, color='#6699CC')"
   ]
  },
  {
   "cell_type": "markdown",
   "metadata": {},
   "source": [
    "## 用户收入\n",
    "\n",
    "无法获取该部分数据"
   ]
  },
  {
   "cell_type": "code",
   "execution_count": 64,
   "metadata": {
    "ExecuteTime": {
     "end_time": "2020-10-07T18:53:32.956225Z",
     "start_time": "2020-10-07T18:53:32.933287Z"
    }
   },
   "outputs": [
    {
     "data": {
      "text/html": [
       "<div>\n",
       "<style scoped>\n",
       "    .dataframe tbody tr th:only-of-type {\n",
       "        vertical-align: middle;\n",
       "    }\n",
       "\n",
       "    .dataframe tbody tr th {\n",
       "        vertical-align: top;\n",
       "    }\n",
       "\n",
       "    .dataframe thead th {\n",
       "        text-align: right;\n",
       "    }\n",
       "</style>\n",
       "<table border=\"1\" class=\"dataframe\">\n",
       "  <thead>\n",
       "    <tr style=\"text-align: right;\">\n",
       "      <th></th>\n",
       "      <th>ulp_base_income</th>\n",
       "      <th>income</th>\n",
       "    </tr>\n",
       "  </thead>\n",
       "  <tbody>\n",
       "    <tr>\n",
       "      <th>0</th>\n",
       "      <td>-1</td>\n",
       "      <td>215090</td>\n",
       "    </tr>\n",
       "  </tbody>\n",
       "</table>\n",
       "</div>"
      ],
      "text/plain": [
       "  ulp_base_income  income\n",
       "0              -1  215090"
      ]
     },
     "execution_count": 64,
     "metadata": {},
     "output_type": "execute_result"
    }
   ],
   "source": [
    "user_info_df.groupby(\"ulp_base_income\", as_index = False)[\"user_log_acct\"].agg({\"income\" : \"count\"})"
   ]
  },
  {
   "cell_type": "markdown",
   "metadata": {},
   "source": [
    "## 是否有车"
   ]
  },
  {
   "cell_type": "code",
   "execution_count": 98,
   "metadata": {
    "ExecuteTime": {
     "end_time": "2020-10-07T19:36:45.889207Z",
     "start_time": "2020-10-07T19:36:45.863276Z"
    }
   },
   "outputs": [
    {
     "data": {
      "text/html": [
       "<div>\n",
       "<style scoped>\n",
       "    .dataframe tbody tr th:only-of-type {\n",
       "        vertical-align: middle;\n",
       "    }\n",
       "\n",
       "    .dataframe tbody tr th {\n",
       "        vertical-align: top;\n",
       "    }\n",
       "\n",
       "    .dataframe thead th {\n",
       "        text-align: right;\n",
       "    }\n",
       "</style>\n",
       "<table border=\"1\" class=\"dataframe\">\n",
       "  <thead>\n",
       "    <tr style=\"text-align: right;\">\n",
       "      <th></th>\n",
       "      <th>ulp_seni_hascar</th>\n",
       "      <th>car_count</th>\n",
       "    </tr>\n",
       "  </thead>\n",
       "  <tbody>\n",
       "    <tr>\n",
       "      <th>0</th>\n",
       "      <td>-1</td>\n",
       "      <td>114522</td>\n",
       "    </tr>\n",
       "    <tr>\n",
       "      <th>1</th>\n",
       "      <td>0</td>\n",
       "      <td>30974</td>\n",
       "    </tr>\n",
       "    <tr>\n",
       "      <th>2</th>\n",
       "      <td>1</td>\n",
       "      <td>69594</td>\n",
       "    </tr>\n",
       "  </tbody>\n",
       "</table>\n",
       "</div>"
      ],
      "text/plain": [
       "  ulp_seni_hascar  car_count\n",
       "0              -1     114522\n",
       "1               0      30974\n",
       "2               1      69594"
      ]
     },
     "execution_count": 98,
     "metadata": {},
     "output_type": "execute_result"
    }
   ],
   "source": [
    "user_car_df = user_info_df.groupby(\"ulp_seni_hascar\", as_index = False)[\"user_log_acct\"].agg({\"car_count\":\"count\"})\n",
    "user_car_df"
   ]
  },
  {
   "cell_type": "code",
   "execution_count": 101,
   "metadata": {
    "ExecuteTime": {
     "end_time": "2020-10-07T19:37:14.363986Z",
     "start_time": "2020-10-07T19:37:14.356008Z"
    }
   },
   "outputs": [
    {
     "data": {
      "text/html": [
       "<div>\n",
       "<style scoped>\n",
       "    .dataframe tbody tr th:only-of-type {\n",
       "        vertical-align: middle;\n",
       "    }\n",
       "\n",
       "    .dataframe tbody tr th {\n",
       "        vertical-align: top;\n",
       "    }\n",
       "\n",
       "    .dataframe thead th {\n",
       "        text-align: right;\n",
       "    }\n",
       "</style>\n",
       "<table border=\"1\" class=\"dataframe\">\n",
       "  <thead>\n",
       "    <tr style=\"text-align: right;\">\n",
       "      <th></th>\n",
       "      <th>ulp_seni_hascar</th>\n",
       "      <th>car_count</th>\n",
       "    </tr>\n",
       "  </thead>\n",
       "  <tbody>\n",
       "    <tr>\n",
       "      <th>1</th>\n",
       "      <td>0</td>\n",
       "      <td>30974</td>\n",
       "    </tr>\n",
       "    <tr>\n",
       "      <th>2</th>\n",
       "      <td>1</td>\n",
       "      <td>69594</td>\n",
       "    </tr>\n",
       "  </tbody>\n",
       "</table>\n",
       "</div>"
      ],
      "text/plain": [
       "  ulp_seni_hascar  car_count\n",
       "1               0      30974\n",
       "2               1      69594"
      ]
     },
     "execution_count": 101,
     "metadata": {},
     "output_type": "execute_result"
    }
   ],
   "source": [
    "user_car_df = user_car_df[user_car_df.ulp_seni_hascar >=\"0\"]\n",
    "user_car_df"
   ]
  },
  {
   "cell_type": "code",
   "execution_count": 66,
   "metadata": {
    "ExecuteTime": {
     "end_time": "2020-10-07T18:53:32.994124Z",
     "start_time": "2020-10-07T18:53:32.985179Z"
    }
   },
   "outputs": [
    {
     "data": {
      "text/html": [
       "<div>\n",
       "<style scoped>\n",
       "    .dataframe tbody tr th:only-of-type {\n",
       "        vertical-align: middle;\n",
       "    }\n",
       "\n",
       "    .dataframe tbody tr th {\n",
       "        vertical-align: top;\n",
       "    }\n",
       "\n",
       "    .dataframe thead th {\n",
       "        text-align: right;\n",
       "    }\n",
       "</style>\n",
       "<table border=\"1\" class=\"dataframe\">\n",
       "  <thead>\n",
       "    <tr style=\"text-align: right;\">\n",
       "      <th></th>\n",
       "      <th>ulp_seni_hascar</th>\n",
       "      <th>car_count</th>\n",
       "      <th>percent</th>\n",
       "    </tr>\n",
       "  </thead>\n",
       "  <tbody>\n",
       "    <tr>\n",
       "      <th>1</th>\n",
       "      <td>0</td>\n",
       "      <td>30974</td>\n",
       "      <td>0.307991</td>\n",
       "    </tr>\n",
       "    <tr>\n",
       "      <th>2</th>\n",
       "      <td>1</td>\n",
       "      <td>69594</td>\n",
       "      <td>0.692009</td>\n",
       "    </tr>\n",
       "  </tbody>\n",
       "</table>\n",
       "</div>"
      ],
      "text/plain": [
       "  ulp_seni_hascar  car_count   percent\n",
       "1               0      30974  0.307991\n",
       "2               1      69594  0.692009"
      ]
     },
     "execution_count": 66,
     "metadata": {},
     "output_type": "execute_result"
    }
   ],
   "source": [
    "# 统计人数\n",
    "have_car = user_car_df[\"car_count\"][1]\n",
    "no_car = user_car_df[\"car_count\"][2]\n",
    "total_user = have_car+no_car\n",
    "\n",
    "# 百分比\n",
    "user_car_df[\"percent\"] = user_car_df[\"car_count\"]/total_user\n",
    "user_car_df"
   ]
  },
  {
   "cell_type": "code",
   "execution_count": 67,
   "metadata": {
    "ExecuteTime": {
     "end_time": "2020-10-07T18:53:33.140731Z",
     "start_time": "2020-10-07T18:53:33.003101Z"
    }
   },
   "outputs": [
    {
     "data": {
      "text/plain": [
       "Text(0.5, 1.0, '小家电消费用户私家车拥有率')"
      ]
     },
     "execution_count": 67,
     "metadata": {},
     "output_type": "execute_result"
    },
    {
     "data": {
      "image/png": "[encoded data removed]",
      "text/plain": [
       "<Figure size 720x360 with 2 Axes>"
      ]
     },
     "metadata": {},
     "output_type": "display_data"
    }
   ],
   "source": [
    "labels = [\"无车\", \"有车\"]\n",
    "plt.figure(figsize = (10,5))\n",
    "\n",
    "# 柱状图\n",
    "plt.subplot(121)\n",
    "plt.bar(labels,[no_car,have_car],width = 0.5)\n",
    "plt.title(\"小家电消费用户私家车拥有情况对比\")\n",
    "\n",
    "# 饼图\n",
    "plt.subplot(122)\n",
    "plt.pie(user_car_df[\"percent\"],labels = labels, autopct='%1.2f%%')\n",
    "plt.xticks(size = 14)\n",
    "plt.title(\"小家电消费用户私家车拥有率\")"
   ]
  },
  {
   "cell_type": "markdown",
   "metadata": {},
   "source": [
    "## 小家电消费用户画像-基本属性总结\n",
    "\n",
    "**一位典型小家电消费用户画像：**\n",
    "\n",
    "他是一位30岁左右的男士，来自一线或新一线城市；\n",
    "\n",
    "他有着本科学历，在互联网公司就职或是其他行业白领；\n",
    "\n",
    "他已婚并且有了孩子，孩子在3岁以下；\n",
    "\n",
    "有一辆代步车；\n",
    "\n",
    "**推测**\n",
    "\n",
    "他应该拥比较追求生活品质，注重家庭观念。\n",
    "\n",
    "但是一线城市节奏快，生活压力大，他可能缺少时间和精力来关注家庭生活。\n",
    "\n",
    "**结论**\n",
    "\n",
    "促销的文案可以采用比较中性的风格，突出促销产品对于家庭生活品质的提升。"
   ]
  },
  {
   "cell_type": "markdown",
   "metadata": {},
   "source": [
    "# 行为属性"
   ]
  },
  {
   "cell_type": "code",
   "execution_count": 251,
   "metadata": {
    "ExecuteTime": {
     "end_time": "2020-10-07T21:19:12.292710Z",
     "start_time": "2020-10-07T21:19:11.662397Z"
    }
   },
   "outputs": [
    {
     "name": "stdout",
     "output_type": "stream",
     "text": [
      "<class 'pandas.core.frame.DataFrame'>\n",
      "Int64Index: 232599 entries, 9 to 607711\n",
      "Data columns (total 65 columns):\n",
      " #   Column                   Non-Null Count   Dtype         \n",
      "---  ------                   --------------   -----         \n",
      " 0   user_log_acct            232599 non-null  object        \n",
      " 1   parent_sale_ord_id       232599 non-null  object        \n",
      " 2   sale_ord_id              232599 non-null  object        \n",
      " 3   sale_ord_tm              232599 non-null  datetime64[ns]\n",
      " 4   sale_ord_dt              232599 non-null  datetime64[ns]\n",
      " 5   item_sku_id              232599 non-null  object        \n",
      " 6   item_name                232599 non-null  object        \n",
      " 7   brandname                232599 non-null  object        \n",
      " 8   sale_qtty                232599 non-null  int32         \n",
      " 9   item_first_cate_name     232599 non-null  object        \n",
      " 10  item_second_cate_name    232599 non-null  object        \n",
      " 11  item_third_cate_name     232599 non-null  object        \n",
      " 12  before_prefr_unit_price  232599 non-null  float64       \n",
      " 13  after_prefr_unit_price   232599 non-null  float64       \n",
      " 14  user_actual_pay_amount   232599 non-null  float64       \n",
      " 15  sale_ord_valid_flag      232599 non-null  int32         \n",
      " 16  cancel_flag              232599 non-null  int32         \n",
      " 17  check_account_tm         232598 non-null  object        \n",
      " 18  total_offer_amount       232599 non-null  float64       \n",
      " 19  self_ord_flag            232599 non-null  int32         \n",
      " 20  user_site_city_id        168241 non-null  object        \n",
      " 21  user_site_province_id    168286 non-null  object        \n",
      " 22  user_lv_cd               232599 non-null  object        \n",
      " 23  rev_addr_province_id     232599 non-null  object        \n",
      " 24  rev_addr_city_id         232599 non-null  object        \n",
      " 25  wait_check_account_flag  232599 non-null  object        \n",
      " 26  check_account_tm         232598 non-null  datetime64[ns]\n",
      " 27  ulp_base_sex             232599 non-null  object        \n",
      " 28  ulp_base_age             232599 non-null  object        \n",
      " 29  ulp_base_income          232599 non-null  object        \n",
      " 30  ulp_base_education       232599 non-null  object        \n",
      " 31  ulp_base_regprovince     232599 non-null  object        \n",
      " 32  ulp_base_regcity         232599 non-null  object        \n",
      " 33  ulp_user_reg_source_det  0 non-null       object        \n",
      " 34  ulp_user_reg_days        232599 non-null  object        \n",
      " 35  ulp_base_regtime         232599 non-null  object        \n",
      " 36  ulp_base_ulevel          232599 non-null  object        \n",
      " 37  ulp_jd_jx_value          232599 non-null  object        \n",
      " 38  ulp_is_plus_member       232599 non-null  object        \n",
      " 39  ulp_is_student_customer  232599 non-null  object        \n",
      " 40  ulp_base_profession      232599 non-null  object        \n",
      " 41  ulp_addr_province        232599 non-null  object        \n",
      " 42  ulp_addr_city            232599 non-null  object        \n",
      " 43  ulp_addr_county          232599 non-null  object        \n",
      " 44  ulp_site_province_name   232599 non-null  object        \n",
      " 45  ulp_site_city_name       232599 non-null  object        \n",
      " 46  ulp_base_marriage        232599 non-null  object        \n",
      " 47  ulp_base_child           232599 non-null  object        \n",
      " 48  ulp_seni_childage        232599 non-null  object        \n",
      " 49  ulp_seni_childsex        232599 non-null  object        \n",
      " 50  ulp_seni_hascar          232599 non-null  object        \n",
      " 51  ulp_tmsale_3m_pctatm     232599 non-null  object        \n",
      " 52  ulp_old                  232599 non-null  object        \n",
      " 53  ulp_plus_used            232599 non-null  object        \n",
      " 54  cvl_glob_valuegrp        232599 non-null  object        \n",
      " 55  cvl_glob_values          232599 non-null  object        \n",
      " 56  cvl_glob_loyalty         232599 non-null  object        \n",
      " 57  cvl_glob_platform        232599 non-null  object        \n",
      " 58  cfv_sens_promotion       232599 non-null  object        \n",
      " 59  cfv_sens_comment         232599 non-null  object        \n",
      " 60  reg_user_type_cd         106225 non-null  object        \n",
      " 61  member_reg_gender        231802 non-null  object        \n",
      " 62  reg_birthday             79477 non-null   object        \n",
      " 63  last_login_tm            218577 non-null  object        \n",
      " 64  factory_user_flag        232599 non-null  object        \n",
      "dtypes: datetime64[ns](3), float64(4), int32(4), object(54)\n",
      "memory usage: 113.6+ MB\n"
     ]
    }
   ],
   "source": [
    "# 订单维度的分析， 使用的是有效订单\n",
    "\n",
    "vaild_order_user_df = order_user_df[(order_user_df['sale_ord_valid_flag'] == 1)\n",
    "                          &(order_user_df['cancel_flag'] == 0)\n",
    "                          &(order_user_df['check_account_tm'] != 0)\n",
    "                          &(order_user_df['before_prefr_unit_price'] != 0)\n",
    "                          &(order_user_df['user_actual_pay_amount'] != 0)] # 筛选有效订单\n",
    "vaild_order_user_df.info()"
   ]
  },
  {
   "cell_type": "code",
   "execution_count": 328,
   "metadata": {
    "ExecuteTime": {
     "end_time": "2020-10-07T21:53:55.554193Z",
     "start_time": "2020-10-07T21:53:55.421546Z"
    }
   },
   "outputs": [
    {
     "name": "stderr",
     "output_type": "stream",
     "text": [
      "D:\\anaconda3\\lib\\site-packages\\ipykernel_launcher.py:1: SettingWithCopyWarning: \n",
      "A value is trying to be set on a copy of a slice from a DataFrame.\n",
      "Try using .loc[row_indexer,col_indexer] = value instead\n",
      "\n",
      "See the caveats in the documentation: https://pandas.pydata.org/pandas-docs/stable/user_guide/indexing.html#returning-a-view-versus-a-copy\n",
      "  \"\"\"Entry point for launching an IPython kernel.\n",
      "D:\\anaconda3\\lib\\site-packages\\ipykernel_launcher.py:2: SettingWithCopyWarning: \n",
      "A value is trying to be set on a copy of a slice from a DataFrame.\n",
      "Try using .loc[row_indexer,col_indexer] = value instead\n",
      "\n",
      "See the caveats in the documentation: https://pandas.pydata.org/pandas-docs/stable/user_guide/indexing.html#returning-a-view-versus-a-copy\n",
      "  \n"
     ]
    }
   ],
   "source": [
    "vaild_order_user_df[\"cvl_glob_values\"] = vaild_order_user_df[\"cvl_glob_values\"].astype(float)\n",
    "vaild_order_user_df[\"cvl_glob_platform\"] = vaild_order_user_df[\"cvl_glob_platform\"].astype(float)"
   ]
  },
  {
   "cell_type": "markdown",
   "metadata": {},
   "source": [
    "## 小家电(三级商品)购买情况"
   ]
  },
  {
   "cell_type": "code",
   "execution_count": 69,
   "metadata": {
    "ExecuteTime": {
     "end_time": "2020-10-07T18:53:33.768052Z",
     "start_time": "2020-10-07T18:53:33.734144Z"
    }
   },
   "outputs": [
    {
     "data": {
      "text/html": [
       "<div>\n",
       "<style scoped>\n",
       "    .dataframe tbody tr th:only-of-type {\n",
       "        vertical-align: middle;\n",
       "    }\n",
       "\n",
       "    .dataframe tbody tr th {\n",
       "        vertical-align: top;\n",
       "    }\n",
       "\n",
       "    .dataframe thead th {\n",
       "        text-align: right;\n",
       "    }\n",
       "</style>\n",
       "<table border=\"1\" class=\"dataframe\">\n",
       "  <thead>\n",
       "    <tr style=\"text-align: right;\">\n",
       "      <th></th>\n",
       "      <th>item_third_cate_name</th>\n",
       "      <th>cate_count</th>\n",
       "    </tr>\n",
       "  </thead>\n",
       "  <tbody>\n",
       "    <tr>\n",
       "      <th>16</th>\n",
       "      <td>电风扇</td>\n",
       "      <td>74863</td>\n",
       "    </tr>\n",
       "    <tr>\n",
       "      <th>2</th>\n",
       "      <td>净水器</td>\n",
       "      <td>39712</td>\n",
       "    </tr>\n",
       "    <tr>\n",
       "      <th>20</th>\n",
       "      <td>饮水机</td>\n",
       "      <td>16847</td>\n",
       "    </tr>\n",
       "    <tr>\n",
       "      <th>3</th>\n",
       "      <td>加湿器</td>\n",
       "      <td>16240</td>\n",
       "    </tr>\n",
       "    <tr>\n",
       "      <th>5</th>\n",
       "      <td>吸尘器</td>\n",
       "      <td>15899</td>\n",
       "    </tr>\n",
       "    <tr>\n",
       "      <th>8</th>\n",
       "      <td>挂烫机/熨斗</td>\n",
       "      <td>13008</td>\n",
       "    </tr>\n",
       "    <tr>\n",
       "      <th>17</th>\n",
       "      <td>空气净化器</td>\n",
       "      <td>10383</td>\n",
       "    </tr>\n",
       "    <tr>\n",
       "      <th>1</th>\n",
       "      <td>冷风扇</td>\n",
       "      <td>9237</td>\n",
       "    </tr>\n",
       "    <tr>\n",
       "      <th>7</th>\n",
       "      <td>扫地机器人</td>\n",
       "      <td>8630</td>\n",
       "    </tr>\n",
       "    <tr>\n",
       "      <th>15</th>\n",
       "      <td>电话机</td>\n",
       "      <td>6085</td>\n",
       "    </tr>\n",
       "    <tr>\n",
       "      <th>11</th>\n",
       "      <td>清洁机</td>\n",
       "      <td>5989</td>\n",
       "    </tr>\n",
       "    <tr>\n",
       "      <th>19</th>\n",
       "      <td>除螨仪</td>\n",
       "      <td>4692</td>\n",
       "    </tr>\n",
       "    <tr>\n",
       "      <th>18</th>\n",
       "      <td>除湿机</td>\n",
       "      <td>4422</td>\n",
       "    </tr>\n",
       "    <tr>\n",
       "      <th>4</th>\n",
       "      <td>取暖电器</td>\n",
       "      <td>2321</td>\n",
       "    </tr>\n",
       "    <tr>\n",
       "      <th>6</th>\n",
       "      <td>干衣机</td>\n",
       "      <td>1677</td>\n",
       "    </tr>\n",
       "    <tr>\n",
       "      <th>10</th>\n",
       "      <td>毛球修剪器</td>\n",
       "      <td>856</td>\n",
       "    </tr>\n",
       "    <tr>\n",
       "      <th>12</th>\n",
       "      <td>特殊商品</td>\n",
       "      <td>687</td>\n",
       "    </tr>\n",
       "    <tr>\n",
       "      <th>0</th>\n",
       "      <td>其它生活电器</td>\n",
       "      <td>584</td>\n",
       "    </tr>\n",
       "    <tr>\n",
       "      <th>14</th>\n",
       "      <td>电暖桌</td>\n",
       "      <td>261</td>\n",
       "    </tr>\n",
       "    <tr>\n",
       "      <th>9</th>\n",
       "      <td>新风系统</td>\n",
       "      <td>175</td>\n",
       "    </tr>\n",
       "    <tr>\n",
       "      <th>13</th>\n",
       "      <td>生活电器配件</td>\n",
       "      <td>31</td>\n",
       "    </tr>\n",
       "  </tbody>\n",
       "</table>\n",
       "</div>"
      ],
      "text/plain": [
       "   item_third_cate_name  cate_count\n",
       "16                  电风扇       74863\n",
       "2                   净水器       39712\n",
       "20                  饮水机       16847\n",
       "3                   加湿器       16240\n",
       "5                   吸尘器       15899\n",
       "8                挂烫机/熨斗       13008\n",
       "17                空气净化器       10383\n",
       "1                   冷风扇        9237\n",
       "7                 扫地机器人        8630\n",
       "15                  电话机        6085\n",
       "11                  清洁机        5989\n",
       "19                  除螨仪        4692\n",
       "18                  除湿机        4422\n",
       "4                  取暖电器        2321\n",
       "6                   干衣机        1677\n",
       "10                毛球修剪器         856\n",
       "12                 特殊商品         687\n",
       "0                其它生活电器         584\n",
       "14                  电暖桌         261\n",
       "9                  新风系统         175\n",
       "13               生活电器配件          31"
      ]
     },
     "execution_count": 69,
     "metadata": {},
     "output_type": "execute_result"
    }
   ],
   "source": [
    "# 三级商品\n",
    "user_order_cate_df = vaild_order_user_df.groupby('item_third_cate_name', as_index=False)['sale_ord_id']\\\n",
    "                    .agg({'cate_count':'count'})\\\n",
    "                    .sort_values(by='cate_count', ascending=False)\n",
    "user_order_cate_df"
   ]
  },
  {
   "cell_type": "code",
   "execution_count": 70,
   "metadata": {
    "ExecuteTime": {
     "end_time": "2020-10-07T18:53:34.086200Z",
     "start_time": "2020-10-07T18:53:33.769050Z"
    }
   },
   "outputs": [
    {
     "data": {
      "image/png": "[encoded data removed]",
      "text/plain": [
       "<Figure size 1600x1200 with 1 Axes>"
      ]
     },
     "metadata": {},
     "output_type": "display_data"
    }
   ],
   "source": [
    "x = user_order_cate_df['item_third_cate_name'][::-1]\n",
    "y = user_order_cate_df['cate_count'][::-1]\n",
    "\n",
    "plt.figure(figsize=(20,15),dpi=80)\n",
    "plt.xlabel('订单数量', size=20)\n",
    "plt.barh(x, y, align='center', color='#6699CC')\n",
    "plt.title(\"小家电消费用户的细分品类订单量\", size=24)\n",
    "\n",
    "plt.xticks(size=16) # x轴字体大小调整\n",
    "plt.yticks(size=16) # y轴字体大小调整\n",
    "\n",
    "plt.show()"
   ]
  },
  {
   "cell_type": "code",
   "execution_count": null,
   "metadata": {},
   "outputs": [],
   "source": []
  },
  {
   "cell_type": "code",
   "execution_count": null,
   "metadata": {},
   "outputs": [],
   "source": []
  },
  {
   "cell_type": "code",
   "execution_count": null,
   "metadata": {},
   "outputs": [],
   "source": []
  },
  {
   "cell_type": "code",
   "execution_count": null,
   "metadata": {},
   "outputs": [],
   "source": []
  },
  {
   "cell_type": "code",
   "execution_count": null,
   "metadata": {},
   "outputs": [],
   "source": []
  },
  {
   "cell_type": "code",
   "execution_count": null,
   "metadata": {},
   "outputs": [],
   "source": []
  },
  {
   "cell_type": "markdown",
   "metadata": {},
   "source": [
    "# 用户价值属性\n",
    "\n",
    "使用了用户有效订单，vaild_order_user_df"
   ]
  },
  {
   "cell_type": "markdown",
   "metadata": {},
   "source": [
    "## 是否曾经是plus会员 "
   ]
  },
  {
   "cell_type": "code",
   "execution_count": 103,
   "metadata": {
    "ExecuteTime": {
     "end_time": "2020-10-07T19:40:44.013775Z",
     "start_time": "2020-10-07T19:40:43.987845Z"
    }
   },
   "outputs": [
    {
     "data": {
      "text/html": [
       "<div>\n",
       "<style scoped>\n",
       "    .dataframe tbody tr th:only-of-type {\n",
       "        vertical-align: middle;\n",
       "    }\n",
       "\n",
       "    .dataframe tbody tr th {\n",
       "        vertical-align: top;\n",
       "    }\n",
       "\n",
       "    .dataframe thead th {\n",
       "        text-align: right;\n",
       "    }\n",
       "</style>\n",
       "<table border=\"1\" class=\"dataframe\">\n",
       "  <thead>\n",
       "    <tr style=\"text-align: right;\">\n",
       "      <th></th>\n",
       "      <th>ulp_plus_used</th>\n",
       "      <th>plus_count</th>\n",
       "    </tr>\n",
       "  </thead>\n",
       "  <tbody>\n",
       "    <tr>\n",
       "      <th>0</th>\n",
       "      <td>0</td>\n",
       "      <td>95488</td>\n",
       "    </tr>\n",
       "    <tr>\n",
       "      <th>1</th>\n",
       "      <td>1</td>\n",
       "      <td>137111</td>\n",
       "    </tr>\n",
       "  </tbody>\n",
       "</table>\n",
       "</div>"
      ],
      "text/plain": [
       "  ulp_plus_used  plus_count\n",
       "0             0       95488\n",
       "1             1      137111"
      ]
     },
     "execution_count": 103,
     "metadata": {},
     "output_type": "execute_result"
    }
   ],
   "source": [
    "plus_user_df = vaild_order_user_df.groupby(\"ulp_plus_used\", as_index = False)[\"user_log_acct\"].agg({\"plus_count\":\"count\"})\n",
    "plus_user_df"
   ]
  },
  {
   "cell_type": "markdown",
   "metadata": {},
   "source": [
    "## 用户价值分组"
   ]
  },
  {
   "cell_type": "code",
   "execution_count": 186,
   "metadata": {
    "ExecuteTime": {
     "end_time": "2020-10-07T20:29:37.246597Z",
     "start_time": "2020-10-07T20:29:37.237621Z"
    }
   },
   "outputs": [
    {
     "data": {
      "text/html": [
       "<div>\n",
       "<style scoped>\n",
       "    .dataframe tbody tr th:only-of-type {\n",
       "        vertical-align: middle;\n",
       "    }\n",
       "\n",
       "    .dataframe tbody tr th {\n",
       "        vertical-align: top;\n",
       "    }\n",
       "\n",
       "    .dataframe thead th {\n",
       "        text-align: right;\n",
       "    }\n",
       "</style>\n",
       "<table border=\"1\" class=\"dataframe\">\n",
       "  <thead>\n",
       "    <tr style=\"text-align: right;\">\n",
       "      <th></th>\n",
       "      <th>0</th>\n",
       "    </tr>\n",
       "  </thead>\n",
       "  <tbody>\n",
       "    <tr>\n",
       "      <th>54</th>\n",
       "      <td>cvl_glob_valuegrp</td>\n",
       "    </tr>\n",
       "    <tr>\n",
       "      <th>55</th>\n",
       "      <td>cvl_glob_values</td>\n",
       "    </tr>\n",
       "    <tr>\n",
       "      <th>56</th>\n",
       "      <td>cvl_glob_loyalty</td>\n",
       "    </tr>\n",
       "    <tr>\n",
       "      <th>57</th>\n",
       "      <td>cvl_glob_platform</td>\n",
       "    </tr>\n",
       "  </tbody>\n",
       "</table>\n",
       "</div>"
      ],
      "text/plain": [
       "                    0\n",
       "54  cvl_glob_valuegrp\n",
       "55    cvl_glob_values\n",
       "56   cvl_glob_loyalty\n",
       "57  cvl_glob_platform"
      ]
     },
     "execution_count": 186,
     "metadata": {},
     "output_type": "execute_result"
    }
   ],
   "source": [
    "# 查找所有和cvl相关的variable\n",
    "cols = vaild_order_user_df.columns\n",
    "cols = cols.str.extract(r\"(cvl_[a-zA-z]+)\",expand = True).dropna()\n",
    "cols"
   ]
  },
  {
   "cell_type": "code",
   "execution_count": 252,
   "metadata": {
    "ExecuteTime": {
     "end_time": "2020-10-07T21:19:18.620293Z",
     "start_time": "2020-10-07T21:19:18.591370Z"
    }
   },
   "outputs": [
    {
     "data": {
      "text/html": [
       "<div>\n",
       "<style scoped>\n",
       "    .dataframe tbody tr th:only-of-type {\n",
       "        vertical-align: middle;\n",
       "    }\n",
       "\n",
       "    .dataframe tbody tr th {\n",
       "        vertical-align: top;\n",
       "    }\n",
       "\n",
       "    .dataframe thead th {\n",
       "        text-align: right;\n",
       "    }\n",
       "</style>\n",
       "<table border=\"1\" class=\"dataframe\">\n",
       "  <thead>\n",
       "    <tr style=\"text-align: right;\">\n",
       "      <th></th>\n",
       "      <th>cvl_glob_valuegrp</th>\n",
       "      <th>user_count</th>\n",
       "    </tr>\n",
       "  </thead>\n",
       "  <tbody>\n",
       "    <tr>\n",
       "      <th>1</th>\n",
       "      <td>价值中</td>\n",
       "      <td>40157</td>\n",
       "    </tr>\n",
       "    <tr>\n",
       "      <th>2</th>\n",
       "      <td>价值低</td>\n",
       "      <td>10080</td>\n",
       "    </tr>\n",
       "    <tr>\n",
       "      <th>3</th>\n",
       "      <td>价值高</td>\n",
       "      <td>66129</td>\n",
       "    </tr>\n",
       "    <tr>\n",
       "      <th>4</th>\n",
       "      <td>非常高</td>\n",
       "      <td>108916</td>\n",
       "    </tr>\n",
       "  </tbody>\n",
       "</table>\n",
       "</div>"
      ],
      "text/plain": [
       "  cvl_glob_valuegrp  user_count\n",
       "1               价值中       40157\n",
       "2               价值低       10080\n",
       "3               价值高       66129\n",
       "4               非常高      108916"
      ]
     },
     "execution_count": 252,
     "metadata": {},
     "output_type": "execute_result"
    }
   ],
   "source": [
    "valuegrp_df = vaild_order_user_df.groupby(\"cvl_glob_valuegrp\",as_index = False)[\"user_log_acct\"].agg({\"user_count\":\"count\"})\n",
    "valuegrp_df = valuegrp_df[valuegrp_df.cvl_glob_valuegrp != \"-1\"]\n",
    "valuegrp_df"
   ]
  },
  {
   "cell_type": "code",
   "execution_count": 210,
   "metadata": {
    "ExecuteTime": {
     "end_time": "2020-10-07T20:43:07.559804Z",
     "start_time": "2020-10-07T20:43:07.470033Z"
    }
   },
   "outputs": [
    {
     "data": {
      "text/plain": [
       "Text(0.5, 1.0, '小家电消费用户价值分类')"
      ]
     },
     "execution_count": 210,
     "metadata": {},
     "output_type": "execute_result"
    },
    {
     "data": {
      "image/png": "[encoded data removed]",
      "text/plain": [
       "<Figure size 432x288 with 1 Axes>"
      ]
     },
     "metadata": {},
     "output_type": "display_data"
    }
   ],
   "source": [
    "plt.bar(valuegrp_df[\"cvl_glob_valuegrp\"],valuegrp_df[\"user_count\"])\n",
    "plt.title(\"小家电消费用户价值分类\")"
   ]
  },
  {
   "cell_type": "markdown",
   "metadata": {},
   "source": [
    "## 用户价值标准得分"
   ]
  },
  {
   "cell_type": "code",
   "execution_count": 253,
   "metadata": {
    "ExecuteTime": {
     "end_time": "2020-10-07T21:19:22.672613Z",
     "start_time": "2020-10-07T21:19:22.418294Z"
    }
   },
   "outputs": [
    {
     "data": {
      "text/html": [
       "<div>\n",
       "<style scoped>\n",
       "    .dataframe tbody tr th:only-of-type {\n",
       "        vertical-align: middle;\n",
       "    }\n",
       "\n",
       "    .dataframe tbody tr th {\n",
       "        vertical-align: top;\n",
       "    }\n",
       "\n",
       "    .dataframe thead th {\n",
       "        text-align: right;\n",
       "    }\n",
       "</style>\n",
       "<table border=\"1\" class=\"dataframe\">\n",
       "  <thead>\n",
       "    <tr style=\"text-align: right;\">\n",
       "      <th></th>\n",
       "      <th>cvl_glob_values</th>\n",
       "      <th>user_count</th>\n",
       "    </tr>\n",
       "  </thead>\n",
       "  <tbody>\n",
       "    <tr>\n",
       "      <th>0</th>\n",
       "      <td>-1.0</td>\n",
       "      <td>7317</td>\n",
       "    </tr>\n",
       "    <tr>\n",
       "      <th>1</th>\n",
       "      <td>0.1172387</td>\n",
       "      <td>1</td>\n",
       "    </tr>\n",
       "    <tr>\n",
       "      <th>2</th>\n",
       "      <td>0.11724689</td>\n",
       "      <td>1</td>\n",
       "    </tr>\n",
       "    <tr>\n",
       "      <th>3</th>\n",
       "      <td>0.12468599</td>\n",
       "      <td>2</td>\n",
       "    </tr>\n",
       "    <tr>\n",
       "      <th>4</th>\n",
       "      <td>0.124760985</td>\n",
       "      <td>1</td>\n",
       "    </tr>\n",
       "    <tr>\n",
       "      <th>...</th>\n",
       "      <td>...</td>\n",
       "      <td>...</td>\n",
       "    </tr>\n",
       "    <tr>\n",
       "      <th>175205</th>\n",
       "      <td>9.997724</td>\n",
       "      <td>1</td>\n",
       "    </tr>\n",
       "    <tr>\n",
       "      <th>175206</th>\n",
       "      <td>9.997937</td>\n",
       "      <td>1</td>\n",
       "    </tr>\n",
       "    <tr>\n",
       "      <th>175207</th>\n",
       "      <td>9.997943</td>\n",
       "      <td>3</td>\n",
       "    </tr>\n",
       "    <tr>\n",
       "      <th>175208</th>\n",
       "      <td>9.999206</td>\n",
       "      <td>1</td>\n",
       "    </tr>\n",
       "    <tr>\n",
       "      <th>175209</th>\n",
       "      <td>9.999994</td>\n",
       "      <td>1</td>\n",
       "    </tr>\n",
       "  </tbody>\n",
       "</table>\n",
       "<p>175210 rows × 2 columns</p>\n",
       "</div>"
      ],
      "text/plain": [
       "       cvl_glob_values  user_count\n",
       "0                 -1.0        7317\n",
       "1            0.1172387           1\n",
       "2           0.11724689           1\n",
       "3           0.12468599           2\n",
       "4          0.124760985           1\n",
       "...                ...         ...\n",
       "175205        9.997724           1\n",
       "175206        9.997937           1\n",
       "175207        9.997943           3\n",
       "175208        9.999206           1\n",
       "175209        9.999994           1\n",
       "\n",
       "[175210 rows x 2 columns]"
      ]
     },
     "execution_count": 253,
     "metadata": {},
     "output_type": "execute_result"
    }
   ],
   "source": [
    "user_values = vaild_order_user_df.groupby(\"cvl_glob_values\",as_index = False)[\"user_log_acct\"].agg({\"user_count\":\"count\"})\n",
    "user_values"
   ]
  },
  {
   "cell_type": "code",
   "execution_count": 265,
   "metadata": {
    "ExecuteTime": {
     "end_time": "2020-10-07T21:22:17.625137Z",
     "start_time": "2020-10-07T21:22:17.610178Z"
    }
   },
   "outputs": [
    {
     "data": {
      "text/html": [
       "<div>\n",
       "<style scoped>\n",
       "    .dataframe tbody tr th:only-of-type {\n",
       "        vertical-align: middle;\n",
       "    }\n",
       "\n",
       "    .dataframe tbody tr th {\n",
       "        vertical-align: top;\n",
       "    }\n",
       "\n",
       "    .dataframe thead th {\n",
       "        text-align: right;\n",
       "    }\n",
       "</style>\n",
       "<table border=\"1\" class=\"dataframe\">\n",
       "  <thead>\n",
       "    <tr style=\"text-align: right;\">\n",
       "      <th></th>\n",
       "      <th>cvl_glob_values</th>\n",
       "      <th>user_count</th>\n",
       "    </tr>\n",
       "  </thead>\n",
       "  <tbody>\n",
       "    <tr>\n",
       "      <th>1</th>\n",
       "      <td>0.117239</td>\n",
       "      <td>1</td>\n",
       "    </tr>\n",
       "    <tr>\n",
       "      <th>2</th>\n",
       "      <td>0.117247</td>\n",
       "      <td>1</td>\n",
       "    </tr>\n",
       "    <tr>\n",
       "      <th>3</th>\n",
       "      <td>0.124686</td>\n",
       "      <td>2</td>\n",
       "    </tr>\n",
       "    <tr>\n",
       "      <th>4</th>\n",
       "      <td>0.124761</td>\n",
       "      <td>1</td>\n",
       "    </tr>\n",
       "    <tr>\n",
       "      <th>5</th>\n",
       "      <td>0.126324</td>\n",
       "      <td>1</td>\n",
       "    </tr>\n",
       "    <tr>\n",
       "      <th>...</th>\n",
       "      <td>...</td>\n",
       "      <td>...</td>\n",
       "    </tr>\n",
       "    <tr>\n",
       "      <th>175205</th>\n",
       "      <td>9.997724</td>\n",
       "      <td>1</td>\n",
       "    </tr>\n",
       "    <tr>\n",
       "      <th>175206</th>\n",
       "      <td>9.997937</td>\n",
       "      <td>1</td>\n",
       "    </tr>\n",
       "    <tr>\n",
       "      <th>175207</th>\n",
       "      <td>9.997943</td>\n",
       "      <td>3</td>\n",
       "    </tr>\n",
       "    <tr>\n",
       "      <th>175208</th>\n",
       "      <td>9.999206</td>\n",
       "      <td>1</td>\n",
       "    </tr>\n",
       "    <tr>\n",
       "      <th>175209</th>\n",
       "      <td>9.999994</td>\n",
       "      <td>1</td>\n",
       "    </tr>\n",
       "  </tbody>\n",
       "</table>\n",
       "<p>175209 rows × 2 columns</p>\n",
       "</div>"
      ],
      "text/plain": [
       "        cvl_glob_values  user_count\n",
       "1              0.117239           1\n",
       "2              0.117247           1\n",
       "3              0.124686           2\n",
       "4              0.124761           1\n",
       "5              0.126324           1\n",
       "...                 ...         ...\n",
       "175205         9.997724           1\n",
       "175206         9.997937           1\n",
       "175207         9.997943           3\n",
       "175208         9.999206           1\n",
       "175209         9.999994           1\n",
       "\n",
       "[175209 rows x 2 columns]"
      ]
     },
     "execution_count": 265,
     "metadata": {},
     "output_type": "execute_result"
    }
   ],
   "source": [
    "# remove -1\n",
    "#user_values[\"cvl_glob_values\"] = user_values[\"cvl_glob_values\"].astype(float)\n",
    "user_values = user_values[user_values.cvl_glob_values >=0]\n",
    "user_values"
   ]
  },
  {
   "cell_type": "code",
   "execution_count": 266,
   "metadata": {
    "ExecuteTime": {
     "end_time": "2020-10-07T21:22:23.480006Z",
     "start_time": "2020-10-07T21:22:23.278545Z"
    }
   },
   "outputs": [
    {
     "data": {
      "text/plain": [
       "<matplotlib.axes._subplots.AxesSubplot at 0x1eb4e235908>"
      ]
     },
     "execution_count": 266,
     "metadata": {},
     "output_type": "execute_result"
    },
    {
     "data": {
      "image/png": "[encoded data removed]",
      "text/plain": [
       "<Figure size 432x288 with 1 Axes>"
      ]
     },
     "metadata": {},
     "output_type": "display_data"
    }
   ],
   "source": [
    "sns.boxplot(x = \"cvl_glob_valuegrp\", y = \"cvl_glob_values\",data = vaild_order_user_df)"
   ]
  },
  {
   "cell_type": "code",
   "execution_count": 268,
   "metadata": {
    "ExecuteTime": {
     "end_time": "2020-10-07T21:23:21.278951Z",
     "start_time": "2020-10-07T21:23:21.255015Z"
    }
   },
   "outputs": [
    {
     "data": {
      "text/html": [
       "<div>\n",
       "<style scoped>\n",
       "    .dataframe tbody tr th:only-of-type {\n",
       "        vertical-align: middle;\n",
       "    }\n",
       "\n",
       "    .dataframe tbody tr th {\n",
       "        vertical-align: top;\n",
       "    }\n",
       "\n",
       "    .dataframe thead th {\n",
       "        text-align: right;\n",
       "    }\n",
       "</style>\n",
       "<table border=\"1\" class=\"dataframe\">\n",
       "  <thead>\n",
       "    <tr style=\"text-align: right;\">\n",
       "      <th></th>\n",
       "      <th>cvl_glob_valuegrp</th>\n",
       "      <th>cvl_glob_values</th>\n",
       "    </tr>\n",
       "  </thead>\n",
       "  <tbody>\n",
       "    <tr>\n",
       "      <th>0</th>\n",
       "      <td>-1</td>\n",
       "      <td>-1.000000</td>\n",
       "    </tr>\n",
       "    <tr>\n",
       "      <th>1</th>\n",
       "      <td>价值中</td>\n",
       "      <td>1.000728</td>\n",
       "    </tr>\n",
       "    <tr>\n",
       "      <th>2</th>\n",
       "      <td>价值低</td>\n",
       "      <td>0.349877</td>\n",
       "    </tr>\n",
       "    <tr>\n",
       "      <th>3</th>\n",
       "      <td>价值高</td>\n",
       "      <td>2.671667</td>\n",
       "    </tr>\n",
       "    <tr>\n",
       "      <th>4</th>\n",
       "      <td>非常高</td>\n",
       "      <td>79.807945</td>\n",
       "    </tr>\n",
       "  </tbody>\n",
       "</table>\n",
       "</div>"
      ],
      "text/plain": [
       "  cvl_glob_valuegrp  cvl_glob_values\n",
       "0                -1        -1.000000\n",
       "1               价值中         1.000728\n",
       "2               价值低         0.349877\n",
       "3               价值高         2.671667\n",
       "4               非常高        79.807945"
      ]
     },
     "execution_count": 268,
     "metadata": {},
     "output_type": "execute_result"
    }
   ],
   "source": [
    "vaild_order_user_df.groupby([\"cvl_glob_valuegrp\"], as_index = False)[\"cvl_glob_values\"].max()"
   ]
  },
  {
   "cell_type": "code",
   "execution_count": 269,
   "metadata": {
    "ExecuteTime": {
     "end_time": "2020-10-07T21:23:29.650796Z",
     "start_time": "2020-10-07T21:23:29.627858Z"
    }
   },
   "outputs": [
    {
     "data": {
      "text/html": [
       "<div>\n",
       "<style scoped>\n",
       "    .dataframe tbody tr th:only-of-type {\n",
       "        vertical-align: middle;\n",
       "    }\n",
       "\n",
       "    .dataframe tbody tr th {\n",
       "        vertical-align: top;\n",
       "    }\n",
       "\n",
       "    .dataframe thead th {\n",
       "        text-align: right;\n",
       "    }\n",
       "</style>\n",
       "<table border=\"1\" class=\"dataframe\">\n",
       "  <thead>\n",
       "    <tr style=\"text-align: right;\">\n",
       "      <th></th>\n",
       "      <th>cvl_glob_valuegrp</th>\n",
       "      <th>cvl_glob_values</th>\n",
       "    </tr>\n",
       "  </thead>\n",
       "  <tbody>\n",
       "    <tr>\n",
       "      <th>0</th>\n",
       "      <td>-1</td>\n",
       "      <td>-1.000000</td>\n",
       "    </tr>\n",
       "    <tr>\n",
       "      <th>1</th>\n",
       "      <td>价值中</td>\n",
       "      <td>0.349909</td>\n",
       "    </tr>\n",
       "    <tr>\n",
       "      <th>2</th>\n",
       "      <td>价值低</td>\n",
       "      <td>0.117239</td>\n",
       "    </tr>\n",
       "    <tr>\n",
       "      <th>3</th>\n",
       "      <td>价值高</td>\n",
       "      <td>1.000807</td>\n",
       "    </tr>\n",
       "    <tr>\n",
       "      <th>4</th>\n",
       "      <td>非常高</td>\n",
       "      <td>2.671753</td>\n",
       "    </tr>\n",
       "  </tbody>\n",
       "</table>\n",
       "</div>"
      ],
      "text/plain": [
       "  cvl_glob_valuegrp  cvl_glob_values\n",
       "0                -1        -1.000000\n",
       "1               价值中         0.349909\n",
       "2               价值低         0.117239\n",
       "3               价值高         1.000807\n",
       "4               非常高         2.671753"
      ]
     },
     "execution_count": 269,
     "metadata": {},
     "output_type": "execute_result"
    }
   ],
   "source": [
    "vaild_order_user_df.groupby([\"cvl_glob_valuegrp\"], as_index = False)[\"cvl_glob_values\"].min()"
   ]
  },
  {
   "cell_type": "markdown",
   "metadata": {},
   "source": [
    "## 用户忠诚度"
   ]
  },
  {
   "cell_type": "code",
   "execution_count": 271,
   "metadata": {
    "ExecuteTime": {
     "end_time": "2020-10-07T21:36:00.547158Z",
     "start_time": "2020-10-07T21:36:00.530204Z"
    }
   },
   "outputs": [
    {
     "data": {
      "text/plain": [
       "8"
      ]
     },
     "execution_count": 271,
     "metadata": {},
     "output_type": "execute_result"
    }
   ],
   "source": [
    "vaild_order_user_df.cvl_glob_loyalty.nunique()"
   ]
  },
  {
   "cell_type": "code",
   "execution_count": 278,
   "metadata": {
    "ExecuteTime": {
     "end_time": "2020-10-07T21:37:22.251872Z",
     "start_time": "2020-10-07T21:37:22.234917Z"
    }
   },
   "outputs": [
    {
     "data": {
      "text/plain": [
       "array(['高度-忠诚型', '-1', '远期-偶然型', '中度-忠诚型', '近期-普通型', '远期-普通型', '远期-投机型',\n",
       "       '近期-投机型'], dtype=object)"
      ]
     },
     "execution_count": 278,
     "metadata": {},
     "output_type": "execute_result"
    }
   ],
   "source": [
    "vaild_order_user_df.cvl_glob_loyalty.unique()"
   ]
  },
  {
   "cell_type": "code",
   "execution_count": 284,
   "metadata": {
    "ExecuteTime": {
     "end_time": "2020-10-07T21:40:09.280951Z",
     "start_time": "2020-10-07T21:40:09.250036Z"
    }
   },
   "outputs": [
    {
     "data": {
      "text/html": [
       "<div>\n",
       "<style scoped>\n",
       "    .dataframe tbody tr th:only-of-type {\n",
       "        vertical-align: middle;\n",
       "    }\n",
       "\n",
       "    .dataframe tbody tr th {\n",
       "        vertical-align: top;\n",
       "    }\n",
       "\n",
       "    .dataframe thead th {\n",
       "        text-align: right;\n",
       "    }\n",
       "</style>\n",
       "<table border=\"1\" class=\"dataframe\">\n",
       "  <thead>\n",
       "    <tr style=\"text-align: right;\">\n",
       "      <th></th>\n",
       "      <th>cvl_glob_loyalty</th>\n",
       "      <th>type_count</th>\n",
       "    </tr>\n",
       "  </thead>\n",
       "  <tbody>\n",
       "    <tr>\n",
       "      <th>7</th>\n",
       "      <td>高度-忠诚型</td>\n",
       "      <td>161200</td>\n",
       "    </tr>\n",
       "    <tr>\n",
       "      <th>1</th>\n",
       "      <td>中度-忠诚型</td>\n",
       "      <td>21636</td>\n",
       "    </tr>\n",
       "    <tr>\n",
       "      <th>3</th>\n",
       "      <td>近期-普通型</td>\n",
       "      <td>19416</td>\n",
       "    </tr>\n",
       "    <tr>\n",
       "      <th>6</th>\n",
       "      <td>远期-普通型</td>\n",
       "      <td>12217</td>\n",
       "    </tr>\n",
       "    <tr>\n",
       "      <th>4</th>\n",
       "      <td>远期-偶然型</td>\n",
       "      <td>7777</td>\n",
       "    </tr>\n",
       "    <tr>\n",
       "      <th>0</th>\n",
       "      <td>-1</td>\n",
       "      <td>6706</td>\n",
       "    </tr>\n",
       "    <tr>\n",
       "      <th>2</th>\n",
       "      <td>近期-投机型</td>\n",
       "      <td>2807</td>\n",
       "    </tr>\n",
       "    <tr>\n",
       "      <th>5</th>\n",
       "      <td>远期-投机型</td>\n",
       "      <td>840</td>\n",
       "    </tr>\n",
       "  </tbody>\n",
       "</table>\n",
       "</div>"
      ],
      "text/plain": [
       "  cvl_glob_loyalty  type_count\n",
       "7           高度-忠诚型      161200\n",
       "1           中度-忠诚型       21636\n",
       "3           近期-普通型       19416\n",
       "6           远期-普通型       12217\n",
       "4           远期-偶然型        7777\n",
       "0               -1        6706\n",
       "2           近期-投机型        2807\n",
       "5           远期-投机型         840"
      ]
     },
     "execution_count": 284,
     "metadata": {},
     "output_type": "execute_result"
    }
   ],
   "source": [
    "loyalty_df = vaild_order_user_df.groupby(\"cvl_glob_loyalty\", as_index=False)[\"user_log_acct\"].agg(\n",
    "    {\"type_count\": \"count\"}).sort_values(by=\"type_count\", ascending=False)\n",
    "loyalty_df"
   ]
  },
  {
   "cell_type": "code",
   "execution_count": 291,
   "metadata": {
    "ExecuteTime": {
     "end_time": "2020-10-07T21:42:01.596973Z",
     "start_time": "2020-10-07T21:42:01.587000Z"
    }
   },
   "outputs": [
    {
     "data": {
      "text/html": [
       "<div>\n",
       "<style scoped>\n",
       "    .dataframe tbody tr th:only-of-type {\n",
       "        vertical-align: middle;\n",
       "    }\n",
       "\n",
       "    .dataframe tbody tr th {\n",
       "        vertical-align: top;\n",
       "    }\n",
       "\n",
       "    .dataframe thead th {\n",
       "        text-align: right;\n",
       "    }\n",
       "</style>\n",
       "<table border=\"1\" class=\"dataframe\">\n",
       "  <thead>\n",
       "    <tr style=\"text-align: right;\">\n",
       "      <th></th>\n",
       "      <th>cvl_glob_loyalty</th>\n",
       "      <th>type_count</th>\n",
       "      <th>per%</th>\n",
       "    </tr>\n",
       "  </thead>\n",
       "  <tbody>\n",
       "    <tr>\n",
       "      <th>7</th>\n",
       "      <td>高度-忠诚型</td>\n",
       "      <td>161200</td>\n",
       "      <td>0.713612</td>\n",
       "    </tr>\n",
       "    <tr>\n",
       "      <th>1</th>\n",
       "      <td>中度-忠诚型</td>\n",
       "      <td>21636</td>\n",
       "      <td>0.095780</td>\n",
       "    </tr>\n",
       "    <tr>\n",
       "      <th>3</th>\n",
       "      <td>近期-普通型</td>\n",
       "      <td>19416</td>\n",
       "      <td>0.085952</td>\n",
       "    </tr>\n",
       "    <tr>\n",
       "      <th>6</th>\n",
       "      <td>远期-普通型</td>\n",
       "      <td>12217</td>\n",
       "      <td>0.054083</td>\n",
       "    </tr>\n",
       "    <tr>\n",
       "      <th>4</th>\n",
       "      <td>远期-偶然型</td>\n",
       "      <td>7777</td>\n",
       "      <td>0.034428</td>\n",
       "    </tr>\n",
       "    <tr>\n",
       "      <th>2</th>\n",
       "      <td>近期-投机型</td>\n",
       "      <td>2807</td>\n",
       "      <td>0.012426</td>\n",
       "    </tr>\n",
       "    <tr>\n",
       "      <th>5</th>\n",
       "      <td>远期-投机型</td>\n",
       "      <td>840</td>\n",
       "      <td>0.003719</td>\n",
       "    </tr>\n",
       "  </tbody>\n",
       "</table>\n",
       "</div>"
      ],
      "text/plain": [
       "  cvl_glob_loyalty  type_count      per%\n",
       "7           高度-忠诚型      161200  0.713612\n",
       "1           中度-忠诚型       21636  0.095780\n",
       "3           近期-普通型       19416  0.085952\n",
       "6           远期-普通型       12217  0.054083\n",
       "4           远期-偶然型        7777  0.034428\n",
       "2           近期-投机型        2807  0.012426\n",
       "5           远期-投机型         840  0.003719"
      ]
     },
     "execution_count": 291,
     "metadata": {},
     "output_type": "execute_result"
    }
   ],
   "source": [
    "loyalty_df = loyalty_df[loyalty_df.cvl_glob_loyalty!=\"-1\"]\n",
    "loyalty_df[\"per%\"] = loyalty_df[\"type_count\"]/loyalty_df[\"type_count\"].sum()\n",
    "loyalty_df"
   ]
  },
  {
   "cell_type": "code",
   "execution_count": 325,
   "metadata": {
    "ExecuteTime": {
     "end_time": "2020-10-07T21:51:11.263564Z",
     "start_time": "2020-10-07T21:51:11.084045Z"
    }
   },
   "outputs": [
    {
     "data": {
      "text/plain": [
       "<matplotlib.axes._subplots.AxesSubplot at 0x1eba5041e88>"
      ]
     },
     "execution_count": 325,
     "metadata": {},
     "output_type": "execute_result"
    },
    {
     "data": {
      "image/png": "[encoded data removed]",
      "text/plain": [
       "<Figure size 720x360 with 2 Axes>"
      ]
     },
     "metadata": {},
     "output_type": "display_data"
    }
   ],
   "source": [
    "x = loyalty_df[\"cvl_glob_loyalty\"][::-1]\n",
    "y1 = loyalty_df[\"type_count\"][::-1]\n",
    "\n",
    "# visualization\n",
    "\n",
    "plt.figure(figsize = (10,5))\n",
    "\n",
    "plt.subplot(121)\n",
    "plt.barh(y = x, width = y1,color = \"g\")\n",
    "\n",
    "\n",
    "plt.subplot(122)\n",
    "loyalty_df[\"per%\"].plot.pie(labels = x, autopct = \"%1.2f%%\",startangle = 90, textprops = {\"fontsize\":12},rotatelabels = True)\n",
    "#plt.pie(y1, labels = x, autopct = \"%1.2f%%\",startangle = 90, textprops = {\"fontsize\":12},rotatelabels = True)\n"
   ]
  },
  {
   "cell_type": "markdown",
   "metadata": {
    "ExecuteTime": {
     "end_time": "2020-10-07T21:44:07.733923Z",
     "start_time": "2020-10-07T21:44:07.726951Z"
    }
   },
   "source": [
    "## 平台影响力"
   ]
  },
  {
   "cell_type": "code",
   "execution_count": 333,
   "metadata": {
    "ExecuteTime": {
     "end_time": "2020-10-07T21:55:57.243039Z",
     "start_time": "2020-10-07T21:55:57.199157Z"
    }
   },
   "outputs": [
    {
     "data": {
      "text/html": [
       "<div>\n",
       "<style scoped>\n",
       "    .dataframe tbody tr th:only-of-type {\n",
       "        vertical-align: middle;\n",
       "    }\n",
       "\n",
       "    .dataframe tbody tr th {\n",
       "        vertical-align: top;\n",
       "    }\n",
       "\n",
       "    .dataframe thead th {\n",
       "        text-align: right;\n",
       "    }\n",
       "</style>\n",
       "<table border=\"1\" class=\"dataframe\">\n",
       "  <thead>\n",
       "    <tr style=\"text-align: right;\">\n",
       "      <th></th>\n",
       "      <th>cvl_glob_platform</th>\n",
       "      <th>platform</th>\n",
       "    </tr>\n",
       "  </thead>\n",
       "  <tbody>\n",
       "    <tr>\n",
       "      <th>1</th>\n",
       "      <td>4.784754</td>\n",
       "      <td>1</td>\n",
       "    </tr>\n",
       "    <tr>\n",
       "      <th>2</th>\n",
       "      <td>6.471939</td>\n",
       "      <td>1</td>\n",
       "    </tr>\n",
       "    <tr>\n",
       "      <th>3</th>\n",
       "      <td>6.825068</td>\n",
       "      <td>1</td>\n",
       "    </tr>\n",
       "    <tr>\n",
       "      <th>4</th>\n",
       "      <td>6.966445</td>\n",
       "      <td>1</td>\n",
       "    </tr>\n",
       "    <tr>\n",
       "      <th>5</th>\n",
       "      <td>7.047620</td>\n",
       "      <td>2</td>\n",
       "    </tr>\n",
       "    <tr>\n",
       "      <th>...</th>\n",
       "      <td>...</td>\n",
       "      <td>...</td>\n",
       "    </tr>\n",
       "    <tr>\n",
       "      <th>88337</th>\n",
       "      <td>99.892613</td>\n",
       "      <td>1</td>\n",
       "    </tr>\n",
       "    <tr>\n",
       "      <th>88338</th>\n",
       "      <td>99.919297</td>\n",
       "      <td>1</td>\n",
       "    </tr>\n",
       "    <tr>\n",
       "      <th>88339</th>\n",
       "      <td>99.923220</td>\n",
       "      <td>1</td>\n",
       "    </tr>\n",
       "    <tr>\n",
       "      <th>88340</th>\n",
       "      <td>99.931090</td>\n",
       "      <td>1</td>\n",
       "    </tr>\n",
       "    <tr>\n",
       "      <th>88341</th>\n",
       "      <td>99.976311</td>\n",
       "      <td>1</td>\n",
       "    </tr>\n",
       "  </tbody>\n",
       "</table>\n",
       "<p>88341 rows × 2 columns</p>\n",
       "</div>"
      ],
      "text/plain": [
       "       cvl_glob_platform  platform\n",
       "1               4.784754         1\n",
       "2               6.471939         1\n",
       "3               6.825068         1\n",
       "4               6.966445         1\n",
       "5               7.047620         2\n",
       "...                  ...       ...\n",
       "88337          99.892613         1\n",
       "88338          99.919297         1\n",
       "88339          99.923220         1\n",
       "88340          99.931090         1\n",
       "88341          99.976311         1\n",
       "\n",
       "[88341 rows x 2 columns]"
      ]
     },
     "execution_count": 333,
     "metadata": {},
     "output_type": "execute_result"
    }
   ],
   "source": [
    "platform_df = vaild_order_user_df.groupby(\"cvl_glob_platform\",as_index = False)[\"user_log_acct\"].agg({\"platform\":\"count\"})\n",
    "platform_df = platform_df[platform_df.cvl_glob_platform>=0]\n",
    "platform_df"
   ]
  },
  {
   "cell_type": "code",
   "execution_count": 336,
   "metadata": {
    "ExecuteTime": {
     "end_time": "2020-10-07T21:56:31.387147Z",
     "start_time": "2020-10-07T21:56:31.296390Z"
    }
   },
   "outputs": [
    {
     "data": {
      "text/plain": [
       "<matplotlib.axes._subplots.AxesSubplot at 0x1eba51732c8>"
      ]
     },
     "execution_count": 336,
     "metadata": {},
     "output_type": "execute_result"
    },
    {
     "data": {
      "image/png": "[encoded data removed]",
      "text/plain": [
       "<Figure size 432x288 with 1 Axes>"
      ]
     },
     "metadata": {},
     "output_type": "display_data"
    }
   ],
   "source": [
    "sns.boxplot(platform_df.cvl_glob_platform)"
   ]
  },
  {
   "cell_type": "markdown",
   "metadata": {},
   "source": [
    "## 用户价值小结"
   ]
  },
  {
   "cell_type": "markdown",
   "metadata": {},
   "source": [
    "典型的小家电消费者**（现在或）曾经是plus会员**，有**非常高的用户价值**（但价值标准得分存在很大差异）；\n",
    "\n",
    "他是**高度-忠诚型**用户，有比较高的平台影响力。\n",
    "\n",
    "*************\n",
    "\n",
    "**结论**\n",
    "\n",
    "促销时可以针对会员进行推送，对用户价值高的消费者，挖掘他们的兴趣爱好以及对应的商品分类，推送合适的活动、给予合适的价格；\n",
    "\n",
    "因为他们的平台影响力高，更应该推送高质量商品，从正面引导其他用户消费。"
   ]
  },
  {
   "cell_type": "code",
   "execution_count": null,
   "metadata": {},
   "outputs": [],
   "source": []
  },
  {
   "cell_type": "code",
   "execution_count": null,
   "metadata": {},
   "outputs": [],
   "source": []
  },
  {
   "cell_type": "code",
   "execution_count": null,
   "metadata": {},
   "outputs": [],
   "source": []
  },
  {
   "cell_type": "code",
   "execution_count": null,
   "metadata": {},
   "outputs": [],
   "source": []
  },
  {
   "cell_type": "code",
   "execution_count": null,
   "metadata": {},
   "outputs": [],
   "source": []
  },
  {
   "cell_type": "code",
   "execution_count": null,
   "metadata": {},
   "outputs": [],
   "source": []
  },
  {
   "cell_type": "code",
   "execution_count": null,
   "metadata": {},
   "outputs": [],
   "source": []
  },
  {
   "cell_type": "code",
   "execution_count": null,
   "metadata": {},
   "outputs": [],
   "source": []
  },
  {
   "cell_type": "code",
   "execution_count": null,
   "metadata": {},
   "outputs": [],
   "source": []
  },
  {
   "cell_type": "code",
   "execution_count": null,
   "metadata": {},
   "outputs": [],
   "source": []
  },
  {
   "cell_type": "code",
   "execution_count": null,
   "metadata": {},
   "outputs": [],
   "source": []
  },
  {
   "cell_type": "code",
   "execution_count": null,
   "metadata": {},
   "outputs": [],
   "source": []
  },
  {
   "cell_type": "code",
   "execution_count": null,
   "metadata": {},
   "outputs": [],
   "source": []
  },
  {
   "cell_type": "code",
   "execution_count": null,
   "metadata": {},
   "outputs": [],
   "source": []
  },
  {
   "cell_type": "code",
   "execution_count": null,
   "metadata": {},
   "outputs": [],
   "source": []
  },
  {
   "cell_type": "code",
   "execution_count": null,
   "metadata": {},
   "outputs": [],
   "source": []
  },
  {
   "cell_type": "code",
   "execution_count": null,
   "metadata": {},
   "outputs": [],
   "source": []
  },
  {
   "cell_type": "code",
   "execution_count": null,
   "metadata": {},
   "outputs": [],
   "source": []
  },
  {
   "cell_type": "code",
   "execution_count": null,
   "metadata": {},
   "outputs": [],
   "source": []
  },
  {
   "cell_type": "code",
   "execution_count": null,
   "metadata": {},
   "outputs": [],
   "source": []
  },
  {
   "cell_type": "code",
   "execution_count": null,
   "metadata": {},
   "outputs": [],
   "source": []
  },
  {
   "cell_type": "code",
   "execution_count": null,
   "metadata": {},
   "outputs": [],
   "source": []
  },
  {
   "cell_type": "code",
   "execution_count": null,
   "metadata": {},
   "outputs": [],
   "source": []
  },
  {
   "cell_type": "code",
   "execution_count": null,
   "metadata": {},
   "outputs": [],
   "source": []
  },
  {
   "cell_type": "code",
   "execution_count": null,
   "metadata": {},
   "outputs": [],
   "source": []
  },
  {
   "cell_type": "code",
   "execution_count": null,
   "metadata": {},
   "outputs": [],
   "source": []
  },
  {
   "cell_type": "code",
   "execution_count": null,
   "metadata": {},
   "outputs": [],
   "source": []
  },
  {
   "cell_type": "code",
   "execution_count": null,
   "metadata": {},
   "outputs": [],
   "source": []
  },
  {
   "cell_type": "code",
   "execution_count": null,
   "metadata": {},
   "outputs": [],
   "source": []
  },
  {
   "cell_type": "code",
   "execution_count": null,
   "metadata": {},
   "outputs": [],
   "source": []
  },
  {
   "cell_type": "code",
   "execution_count": null,
   "metadata": {},
   "outputs": [],
   "source": []
  },
  {
   "cell_type": "code",
   "execution_count": null,
   "metadata": {},
   "outputs": [],
   "source": []
  }
 ],
 "metadata": {
  "kernelspec": {
   "display_name": "Python 3",
   "language": "python",
   "name": "python3"
  },
  "language_info": {
   "codemirror_mode": {
    "name": "ipython",
    "version": 3
   },
   "file_extension": ".py",
   "mimetype": "text/x-python",
   "name": "python",
   "nbconvert_exporter": "python",
   "pygments_lexer": "ipython3",
   "version": "3.7.6"
  },
  "toc": {
   "base_numbering": 1,
   "nav_menu": {},
   "number_sections": true,
   "sideBar": true,
   "skip_h1_title": false,
   "title_cell": "Table of Contents",
   "title_sidebar": "Contents",
   "toc_cell": false,
   "toc_position": {
    "height": "calc(100% - 180px)",
    "left": "10px",
    "top": "150px",
    "width": "307.2px"
   },
   "toc_section_display": true,
   "toc_window_display": true
  },
  "varInspector": {
   "cols": {
    "lenName": 16,
    "lenType": 16,
    "lenVar": 40
   },
   "kernels_config": {
    "python": {
     "delete_cmd_postfix": "",
     "delete_cmd_prefix": "del ",
     "library": "var_list.py",
     "varRefreshCmd": "print(var_dic_list())"
    },
    "r": {
     "delete_cmd_postfix": ") ",
     "delete_cmd_prefix": "rm(",
     "library": "var_list.r",
     "varRefreshCmd": "cat(var_dic_list()) "
    }
   },
   "types_to_exclude": [
    "module",
    "function",
    "builtin_function_or_method",
    "instance",
    "_Feature"
   ],
   "window_display": false
  }
 },
 "nbformat": 4,
 "nbformat_minor": 4
}
